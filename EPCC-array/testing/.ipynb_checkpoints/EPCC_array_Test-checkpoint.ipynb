{
 "cells": [
  {
   "cell_type": "markdown",
   "metadata": {},
   "source": [
    "# Anomaly detection test|EPCC-array"
   ]
  },
  {
   "cell_type": "markdown",
   "metadata": {},
   "source": [
    "### 1、导入库"
   ]
  },
  {
   "cell_type": "code",
   "execution_count": 183,
   "metadata": {},
   "outputs": [],
   "source": [
    "#引入库\n",
    "import numpy as np\n",
    "import matplotlib.pyplot as plt\n",
    "import pandas as pd\n",
    "import math"
   ]
  },
  {
   "cell_type": "markdown",
   "metadata": {},
   "source": [
    "### 2、序列对齐"
   ]
  },
  {
   "cell_type": "code",
   "execution_count": 184,
   "metadata": {},
   "outputs": [],
   "source": [
    "# 计算曲线拟合R2值\n",
    "\n",
    "from sklearn.metrics import r2_score\n",
    "def caculateMse_R2(x,y,p):\n",
    "    y_pre = [p(i) for i in x]\n",
    "#     mse = get_mse(y, y_pre)  # 0.66\n",
    "    score = r2_score(y, y_pre, multioutput='raw_values')\n",
    "#     print(score[0])\n",
    "    return score[0]\n",
    "\n",
    "\n",
    "# 将单独的x,y对齐合并成list，[[x1,y1],[x2,y2],...,[xn,yn]]\n",
    "\n",
    "def list_set(x,y):\n",
    "    list=[]\n",
    "    for i in range(0,len(x)):\n",
    "        list.append([x[i],y[i]])\n",
    "    return list\n",
    "\n",
    "# 数据集修整，将短的序列拓展，其值为最后一项。防止拟合过度\n",
    "\n",
    "def data_set_fix(list,x):\n",
    "    n=0;\n",
    "    data=0;\n",
    "    for i in range(0,len(list)):\n",
    "        if n==0:\n",
    "            if list[i][0]==x:\n",
    "                n=1\n",
    "                data=list[i][1]\n",
    "        else:\n",
    "            list[i][1]=data\n",
    "    \n",
    "    return list\n"
   ]
  },
  {
   "cell_type": "code",
   "execution_count": 185,
   "metadata": {},
   "outputs": [],
   "source": [
    "# 单一序列数据对齐算法\n",
    "def align_data_singe(x,y,x1,n):\n",
    "    \n",
    "#     print(\"----------\")\n",
    "    # 曲线拟合,R2小于0.9则重新拟合\n",
    "    while True:\n",
    "        coef = np.polyfit(x,y, n)\n",
    "        poly_fit = np.poly1d(coef)\n",
    "        R2 = caculateMse_R2(x,y,poly_fit)\n",
    "#         print(R2,n)\n",
    "        if n>=19:\n",
    "            break\n",
    "        if R2>0.9:\n",
    "            break\n",
    "        else:\n",
    "            n=n+1 \n",
    "        \n",
    "    \n",
    "    # 数据list\n",
    "    data_set = list_set(x,y)\n",
    "    \n",
    "    # 数据对齐\n",
    "    for i in range(0,len(x1)):\n",
    "         data_set.append([x1[i],poly_fit(x1[i])])\n",
    "    \n",
    "    # 排序\n",
    "    data_set.sort();\n",
    "#     print(\"数据长度\",len(data_set))\n",
    "    \n",
    "    # 返回序列\n",
    "#     print(\"----------\")\n",
    "    return data_set\n",
    "    \n",
    "    \n",
    "# 双序列数据对其\n",
    "def align_data(x1,y1,x2,y2):\n",
    "    timeseries1 = align_data_singe(x1,y1,x2,6)\n",
    "    timeseries2 = align_data_singe(x2,y2,x1,6)\n",
    "    \n",
    "    \n",
    "    \n",
    "    # 数据修整（短数据向长数据对齐时，为当前尾均值）\n",
    "    if(len(x1)>len(x2)):\n",
    "        timeseries2 = data_set_fix(timeseries2,x2[-1])\n",
    "    else:\n",
    "        timeseries1 = data_set_fix(timeseries1,x1[-1])\n",
    "    \n",
    "    return timeseries1,timeseries2"
   ]
  },
  {
   "cell_type": "markdown",
   "metadata": {},
   "source": [
    "### 3、序列属性及特征评估算法"
   ]
  },
  {
   "cell_type": "code",
   "execution_count": 186,
   "metadata": {},
   "outputs": [],
   "source": [
    "# DTW距离\n",
    "\n",
    "# 计算权重\n",
    "def calculate_attenuate_weight(seqLen1, seqLen2, com_ls):\n",
    "    weight = 0\n",
    "    for comlen in com_ls:\n",
    "        weight = weight + comlen / seqLen1 * comlen / seqLen2\n",
    "    return 1 - weight\n",
    "\n",
    "\n",
    "# DTW距离\n",
    "def DTWDistance(s1, s2):\n",
    "    # 取较大的标准差\n",
    "    sdt = np.std(s1, ddof=1) if np.std(s1, ddof=1) > np.std(s2, ddof=1) else np.std(s2, ddof=1)\n",
    "    # print(\"两个序列最大标准差:\" + str(sdt))\n",
    "    l1 = len(s1)\n",
    "    l2 = len(s2)\n",
    "    paths = np.full((l1 + 1, l2 + 1), np.inf)  # 全部赋予无穷大\n",
    "    sub_matrix = np.full((l1, l2), 0)  # 全部赋予0\n",
    "    max_sub_len = 0\n",
    "\n",
    "    paths[0, 0] = 0\n",
    "    for i in range(l1):\n",
    "        for j in range(l2):\n",
    "            d = s1[i] - s2[j]\n",
    "            cost = d ** 2\n",
    "            paths[i + 1, j + 1] = cost + min(paths[i, j + 1], paths[i + 1, j], paths[i, j])\n",
    "            if np.abs(s1[i] - s2[j]) < sdt:\n",
    "                if i == 0 or j == 0:\n",
    "                    sub_matrix[i][j] = 1\n",
    "                else:\n",
    "                    sub_matrix[i][j] = sub_matrix[i - 1][j - 1] + 1\n",
    "                    max_sub_len = sub_matrix[i][j] if sub_matrix[i][j] > max_sub_len else max_sub_len\n",
    "\n",
    "    paths = np.sqrt(paths)\n",
    "    s = paths[l1, l2]\n",
    "\n",
    "    return s\n"
   ]
  },
  {
   "cell_type": "code",
   "execution_count": 187,
   "metadata": {},
   "outputs": [],
   "source": [
    "#LB_Keogh\n",
    "\n",
    "def LB_Keogh(s1,s2,r):\n",
    "    LB_sum=0\n",
    "    for ind,i in enumerate(s1):\n",
    "        \n",
    "        lower_bound=min(s2[(ind-r if ind-r>=0 else 0):(ind+r)])\n",
    "        upper_bound=max(s2[(ind-r if ind-r>=0 else 0):(ind+r)])\n",
    "        \n",
    "        if i>upper_bound:\n",
    "            LB_sum=LB_sum+(i-upper_bound)**2\n",
    "        elif i<lower_bound:\n",
    "            LB_sum=LB_sum+(i-lower_bound)**2\n",
    "    \n",
    "    return math.sqrt(LB_sum)"
   ]
  },
  {
   "cell_type": "code",
   "execution_count": 188,
   "metadata": {},
   "outputs": [],
   "source": [
    "# 相似度规整\n",
    "def Dtw_LB_conter(data1,data2,r):\n",
    "    l=LB_Keogh(data1,data2,r)+DTWDistance(data1,data2)\n",
    "    return l/2\n",
    "\n",
    "def getMin(a,b):\n",
    "    if a<b:\n",
    "        return a\n",
    "    else:\n",
    "        return b"
   ]
  },
  {
   "cell_type": "code",
   "execution_count": 189,
   "metadata": {},
   "outputs": [],
   "source": [
    "# 基于滑动窗口的基础数据评分\n",
    "def timeseries_score(s1,s2,w,r):\n",
    "    # s1序列1，s2序列2，w普通滑窗大小,r斜率滑窗大小\n",
    "    \n",
    "    \n",
    "    # 时间比\n",
    "    time_s1_s2 = s2[0][len(s2[0])-1]/s1[0][len(s1[0])-1]\n",
    "#     print(\"s2:\",s2[0][len(s2[0])-1])\n",
    "#     print(\"s1:\",s1[0][len(s1[0])-1])\n",
    "#     print(s2[0][len(s2[0])-1]/s1[0][len(s1[0])-1])\n",
    "    \n",
    "    # 滑窗时间比\n",
    "    time_sum=0;\n",
    "    for i in range(math.ceil(len(s1[0])/w)):\n",
    "        s1_time = sum(s1[0][i:i+w])\n",
    "        s2_time = sum(s2[0][i:i+w])\n",
    "        i=i+w\n",
    "        time_sum =time_sum + s2_time/s1_time    \n",
    "\n",
    "    time_sum = time_sum/math.ceil(len(s1[0])/w)\n",
    "#     print(time_sum)\n",
    "    \n",
    "    \n",
    "    # 均值比\n",
    "    heartbeat_s1 = (sum(s1[1])/len(s1[1]))\n",
    "    heartbeat_s1_s2 = sum(s2[1])/len(s2[1])/(sum(s1[1])/len(s1[1]))\n",
    "#     print(sum(s2[1])/len(s2[1])/(sum(s1[1])/len(s1[1])))\n",
    "    \n",
    "    # 滑窗均值比\n",
    "    heartbeat_sum=0;\n",
    "    for i in range(math.ceil(len(s1[1])/w)):\n",
    "        s1_heartbeat = sum(s1[1][i:i+w])\n",
    "        s2_heartbeat = sum(s2[1][i:i+w])\n",
    "        i=i+w\n",
    "        heartbeat_sum =heartbeat_sum + s2_heartbeat/s1_heartbeat    \n",
    "\n",
    "    heartbeat_sum = heartbeat_sum/math.ceil(len(s1[1])/w)\n",
    "#     print(heartbeat_sum)\n",
    "    \n",
    "    # 滑窗斜率比\n",
    "    slope_sum=0;\n",
    "    for i in range(math.ceil(getMin(len(s1[1])/r,len(s2[1])/r))):\n",
    "        \n",
    "        k=i+r\n",
    "        if(k>len(s1[1])):\n",
    "            k=len(s1[1])  \n",
    "        \n",
    "        s1_slope = (s1[1][i]-s1[1][k])/(s1[0][i]-s1[0][k])\n",
    "        s2_slope = (s2[1][i]-s2[1][k])/(s2[0][i]-s2[0][k])\n",
    "#         print(abs(s2_slope/s1_slope) )\n",
    "        \n",
    "        i=i+r\n",
    "        slope_sum =slope_sum + abs(s2_slope/s1_slope)    \n",
    "\n",
    "    slope_sum = slope_sum/math.ceil(math.ceil(len(s1[1])/r))\n",
    "#     print(slope_sum)\n",
    "\n",
    "    return [time_s1_s2,time_sum,heartbeat_s1,heartbeat_s1_s2,heartbeat_sum,slope_sum]"
   ]
  },
  {
   "cell_type": "code",
   "execution_count": 190,
   "metadata": {},
   "outputs": [],
   "source": [
    "def similar_all(x1,y1,x2,y2,tS1,tS2):\n",
    "    x_p1 =[ tS1[i][0] for i in range(0,len(tS1))]\n",
    "    y_p1 =[ tS1[i][1] for i in range(0,len(tS1))]\n",
    "    x_p2 =[ tS2[i][0] for i in range(0,len(tS2))]\n",
    "    y_p2 =[ tS2[i][1] for i in range(0,len(tS2))]\n",
    "    \n",
    "    feature = timeseries_score([x1,y1],[x2,y2],20,5)\n",
    "    distent = Dtw_LB_conter(y_p1,y_p2,100)\n",
    "          \n",
    "    return feature,distent"
   ]
  },
  {
   "cell_type": "markdown",
   "metadata": {},
   "source": [
    "### 4、异常检测函数"
   ]
  },
  {
   "cell_type": "code",
   "execution_count": 191,
   "metadata": {},
   "outputs": [],
   "source": [
    "# 异常检测\n",
    "#min_time_standard = 0.9146293\n",
    "#max_time_standard = 1.0933390\n",
    "#min_hr_standard = 0.88794\n",
    "#max_hr_standard = 1.12624\n",
    "\n",
    "min_time_standard = 0.301360\n",
    "max_time_standard = 1.174210\n",
    "min_hr_standard   = 0.939896\n",
    "max_hr_standard   = 1.176537\n",
    "\n",
    "\n",
    "# 特征检测，1表示异常\n",
    "def distent_check(h_distence):\n",
    "    #h_standard = 415361526.2198037;\n",
    "    h_standard = 5443018983.199334\n",
    "    if h_distence<h_standard:\n",
    "        return 2;\n",
    "    else:\n",
    "        return 1;\n",
    "    \n",
    "\n",
    "def dataseries_check(feature):\n",
    "    \n",
    "    #----------------------------------------\n",
    "    # 时间关系\n",
    "    time_check={}\n",
    "    if feature[0]>min_time_standard*0.9 and feature[0]<max_time_standard*1.1:\n",
    "        # 正常\n",
    "        time_check[0]=2\n",
    "    else:\n",
    "        # 异常,忙等、死锁、资源竞争\n",
    "        time_check[0]=1\n",
    "    \n",
    "    # 局部时间与整体时间关系：\n",
    "    if feature[0]/feature[1]>0.90:\n",
    "        # 正常\n",
    "        time_check[1]=2\n",
    "    else:\n",
    "        # 异常，局部异常较大\n",
    "        time_check[1]=1\n",
    "    \n",
    "   #-------------------------------------------- \n",
    "   # 心率均值\n",
    "    heart={}\n",
    "    if feature[3]>min_hr_standard*0.9 and feature[3]<max_hr_standard*1.1 :\n",
    "        # 正常\n",
    "        heart[0]=2\n",
    "    else:\n",
    "        # 异常，内存泄漏|忙等\n",
    "        heart[0]=1\n",
    "    \n",
    "    if feature[3]/feature[4]>0.90:\n",
    "        # 正常\n",
    "        heart[1]=2\n",
    "    else:\n",
    "        # 异常，局部异常较大\n",
    "        heart[1]=1\n",
    "    \n",
    "     #-------------------------------------------- \n",
    "    return [time_check,heart]"
   ]
  },
  {
   "cell_type": "code",
   "execution_count": 192,
   "metadata": {},
   "outputs": [],
   "source": [
    "def judge(feature):\n",
    "    \n",
    "    judge_distence = distent_check(feature[1])\n",
    "    judge_dataseries = dataseries_check(feature[0])\n",
    "#     print(\"distence:\",judge_distence)\n",
    "#     print(\"series:\",judge_dataseries)\n",
    "\n",
    "    \n",
    "    assis=0;\n",
    "    check=0;\n",
    "    # 0:正常\n",
    "    # 1：内存泄漏|忙等\n",
    "    # 2：死锁，资源竞争|中断\n",
    "    \n",
    "    # 距离在正常范围内，进入辅助判别\n",
    "    print(\"judge_distence = \"+str(judge_distence))\n",
    "    print(judge_dataseries)\n",
    "    if(judge_distence==2):\n",
    "        t=0\n",
    "        # 平均时间比值\n",
    "        print(\"judge_dataseries[0][0]:\"+str(judge_dataseries[0][0]))\n",
    "        print(\"feature[0][0]\"+str(feature[0][0]))\n",
    "        print(\"min_time_standard\"+str(min_time_standard))  \n",
    "        print(\"judge_dataseries[0][0]\",judge_dataseries[0][0])\n",
    "        if judge_dataseries[0][0] == 1 and feature[0][0]<min_time_standard*0.9:\n",
    "            t=2\n",
    "            check=2\n",
    "            if judge_dataseries[0][1]==1:\n",
    "                assis=1;\n",
    "        print(\"feature[0][0] = \"+str(feature[0][0]))\n",
    "        # 平均心率比值    \n",
    "        if judge_dataseries[1][0]==1 and  t!=2 and feature[0][0]>max_time_standard*1.1:\n",
    "            check=1\n",
    "            if judge_dataseries[1][1]==1:\n",
    "                assis=1;\n",
    "    \n",
    "    # 距离在不正常范围内，辅助判别\n",
    "    elif judge_distence==1:\n",
    "        t=0\n",
    "        check=1\n",
    "        if judge_dataseries[0][0]==1 and feature[0][0]<min_time_standard*0.9:\n",
    "            check=2\n",
    "            t=2\n",
    "            if judge_dataseries[0][1]==1:\n",
    "                assis=1;\n",
    "        print(\"feature[0][0]\"+str(feature[0][0]))\n",
    "        print(\"max_time_standard\"+str(max_time_standard))  \n",
    "        if judge_dataseries[1][0]==1 and t!=2 and feature[0][0]>max_time_standard*1.1:\n",
    "            if t==1:\n",
    "                check=1\n",
    "            if judge_dataseries[1][1]==1:\n",
    "                assis=1;    \n",
    "    \n",
    "    #-------------------------------------------------\n",
    "#   print(check,assis)\n",
    "    if(check==0 and assis==0):\n",
    "        print(\"正常：\",\"两线程序列吻合度高，线程状态正常\")\n",
    "    elif(check==0 and assis==1):\n",
    "        print(\"正常：\",\"两线程序列吻合度高，线程状态正常,但局部震荡较严重\")\n",
    "    elif(check==1 and assis==0):\n",
    "        print(\"内存泄漏：\",\"两线程序列吻合度低，线程状态异常，为内存泄漏\")\n",
    "    elif(check==1 and assis==1):\n",
    "        print(\"内存泄漏：\",\"两线程序列吻合度低，线程状态异常，为内存泄漏,且线程局部震荡较严重\")    \n",
    "    elif(check==2 and assis==0):\n",
    "        print(\"中断：\",\"两线程序列吻合度低，线程状态异常，为中断执行\")\n",
    "    elif(check==2 and assis==1):\n",
    "        print(\"中断：\",\"两线程序列吻合度低，线程状态异常，为中断执行,且线程局部震荡较严重\")\n",
    "    return [check,assis]\n",
    "    "
   ]
  },
  {
   "cell_type": "markdown",
   "metadata": {},
   "source": [
    "### 5、实验"
   ]
  },
  {
   "cell_type": "markdown",
   "metadata": {},
   "source": [
    "#### 5.1 导入数据"
   ]
  },
  {
   "cell_type": "code",
   "execution_count": 193,
   "metadata": {},
   "outputs": [],
   "source": [
    "data = pd.read_excel('./data7_epcc_array_string/arraybench_std_normal_1.xlsx',hearder=None,sheet_name=None)\n",
    "# 数据x\n",
    "x = data['1']['0.3'].copy()[0:999]\n",
    "# 数据y\n",
    "y = data['1']['0.4'].copy()[0:999]\n",
    "# 转成array\n",
    "x = np.array(x)\n",
    "y = np.array(y)"
   ]
  },
  {
   "cell_type": "code",
   "execution_count": 194,
   "metadata": {},
   "outputs": [
    {
     "data": {
      "text/plain": [
       "33"
      ]
     },
     "execution_count": 194,
     "metadata": {},
     "output_type": "execute_result"
    }
   ],
   "source": [
    "normal = pd.read_excel('./data7_epcc_array_string/arraybench_std_normal.xlsx',hearder=None,sheet_name=None)\n",
    "len(normal)"
   ]
  },
  {
   "cell_type": "code",
   "execution_count": 195,
   "metadata": {},
   "outputs": [
    {
     "name": "stderr",
     "output_type": "stream",
     "text": [
      "/home/wwd/anaconda3/lib/python3.7/site-packages/matplotlib/backends/backend_agg.py:211: RuntimeWarning: Glyph 27979 missing from current font.\n",
      "  font.set_text(s, 0.0, flags=flags)\n",
      "/home/wwd/anaconda3/lib/python3.7/site-packages/matplotlib/backends/backend_agg.py:211: RuntimeWarning: Glyph 35797 missing from current font.\n",
      "  font.set_text(s, 0.0, flags=flags)\n",
      "/home/wwd/anaconda3/lib/python3.7/site-packages/matplotlib/backends/backend_agg.py:211: RuntimeWarning: Glyph 24207 missing from current font.\n",
      "  font.set_text(s, 0.0, flags=flags)\n",
      "/home/wwd/anaconda3/lib/python3.7/site-packages/matplotlib/backends/backend_agg.py:211: RuntimeWarning: Glyph 21015 missing from current font.\n",
      "  font.set_text(s, 0.0, flags=flags)\n",
      "/home/wwd/anaconda3/lib/python3.7/site-packages/matplotlib/backends/backend_agg.py:180: RuntimeWarning: Glyph 27979 missing from current font.\n",
      "  font.set_text(s, 0, flags=flags)\n",
      "/home/wwd/anaconda3/lib/python3.7/site-packages/matplotlib/backends/backend_agg.py:180: RuntimeWarning: Glyph 35797 missing from current font.\n",
      "  font.set_text(s, 0, flags=flags)\n",
      "/home/wwd/anaconda3/lib/python3.7/site-packages/matplotlib/backends/backend_agg.py:180: RuntimeWarning: Glyph 24207 missing from current font.\n",
      "  font.set_text(s, 0, flags=flags)\n",
      "/home/wwd/anaconda3/lib/python3.7/site-packages/matplotlib/backends/backend_agg.py:180: RuntimeWarning: Glyph 21015 missing from current font.\n",
      "  font.set_text(s, 0, flags=flags)\n"
     ]
    },
    {
     "data": {
      "image/png": "[encoded data removed]",
      "text/plain": [
       "<Figure size 720x360 with 1 Axes>"
      ]
     },
     "metadata": {
      "needs_background": "light"
     },
     "output_type": "display_data"
    }
   ],
   "source": [
    "plt.figure(figsize=(10,5))\n",
    "data = pd.read_excel('./data7_epcc_array_string/arraybench_std_normal.xlsx',hearder=None,sheet_name=None)\n",
    "k=1 \n",
    "for i in data: \n",
    "    x6 = data[i]['0.3'].copy()[0:999]\n",
    "    y6 = data[i]['0.4'].copy()[0:999]\n",
    "    label_name = '测试序列'+str(k)\n",
    "    plt.plot(x6,y6,label=label_name)\n",
    "    k = k+1\n",
    "plt.xlabel('Time/us',fontsize=14)\n",
    "plt.ylabel('Hearrate/HZ',fontsize=14)\n",
    "plt.legend(loc=0,ncol=3,borderaxespad=0.5)   \n",
    "plt.show()"
   ]
  },
  {
   "cell_type": "markdown",
   "metadata": {},
   "source": [
    "#### 5.2 正常实验"
   ]
  },
  {
   "cell_type": "code",
   "execution_count": 196,
   "metadata": {
    "scrolled": true
   },
   "outputs": [
    {
     "name": "stdout",
     "output_type": "stream",
     "text": [
      "进行至序列号：1：\n",
      "judge_distence = 2\n",
      "[{0: 2, 1: 2}, {0: 2, 1: 2}]\n",
      "judge_dataseries[0][0]:2\n",
      "feature[0][0]1.0\n",
      "min_time_standard0.30136\n",
      "judge_dataseries[0][0] 2\n",
      "feature[0][0] = 1.0\n",
      "正常： 两线程序列吻合度高，线程状态正常\n",
      "进行至序列号：2：\n",
      "judge_distence = 2\n",
      "[{0: 2, 1: 2}, {0: 2, 1: 2}]\n",
      "judge_dataseries[0][0]:2\n",
      "feature[0][0]1.0006984881398966\n",
      "min_time_standard0.30136\n",
      "judge_dataseries[0][0] 2\n",
      "feature[0][0] = 1.0006984881398966\n",
      "正常： 两线程序列吻合度高，线程状态正常\n",
      "进行至序列号：3：\n",
      "judge_distence = 2\n",
      "[{0: 2, 1: 2}, {0: 2, 1: 2}]\n",
      "judge_dataseries[0][0]:2\n",
      "feature[0][0]0.9999844078428793\n",
      "min_time_standard0.30136\n",
      "judge_dataseries[0][0] 2\n",
      "feature[0][0] = 0.9999844078428793\n",
      "正常： 两线程序列吻合度高，线程状态正常\n",
      "进行至序列号：4：\n",
      "judge_distence = 2\n",
      "[{0: 2, 1: 2}, {0: 2, 1: 2}]\n",
      "judge_dataseries[0][0]:2\n",
      "feature[0][0]0.9999844078428793\n",
      "min_time_standard0.30136\n",
      "judge_dataseries[0][0] 2\n",
      "feature[0][0] = 0.9999844078428793\n",
      "正常： 两线程序列吻合度高，线程状态正常\n",
      "进行至序列号：5：\n",
      "judge_distence = 2\n",
      "[{0: 2, 1: 2}, {0: 2, 1: 1}]\n",
      "judge_dataseries[0][0]:2\n",
      "feature[0][0]1.174177516749318\n",
      "min_time_standard0.30136\n",
      "judge_dataseries[0][0] 2\n",
      "feature[0][0] = 1.174177516749318\n",
      "正常： 两线程序列吻合度高，线程状态正常\n",
      "进行至序列号：6：\n",
      "judge_distence = 2\n",
      "[{0: 2, 1: 2}, {0: 2, 1: 1}]\n",
      "judge_dataseries[0][0]:2\n",
      "feature[0][0]1.1741840776050414\n",
      "min_time_standard0.30136\n",
      "judge_dataseries[0][0] 2\n",
      "feature[0][0] = 1.1741840776050414\n",
      "正常： 两线程序列吻合度高，线程状态正常\n",
      "进行至序列号：7：\n",
      "judge_distence = 2\n",
      "[{0: 2, 1: 2}, {0: 2, 1: 1}]\n",
      "judge_dataseries[0][0]:2\n",
      "feature[0][0]1.1741769497617862\n",
      "min_time_standard0.30136\n",
      "judge_dataseries[0][0] 2\n",
      "feature[0][0] = 1.1741769497617862\n",
      "正常： 两线程序列吻合度高，线程状态正常\n",
      "进行至序列号：8：\n",
      "judge_distence = 2\n",
      "[{0: 2, 1: 2}, {0: 2, 1: 1}]\n",
      "judge_dataseries[0][0]:2\n",
      "feature[0][0]1.1741921774269224\n",
      "min_time_standard0.30136\n",
      "judge_dataseries[0][0] 2\n",
      "feature[0][0] = 1.1741921774269224\n",
      "正常： 两线程序列吻合度高，线程状态正常\n",
      "进行至序列号：9：\n"
     ]
    },
    {
     "name": "stderr",
     "output_type": "stream",
     "text": [
      "/home/wwd/anaconda3/lib/python3.7/site-packages/ipykernel_launcher.py:38: RankWarning: Polyfit may be poorly conditioned\n",
      "/home/wwd/anaconda3/lib/python3.7/site-packages/ipykernel_launcher.py:38: RankWarning: Polyfit may be poorly conditioned\n"
     ]
    },
    {
     "name": "stdout",
     "output_type": "stream",
     "text": [
      "judge_distence = 2\n",
      "[{0: 2, 1: 2}, {0: 2, 1: 1}]\n",
      "judge_dataseries[0][0]:2\n",
      "feature[0][0]0.9713618647669129\n",
      "min_time_standard0.30136\n",
      "judge_dataseries[0][0] 2\n",
      "feature[0][0] = 0.9713618647669129\n",
      "正常： 两线程序列吻合度高，线程状态正常\n",
      "进行至序列号：10：\n"
     ]
    },
    {
     "name": "stderr",
     "output_type": "stream",
     "text": [
      "/home/wwd/anaconda3/lib/python3.7/site-packages/ipykernel_launcher.py:38: RankWarning: Polyfit may be poorly conditioned\n",
      "/home/wwd/anaconda3/lib/python3.7/site-packages/ipykernel_launcher.py:38: RankWarning: Polyfit may be poorly conditioned\n"
     ]
    },
    {
     "name": "stdout",
     "output_type": "stream",
     "text": [
      "judge_distence = 2\n",
      "[{0: 2, 1: 2}, {0: 2, 1: 1}]\n",
      "judge_dataseries[0][0]:2\n",
      "feature[0][0]0.9718200311916041\n",
      "min_time_standard0.30136\n",
      "judge_dataseries[0][0] 2\n",
      "feature[0][0] = 0.9718200311916041\n",
      "正常： 两线程序列吻合度高，线程状态正常\n",
      "进行至序列号：11：\n"
     ]
    },
    {
     "name": "stderr",
     "output_type": "stream",
     "text": [
      "/home/wwd/anaconda3/lib/python3.7/site-packages/ipykernel_launcher.py:38: RankWarning: Polyfit may be poorly conditioned\n",
      "/home/wwd/anaconda3/lib/python3.7/site-packages/ipykernel_launcher.py:38: RankWarning: Polyfit may be poorly conditioned\n"
     ]
    },
    {
     "name": "stdout",
     "output_type": "stream",
     "text": [
      "judge_distence = 2\n",
      "[{0: 2, 1: 2}, {0: 2, 1: 1}]\n",
      "judge_dataseries[0][0]:2\n",
      "feature[0][0]0.9713518209877806\n",
      "min_time_standard0.30136\n",
      "judge_dataseries[0][0] 2\n",
      "feature[0][0] = 0.9713518209877806\n",
      "正常： 两线程序列吻合度高，线程状态正常\n",
      "进行至序列号：12：\n"
     ]
    },
    {
     "name": "stderr",
     "output_type": "stream",
     "text": [
      "/home/wwd/anaconda3/lib/python3.7/site-packages/ipykernel_launcher.py:38: RankWarning: Polyfit may be poorly conditioned\n",
      "/home/wwd/anaconda3/lib/python3.7/site-packages/ipykernel_launcher.py:38: RankWarning: Polyfit may be poorly conditioned\n"
     ]
    },
    {
     "name": "stdout",
     "output_type": "stream",
     "text": [
      "judge_distence = 2\n",
      "[{0: 2, 1: 2}, {0: 2, 1: 1}]\n",
      "judge_dataseries[0][0]:2\n",
      "feature[0][0]0.9713453816293853\n",
      "min_time_standard0.30136\n",
      "judge_dataseries[0][0] 2\n",
      "feature[0][0] = 0.9713453816293853\n",
      "正常： 两线程序列吻合度高，线程状态正常\n",
      "进行至序列号：13：\n"
     ]
    },
    {
     "name": "stderr",
     "output_type": "stream",
     "text": [
      "/home/wwd/anaconda3/lib/python3.7/site-packages/ipykernel_launcher.py:38: RankWarning: Polyfit may be poorly conditioned\n",
      "/home/wwd/anaconda3/lib/python3.7/site-packages/ipykernel_launcher.py:38: RankWarning: Polyfit may be poorly conditioned\n"
     ]
    },
    {
     "name": "stdout",
     "output_type": "stream",
     "text": [
      "judge_distence = 2\n",
      "[{0: 2, 1: 2}, {0: 2, 1: 1}]\n",
      "judge_dataseries[0][0]:2\n",
      "feature[0][0]1.1718771268360424\n",
      "min_time_standard0.30136\n",
      "judge_dataseries[0][0] 2\n",
      "feature[0][0] = 1.1718771268360424\n",
      "正常： 两线程序列吻合度高，线程状态正常\n",
      "进行至序列号：14：\n"
     ]
    },
    {
     "name": "stderr",
     "output_type": "stream",
     "text": [
      "/home/wwd/anaconda3/lib/python3.7/site-packages/ipykernel_launcher.py:38: RankWarning: Polyfit may be poorly conditioned\n",
      "/home/wwd/anaconda3/lib/python3.7/site-packages/ipykernel_launcher.py:38: RankWarning: Polyfit may be poorly conditioned\n"
     ]
    },
    {
     "name": "stdout",
     "output_type": "stream",
     "text": [
      "judge_distence = 2\n",
      "[{0: 2, 1: 2}, {0: 2, 1: 1}]\n",
      "judge_dataseries[0][0]:2\n",
      "feature[0][0]1.1718804882621228\n",
      "min_time_standard0.30136\n",
      "judge_dataseries[0][0] 2\n",
      "feature[0][0] = 1.1718804882621228\n",
      "正常： 两线程序列吻合度高，线程状态正常\n",
      "进行至序列号：15：\n",
      "judge_distence = 2\n",
      "[{0: 2, 1: 2}, {0: 2, 1: 1}]\n",
      "judge_dataseries[0][0]:2\n",
      "feature[0][0]1.1729377985113418\n",
      "min_time_standard0.30136\n",
      "judge_dataseries[0][0] 2\n",
      "feature[0][0] = 1.1729377985113418\n",
      "正常： 两线程序列吻合度高，线程状态正常\n",
      "进行至序列号：16：\n"
     ]
    },
    {
     "name": "stderr",
     "output_type": "stream",
     "text": [
      "/home/wwd/anaconda3/lib/python3.7/site-packages/ipykernel_launcher.py:38: RankWarning: Polyfit may be poorly conditioned\n",
      "/home/wwd/anaconda3/lib/python3.7/site-packages/ipykernel_launcher.py:38: RankWarning: Polyfit may be poorly conditioned\n"
     ]
    },
    {
     "name": "stdout",
     "output_type": "stream",
     "text": [
      "judge_distence = 2\n",
      "[{0: 2, 1: 2}, {0: 2, 1: 1}]\n",
      "judge_dataseries[0][0]:2\n",
      "feature[0][0]1.1718638431281576\n",
      "min_time_standard0.30136\n",
      "judge_dataseries[0][0] 2\n",
      "feature[0][0] = 1.1718638431281576\n",
      "正常： 两线程序列吻合度高，线程状态正常\n",
      "进行至序列号：17：\n"
     ]
    },
    {
     "name": "stderr",
     "output_type": "stream",
     "text": [
      "/home/wwd/anaconda3/lib/python3.7/site-packages/ipykernel_launcher.py:38: RankWarning: Polyfit may be poorly conditioned\n",
      "/home/wwd/anaconda3/lib/python3.7/site-packages/ipykernel_launcher.py:38: RankWarning: Polyfit may be poorly conditioned\n"
     ]
    },
    {
     "name": "stdout",
     "output_type": "stream",
     "text": [
      "judge_distence = 2\n",
      "[{0: 2, 1: 2}, {0: 2, 1: 1}]\n",
      "judge_dataseries[0][0]:2\n",
      "feature[0][0]0.9601258323528836\n",
      "min_time_standard0.30136\n",
      "judge_dataseries[0][0] 2\n",
      "feature[0][0] = 0.9601258323528836\n",
      "正常： 两线程序列吻合度高，线程状态正常\n",
      "进行至序列号：18：\n"
     ]
    },
    {
     "name": "stderr",
     "output_type": "stream",
     "text": [
      "/home/wwd/anaconda3/lib/python3.7/site-packages/ipykernel_launcher.py:38: RankWarning: Polyfit may be poorly conditioned\n",
      "/home/wwd/anaconda3/lib/python3.7/site-packages/ipykernel_launcher.py:38: RankWarning: Polyfit may be poorly conditioned\n"
     ]
    },
    {
     "name": "stdout",
     "output_type": "stream",
     "text": [
      "judge_distence = 2\n",
      "[{0: 2, 1: 2}, {0: 2, 1: 1}]\n",
      "judge_dataseries[0][0]:2\n",
      "feature[0][0]1.078844516669656\n",
      "min_time_standard0.30136\n",
      "judge_dataseries[0][0] 2\n",
      "feature[0][0] = 1.078844516669656\n",
      "正常： 两线程序列吻合度高，线程状态正常\n",
      "进行至序列号：19：\n"
     ]
    },
    {
     "name": "stderr",
     "output_type": "stream",
     "text": [
      "/home/wwd/anaconda3/lib/python3.7/site-packages/ipykernel_launcher.py:38: RankWarning: Polyfit may be poorly conditioned\n",
      "/home/wwd/anaconda3/lib/python3.7/site-packages/ipykernel_launcher.py:38: RankWarning: Polyfit may be poorly conditioned\n"
     ]
    },
    {
     "name": "stdout",
     "output_type": "stream",
     "text": [
      "judge_distence = 2\n",
      "[{0: 2, 1: 2}, {0: 2, 1: 1}]\n",
      "judge_dataseries[0][0]:2\n",
      "feature[0][0]1.0788165722841672\n",
      "min_time_standard0.30136\n",
      "judge_dataseries[0][0] 2\n",
      "feature[0][0] = 1.0788165722841672\n",
      "正常： 两线程序列吻合度高，线程状态正常\n",
      "进行至序列号：20：\n"
     ]
    },
    {
     "name": "stderr",
     "output_type": "stream",
     "text": [
      "/home/wwd/anaconda3/lib/python3.7/site-packages/ipykernel_launcher.py:38: RankWarning: Polyfit may be poorly conditioned\n",
      "/home/wwd/anaconda3/lib/python3.7/site-packages/ipykernel_launcher.py:38: RankWarning: Polyfit may be poorly conditioned\n"
     ]
    },
    {
     "name": "stdout",
     "output_type": "stream",
     "text": [
      "judge_distence = 2\n",
      "[{0: 2, 1: 2}, {0: 2, 1: 1}]\n",
      "judge_dataseries[0][0]:2\n",
      "feature[0][0]1.0788473921064239\n",
      "min_time_standard0.30136\n",
      "judge_dataseries[0][0] 2\n",
      "feature[0][0] = 1.0788473921064239\n",
      "正常： 两线程序列吻合度高，线程状态正常\n",
      "进行至序列号：21：\n"
     ]
    },
    {
     "name": "stderr",
     "output_type": "stream",
     "text": [
      "/home/wwd/anaconda3/lib/python3.7/site-packages/ipykernel_launcher.py:38: RankWarning: Polyfit may be poorly conditioned\n",
      "/home/wwd/anaconda3/lib/python3.7/site-packages/ipykernel_launcher.py:38: RankWarning: Polyfit may be poorly conditioned\n"
     ]
    },
    {
     "name": "stdout",
     "output_type": "stream",
     "text": [
      "judge_distence = 2\n",
      "[{0: 2, 1: 2}, {0: 2, 1: 1}]\n",
      "judge_dataseries[0][0]:2\n",
      "feature[0][0]1.0076440044045212\n",
      "min_time_standard0.30136\n",
      "judge_dataseries[0][0] 2\n",
      "feature[0][0] = 1.0076440044045212\n",
      "正常： 两线程序列吻合度高，线程状态正常\n",
      "进行至序列号：22：\n"
     ]
    },
    {
     "name": "stderr",
     "output_type": "stream",
     "text": [
      "/home/wwd/anaconda3/lib/python3.7/site-packages/ipykernel_launcher.py:38: RankWarning: Polyfit may be poorly conditioned\n",
      "/home/wwd/anaconda3/lib/python3.7/site-packages/ipykernel_launcher.py:38: RankWarning: Polyfit may be poorly conditioned\n"
     ]
    },
    {
     "name": "stdout",
     "output_type": "stream",
     "text": [
      "judge_distence = 2\n",
      "[{0: 2, 1: 2}, {0: 2, 1: 1}]\n",
      "judge_dataseries[0][0]:2\n",
      "feature[0][0]1.0076440044045212\n",
      "min_time_standard0.30136\n",
      "judge_dataseries[0][0] 2\n",
      "feature[0][0] = 1.0076440044045212\n",
      "正常： 两线程序列吻合度高，线程状态正常\n",
      "进行至序列号：23：\n"
     ]
    },
    {
     "name": "stderr",
     "output_type": "stream",
     "text": [
      "/home/wwd/anaconda3/lib/python3.7/site-packages/ipykernel_launcher.py:38: RankWarning: Polyfit may be poorly conditioned\n",
      "/home/wwd/anaconda3/lib/python3.7/site-packages/ipykernel_launcher.py:38: RankWarning: Polyfit may be poorly conditioned\n"
     ]
    },
    {
     "name": "stdout",
     "output_type": "stream",
     "text": [
      "judge_distence = 2\n",
      "[{0: 2, 1: 2}, {0: 2, 1: 1}]\n",
      "judge_dataseries[0][0]:2\n",
      "feature[0][0]1.0076399949926902\n",
      "min_time_standard0.30136\n",
      "judge_dataseries[0][0] 2\n",
      "feature[0][0] = 1.0076399949926902\n",
      "正常： 两线程序列吻合度高，线程状态正常\n",
      "进行至序列号：24：\n",
      "judge_distence = 2\n",
      "[{0: 2, 1: 2}, {0: 2, 1: 1}]\n",
      "judge_dataseries[0][0]:2\n",
      "feature[0][0]1.0083113487292859\n",
      "min_time_standard0.30136\n",
      "judge_dataseries[0][0] 2\n",
      "feature[0][0] = 1.0083113487292859\n",
      "正常： 两线程序列吻合度高，线程状态正常\n",
      "进行至序列号：25：\n"
     ]
    },
    {
     "name": "stderr",
     "output_type": "stream",
     "text": [
      "/home/wwd/anaconda3/lib/python3.7/site-packages/ipykernel_launcher.py:38: RankWarning: Polyfit may be poorly conditioned\n",
      "/home/wwd/anaconda3/lib/python3.7/site-packages/ipykernel_launcher.py:38: RankWarning: Polyfit may be poorly conditioned\n"
     ]
    },
    {
     "name": "stdout",
     "output_type": "stream",
     "text": [
      "judge_distence = 2\n",
      "[{0: 2, 1: 2}, {0: 2, 1: 1}]\n",
      "judge_dataseries[0][0]:2\n",
      "feature[0][0]1.0076557896453577\n",
      "min_time_standard0.30136\n",
      "judge_dataseries[0][0] 2\n",
      "feature[0][0] = 1.0076557896453577\n",
      "正常： 两线程序列吻合度高，线程状态正常\n",
      "进行至序列号：26：\n",
      "judge_distence = 2\n",
      "[{0: 2, 1: 2}, {0: 2, 1: 1}]\n",
      "judge_dataseries[0][0]:2\n",
      "feature[0][0]0.9621172545605136\n",
      "min_time_standard0.30136\n",
      "judge_dataseries[0][0] 2\n",
      "feature[0][0] = 0.9621172545605136\n",
      "正常： 两线程序列吻合度高，线程状态正常\n",
      "进行至序列号：27：\n",
      "judge_distence = 2\n",
      "[{0: 2, 1: 2}, {0: 2, 1: 1}]\n",
      "judge_dataseries[0][0]:2\n",
      "feature[0][0]0.9620734750232475\n",
      "min_time_standard0.30136\n",
      "judge_dataseries[0][0] 2\n",
      "feature[0][0] = 0.9620734750232475\n",
      "正常： 两线程序列吻合度高，线程状态正常\n",
      "进行至序列号：28：\n",
      "judge_distence = 2\n",
      "[{0: 2, 1: 2}, {0: 2, 1: 1}]\n",
      "judge_dataseries[0][0]:2\n",
      "feature[0][0]0.9622884847950751\n",
      "min_time_standard0.30136\n",
      "judge_dataseries[0][0] 2\n",
      "feature[0][0] = 0.9622884847950751\n",
      "正常： 两线程序列吻合度高，线程状态正常\n",
      "进行至序列号：29：\n",
      "judge_distence = 2\n",
      "[{0: 2, 1: 2}, {0: 2, 1: 1}]\n",
      "judge_dataseries[0][0]:2\n",
      "feature[0][0]0.9620681696399155\n",
      "min_time_standard0.30136\n",
      "judge_dataseries[0][0] 2\n",
      "feature[0][0] = 0.9620681696399155\n",
      "正常： 两线程序列吻合度高，线程状态正常\n",
      "进行至序列号：30：\n"
     ]
    },
    {
     "name": "stderr",
     "output_type": "stream",
     "text": [
      "/home/wwd/anaconda3/lib/python3.7/site-packages/ipykernel_launcher.py:38: RankWarning: Polyfit may be poorly conditioned\n",
      "/home/wwd/anaconda3/lib/python3.7/site-packages/ipykernel_launcher.py:38: RankWarning: Polyfit may be poorly conditioned\n"
     ]
    },
    {
     "name": "stdout",
     "output_type": "stream",
     "text": [
      "judge_distence = 2\n",
      "[{0: 2, 1: 2}, {0: 2, 1: 1}]\n",
      "judge_dataseries[0][0]:2\n",
      "feature[0][0]1.2864770922255033\n",
      "min_time_standard0.30136\n",
      "judge_dataseries[0][0] 2\n",
      "feature[0][0] = 1.2864770922255033\n",
      "正常： 两线程序列吻合度高，线程状态正常\n",
      "进行至序列号：31：\n"
     ]
    },
    {
     "name": "stderr",
     "output_type": "stream",
     "text": [
      "/home/wwd/anaconda3/lib/python3.7/site-packages/ipykernel_launcher.py:38: RankWarning: Polyfit may be poorly conditioned\n",
      "/home/wwd/anaconda3/lib/python3.7/site-packages/ipykernel_launcher.py:38: RankWarning: Polyfit may be poorly conditioned\n"
     ]
    },
    {
     "name": "stdout",
     "output_type": "stream",
     "text": [
      "judge_distence = 2\n",
      "[{0: 2, 1: 2}, {0: 2, 1: 1}]\n",
      "judge_dataseries[0][0]:2\n",
      "feature[0][0]1.2864563566814884\n",
      "min_time_standard0.30136\n",
      "judge_dataseries[0][0] 2\n",
      "feature[0][0] = 1.2864563566814884\n",
      "正常： 两线程序列吻合度高，线程状态正常\n",
      "进行至序列号：32：\n",
      "judge_distence = 2\n",
      "[{0: 2, 1: 2}, {0: 2, 1: 1}]\n",
      "judge_dataseries[0][0]:2\n",
      "feature[0][0]1.2876080703547288\n",
      "min_time_standard0.30136\n",
      "judge_dataseries[0][0] 2\n",
      "feature[0][0] = 1.2876080703547288\n",
      "正常： 两线程序列吻合度高，线程状态正常\n",
      "进行至序列号：33：\n"
     ]
    },
    {
     "name": "stderr",
     "output_type": "stream",
     "text": [
      "/home/wwd/anaconda3/lib/python3.7/site-packages/ipykernel_launcher.py:38: RankWarning: Polyfit may be poorly conditioned\n",
      "/home/wwd/anaconda3/lib/python3.7/site-packages/ipykernel_launcher.py:38: RankWarning: Polyfit may be poorly conditioned\n"
     ]
    },
    {
     "name": "stdout",
     "output_type": "stream",
     "text": [
      "judge_distence = 2\n",
      "[{0: 2, 1: 2}, {0: 2, 1: 1}]\n",
      "judge_dataseries[0][0]:2\n",
      "feature[0][0]1.2864714628492961\n",
      "min_time_standard0.30136\n",
      "judge_dataseries[0][0] 2\n",
      "feature[0][0] = 1.2864714628492961\n",
      "正常： 两线程序列吻合度高，线程状态正常\n"
     ]
    }
   ],
   "source": [
    "# 正常测试实验\n",
    "\n",
    "# 序列特征\n",
    "SeriesFeature=[]\n",
    "# 序列结果\n",
    "SeriesResult=[]\n",
    "\n",
    "def normal_lab():\n",
    "    \n",
    "    for i in normal:\n",
    "        title_times = \"进行至序列号：\"+str(i)+\"：\"\n",
    "        print(title_times)\n",
    "        x2 = normal[i]['0.3'].copy()[0:999]\n",
    "        y2 = normal[i]['0.4'].copy()[0:999]\n",
    "        x2 = np.array(x2)\n",
    "        y2 = np.array(y2)\n",
    "        timeSeries1,timeSeries2 = align_data(x,y,x2,y2)\n",
    "\n",
    "        feature = similar_all(x,y,x2,y2,timeSeries1,timeSeries2)\n",
    "\n",
    "        SeriesFeature.append(feature)\n",
    "        \n",
    "        check=judge(feature)\n",
    "        \n",
    "        SeriesResult.append(check)\n",
    "    \n",
    "normal_lab()"
   ]
  },
  {
   "cell_type": "code",
   "execution_count": 197,
   "metadata": {},
   "outputs": [
    {
     "name": "stdout",
     "output_type": "stream",
     "text": [
      "准确率: 1.0\n"
     ]
    }
   ],
   "source": [
    "def precisionRate(result):\n",
    "    num=0\n",
    "    for i in result:\n",
    "        if i[0]==1:\n",
    "            num=num+1\n",
    "    print(\"准确率:\",(len(result)-num)/len(result))\n",
    "precisionRate(SeriesResult) "
   ]
  },
  {
   "cell_type": "markdown",
   "metadata": {},
   "source": [
    "#### 5.3、内存泄漏检查试验"
   ]
  },
  {
   "cell_type": "code",
   "execution_count": 198,
   "metadata": {},
   "outputs": [
    {
     "data": {
      "text/plain": [
       "30"
      ]
     },
     "execution_count": 198,
     "metadata": {},
     "output_type": "execute_result"
    }
   ],
   "source": [
    "# sp泄露数据\n",
    "abnormal = pd.read_excel('./data7_epcc_array_string/arraybench_std_abn.xlsx',hearder=None,sheet_name=None)\n",
    "len(abnormal)"
   ]
  },
  {
   "cell_type": "code",
   "execution_count": 199,
   "metadata": {},
   "outputs": [
    {
     "name": "stderr",
     "output_type": "stream",
     "text": [
      "/home/wwd/anaconda3/lib/python3.7/site-packages/matplotlib/backends/backend_agg.py:211: RuntimeWarning: Glyph 27979 missing from current font.\n",
      "  font.set_text(s, 0.0, flags=flags)\n",
      "/home/wwd/anaconda3/lib/python3.7/site-packages/matplotlib/backends/backend_agg.py:211: RuntimeWarning: Glyph 35797 missing from current font.\n",
      "  font.set_text(s, 0.0, flags=flags)\n",
      "/home/wwd/anaconda3/lib/python3.7/site-packages/matplotlib/backends/backend_agg.py:211: RuntimeWarning: Glyph 24207 missing from current font.\n",
      "  font.set_text(s, 0.0, flags=flags)\n",
      "/home/wwd/anaconda3/lib/python3.7/site-packages/matplotlib/backends/backend_agg.py:211: RuntimeWarning: Glyph 21015 missing from current font.\n",
      "  font.set_text(s, 0.0, flags=flags)\n",
      "/home/wwd/anaconda3/lib/python3.7/site-packages/matplotlib/backends/backend_agg.py:180: RuntimeWarning: Glyph 27979 missing from current font.\n",
      "  font.set_text(s, 0, flags=flags)\n",
      "/home/wwd/anaconda3/lib/python3.7/site-packages/matplotlib/backends/backend_agg.py:180: RuntimeWarning: Glyph 35797 missing from current font.\n",
      "  font.set_text(s, 0, flags=flags)\n",
      "/home/wwd/anaconda3/lib/python3.7/site-packages/matplotlib/backends/backend_agg.py:180: RuntimeWarning: Glyph 24207 missing from current font.\n",
      "  font.set_text(s, 0, flags=flags)\n",
      "/home/wwd/anaconda3/lib/python3.7/site-packages/matplotlib/backends/backend_agg.py:180: RuntimeWarning: Glyph 21015 missing from current font.\n",
      "  font.set_text(s, 0, flags=flags)\n"
     ]
    },
    {
     "data": {
      "image/png": "[encoded data removed]",
      "text/plain": [
       "<Figure size 720x360 with 1 Axes>"
      ]
     },
     "metadata": {
      "needs_background": "light"
     },
     "output_type": "display_data"
    }
   ],
   "source": [
    "plt.figure(figsize=(10,5))\n",
    "data = pd.read_excel('./data7_epcc_array_string/arraybench_std_abn.xlsx',hearder=None,sheet_name=None)\n",
    "k=1 \n",
    "for i in data: \n",
    "    x6 = data[i]['time'].copy()[0:999]\n",
    "    y6 = data[i]['heartrate'].copy()[0:999]\n",
    "    label_name = '测试序列'+str(k)\n",
    "    plt.plot(x6,y6,label=label_name)\n",
    "    k = k+1\n",
    "plt.xlabel('Time/us',fontsize=14)\n",
    "plt.ylabel('Hearrate/HZ',fontsize=14)\n",
    "plt.legend(loc=0,ncol=3,borderaxespad=0.5)   \n",
    "plt.show()"
   ]
  },
  {
   "cell_type": "code",
   "execution_count": 200,
   "metadata": {
    "scrolled": false
   },
   "outputs": [
    {
     "name": "stdout",
     "output_type": "stream",
     "text": [
      "进行至序列号：2_1：\n",
      "judge_distence = 1\n",
      "[{0: 2, 1: 2}, {0: 1, 1: 1}]\n",
      "feature[0][0]0.33653322196618235\n",
      "max_time_standard1.17421\n",
      "内存泄漏： 两线程序列吻合度低，线程状态异常，为内存泄漏\n",
      "进行至序列号：2_2：\n",
      "judge_distence = 1\n",
      "[{0: 2, 1: 2}, {0: 1, 1: 1}]\n",
      "feature[0][0]0.3316612196039503\n",
      "max_time_standard1.17421\n",
      "内存泄漏： 两线程序列吻合度低，线程状态异常，为内存泄漏\n",
      "进行至序列号：2_3：\n",
      "judge_distence = 1\n",
      "[{0: 2, 1: 2}, {0: 1, 1: 1}]\n",
      "feature[0][0]0.3321384206100616\n",
      "max_time_standard1.17421\n",
      "内存泄漏： 两线程序列吻合度低，线程状态异常，为内存泄漏\n",
      "进行至序列号：2_4：\n",
      "judge_distence = 1\n",
      "[{0: 2, 1: 2}, {0: 1, 1: 1}]\n",
      "feature[0][0]0.3332588284717325\n",
      "max_time_standard1.17421\n",
      "内存泄漏： 两线程序列吻合度低，线程状态异常，为内存泄漏\n",
      "进行至序列号：2_5：\n",
      "judge_distence = 1\n",
      "[{0: 2, 1: 2}, {0: 1, 1: 1}]\n",
      "feature[0][0]0.33398542299355566\n",
      "max_time_standard1.17421\n",
      "内存泄漏： 两线程序列吻合度低，线程状态异常，为内存泄漏\n",
      "进行至序列号：2_6：\n",
      "judge_distence = 1\n",
      "[{0: 2, 1: 2}, {0: 1, 1: 1}]\n",
      "feature[0][0]0.33047240874649547\n",
      "max_time_standard1.17421\n",
      "内存泄漏： 两线程序列吻合度低，线程状态异常，为内存泄漏\n",
      "进行至序列号：2_7：\n",
      "judge_distence = 1\n",
      "[{0: 2, 1: 2}, {0: 1, 1: 1}]\n",
      "feature[0][0]0.3315006001360527\n",
      "max_time_standard1.17421\n",
      "内存泄漏： 两线程序列吻合度低，线程状态异常，为内存泄漏\n",
      "进行至序列号：2_8：\n",
      "judge_distence = 1\n",
      "[{0: 2, 1: 2}, {0: 1, 1: 1}]\n",
      "feature[0][0]0.3299550731229645\n",
      "max_time_standard1.17421\n",
      "内存泄漏： 两线程序列吻合度低，线程状态异常，为内存泄漏\n",
      "进行至序列号：2_9：\n",
      "judge_distence = 1\n",
      "[{0: 2, 1: 2}, {0: 1, 1: 1}]\n",
      "feature[0][0]0.34165356486728177\n",
      "max_time_standard1.17421\n",
      "内存泄漏： 两线程序列吻合度低，线程状态异常，为内存泄漏\n",
      "进行至序列号：2_10：\n",
      "judge_distence = 1\n",
      "[{0: 2, 1: 2}, {0: 1, 1: 1}]\n",
      "feature[0][0]0.339048459654848\n",
      "max_time_standard1.17421\n",
      "内存泄漏： 两线程序列吻合度低，线程状态异常，为内存泄漏\n",
      "进行至序列号：2_11：\n",
      "judge_distence = 1\n",
      "[{0: 2, 1: 2}, {0: 1, 1: 1}]\n",
      "feature[0][0]0.3395794839773576\n",
      "max_time_standard1.17421\n",
      "内存泄漏： 两线程序列吻合度低，线程状态异常，为内存泄漏\n",
      "进行至序列号：2_12：\n",
      "judge_distence = 1\n",
      "[{0: 2, 1: 2}, {0: 1, 1: 1}]\n",
      "feature[0][0]0.33828136602362047\n",
      "max_time_standard1.17421\n",
      "内存泄漏： 两线程序列吻合度低，线程状态异常，为内存泄漏\n",
      "进行至序列号：2_13：\n",
      "judge_distence = 1\n",
      "[{0: 2, 1: 2}, {0: 1, 1: 1}]\n",
      "feature[0][0]0.337481022623572\n",
      "max_time_standard1.17421\n",
      "内存泄漏： 两线程序列吻合度低，线程状态异常，为内存泄漏\n",
      "进行至序列号：2_14：\n",
      "judge_distence = 1\n",
      "[{0: 2, 1: 2}, {0: 1, 1: 1}]\n",
      "feature[0][0]0.3346080158024285\n",
      "max_time_standard1.17421\n",
      "内存泄漏： 两线程序列吻合度低，线程状态异常，为内存泄漏\n",
      "进行至序列号：2_15：\n",
      "judge_distence = 1\n",
      "[{0: 2, 1: 2}, {0: 1, 1: 1}]\n",
      "feature[0][0]0.3321581841754509\n",
      "max_time_standard1.17421\n",
      "内存泄漏： 两线程序列吻合度低，线程状态异常，为内存泄漏\n",
      "进行至序列号：2_16：\n",
      "judge_distence = 2\n",
      "[{0: 2, 1: 2}, {0: 1, 1: 1}]\n",
      "judge_dataseries[0][0]:2\n",
      "feature[0][0]0.3325823718473519\n",
      "min_time_standard0.30136\n",
      "judge_dataseries[0][0] 2\n",
      "feature[0][0] = 0.3325823718473519\n",
      "正常： 两线程序列吻合度高，线程状态正常\n",
      "进行至序列号：2_17：\n",
      "judge_distence = 1\n",
      "[{0: 2, 1: 2}, {0: 1, 1: 1}]\n",
      "feature[0][0]0.36599195015402014\n",
      "max_time_standard1.17421\n",
      "内存泄漏： 两线程序列吻合度低，线程状态异常，为内存泄漏\n",
      "进行至序列号：2_18：\n",
      "judge_distence = 1\n",
      "[{0: 2, 1: 2}, {0: 1, 1: 1}]\n",
      "feature[0][0]0.3621517436020823\n",
      "max_time_standard1.17421\n",
      "内存泄漏： 两线程序列吻合度低，线程状态异常，为内存泄漏\n",
      "进行至序列号：2_19：\n",
      "judge_distence = 1\n",
      "[{0: 2, 1: 2}, {0: 1, 1: 1}]\n",
      "feature[0][0]0.3606251701721953\n",
      "max_time_standard1.17421\n",
      "内存泄漏： 两线程序列吻合度低，线程状态异常，为内存泄漏\n",
      "进行至序列号：2_20：\n",
      "judge_distence = 1\n",
      "[{0: 2, 1: 2}, {0: 1, 1: 1}]\n",
      "feature[0][0]0.36014047683084427\n",
      "max_time_standard1.17421\n",
      "内存泄漏： 两线程序列吻合度低，线程状态异常，为内存泄漏\n",
      "进行至序列号：2_21：\n",
      "judge_distence = 1\n",
      "[{0: 2, 1: 2}, {0: 1, 1: 1}]\n",
      "feature[0][0]0.33917619384590925\n",
      "max_time_standard1.17421\n",
      "内存泄漏： 两线程序列吻合度低，线程状态异常，为内存泄漏\n",
      "进行至序列号：2_22：\n",
      "judge_distence = 1\n",
      "[{0: 2, 1: 2}, {0: 1, 1: 1}]\n",
      "feature[0][0]0.33495140775106785\n",
      "max_time_standard1.17421\n",
      "内存泄漏： 两线程序列吻合度低，线程状态异常，为内存泄漏\n",
      "进行至序列号：2_23：\n",
      "judge_distence = 1\n",
      "[{0: 2, 1: 2}, {0: 1, 1: 1}]\n",
      "feature[0][0]0.33645210225004546\n",
      "max_time_standard1.17421\n",
      "内存泄漏： 两线程序列吻合度低，线程状态异常，为内存泄漏\n",
      "进行至序列号：2_24：\n",
      "judge_distence = 1\n",
      "[{0: 2, 1: 2}, {0: 1, 1: 1}]\n",
      "feature[0][0]0.3344313181880974\n",
      "max_time_standard1.17421\n",
      "内存泄漏： 两线程序列吻合度低，线程状态异常，为内存泄漏\n",
      "进行至序列号：2_25：\n",
      "judge_distence = 1\n",
      "[{0: 2, 1: 2}, {0: 1, 1: 1}]\n",
      "feature[0][0]0.3378713935391204\n",
      "max_time_standard1.17421\n",
      "内存泄漏： 两线程序列吻合度低，线程状态异常，为内存泄漏\n",
      "进行至序列号：2_26：\n",
      "judge_distence = 1\n",
      "[{0: 2, 1: 2}, {0: 1, 1: 1}]\n",
      "feature[0][0]0.33365920266730376\n",
      "max_time_standard1.17421\n",
      "内存泄漏： 两线程序列吻合度低，线程状态异常，为内存泄漏\n",
      "进行至序列号：2_27：\n",
      "judge_distence = 1\n",
      "[{0: 2, 1: 2}, {0: 1, 1: 1}]\n",
      "feature[0][0]0.3342931757259192\n",
      "max_time_standard1.17421\n",
      "内存泄漏： 两线程序列吻合度低，线程状态异常，为内存泄漏\n",
      "进行至序列号：2_28：\n",
      "judge_distence = 1\n",
      "[{0: 2, 1: 2}, {0: 1, 1: 1}]\n",
      "feature[0][0]0.3354021223396287\n",
      "max_time_standard1.17421\n",
      "内存泄漏： 两线程序列吻合度低，线程状态异常，为内存泄漏\n",
      "进行至序列号：2_29：\n",
      "judge_distence = 1\n",
      "[{0: 1, 1: 2}, {0: 1, 1: 1}]\n",
      "feature[0][0]0.12861974458750663\n",
      "max_time_standard1.17421\n",
      "中断： 两线程序列吻合度低，线程状态异常，为中断执行\n",
      "进行至序列号：2_30：\n"
     ]
    },
    {
     "name": "stderr",
     "output_type": "stream",
     "text": [
      "/home/wwd/anaconda3/lib/python3.7/site-packages/ipykernel_launcher.py:38: RankWarning: Polyfit may be poorly conditioned\n",
      "/home/wwd/anaconda3/lib/python3.7/site-packages/ipykernel_launcher.py:38: RankWarning: Polyfit may be poorly conditioned\n"
     ]
    },
    {
     "name": "stdout",
     "output_type": "stream",
     "text": [
      "judge_distence = 1\n",
      "[{0: 1, 1: 2}, {0: 1, 1: 1}]\n",
      "feature[0][0]0.12700468060357117\n",
      "max_time_standard1.17421\n",
      "中断： 两线程序列吻合度低，线程状态异常，为中断执行\n"
     ]
    }
   ],
   "source": [
    "# 正常测试实验\n",
    "\n",
    "# 序列特征\n",
    "SeriesFeature1=[]\n",
    "# 序列结果\n",
    "SeriesResult1=[]\n",
    "\n",
    "def abnormal_lab():\n",
    "    \n",
    "    for i in abnormal:\n",
    "        title_times = \"进行至序列号：\"+str(i)+\"：\"\n",
    "        print(title_times)\n",
    "        x2 = abnormal[i]['time'].copy()[0:999]\n",
    "\n",
    "        y2 = abnormal[i]['heartrate'].copy()[0:999]\n",
    "        x2 = np.array(x2)\n",
    "        y2 = np.array(y2)\n",
    "        timeSeries1,timeSeries2 = align_data(x,y,x2,y2)\n",
    "\n",
    "        feature = similar_all(x,y,x2,y2,timeSeries1,timeSeries2)\n",
    "\n",
    "        SeriesFeature1.append(feature)\n",
    "        \n",
    "        check=judge(feature)\n",
    "        \n",
    "        SeriesResult1.append(check)\n",
    "    \n",
    "abnormal_lab()"
   ]
  },
  {
   "cell_type": "code",
   "execution_count": 201,
   "metadata": {},
   "outputs": [
    {
     "name": "stdout",
     "output_type": "stream",
     "text": [
      "准确率: 0.9\n"
     ]
    }
   ],
   "source": [
    "def precisionRate1(result):\n",
    "    num=0\n",
    "    for i in result:\n",
    "        if i[0]==1:\n",
    "            num=num+1\n",
    "    print(\"准确率:\",(num/len(result)))\n",
    "precisionRate1(SeriesResult1)"
   ]
  },
  {
   "cell_type": "markdown",
   "metadata": {},
   "source": [
    "### 5.4 中断测试"
   ]
  },
  {
   "cell_type": "code",
   "execution_count": 202,
   "metadata": {},
   "outputs": [
    {
     "data": {
      "text/plain": [
       "32"
      ]
     },
     "execution_count": 202,
     "metadata": {},
     "output_type": "execute_result"
    }
   ],
   "source": [
    "# sp泄露数据\n",
    "shutdown = pd.read_excel('./data7_epcc_array_string/arraybench_std_shut.xlsx',hearder=None,sheet_name=None)\n",
    "len(shutdown)"
   ]
  },
  {
   "cell_type": "code",
   "execution_count": 203,
   "metadata": {},
   "outputs": [
    {
     "name": "stdout",
     "output_type": "stream",
     "text": [
      "进行至序列号：3_1：\n",
      "judge_distence = 2\n",
      "[{0: 1, 1: 2}, {0: 1, 1: 1}]\n",
      "judge_dataseries[0][0]:1\n",
      "feature[0][0]0.12045824256301692\n",
      "min_time_standard0.30136\n",
      "judge_dataseries[0][0] 1\n",
      "feature[0][0] = 0.12045824256301692\n",
      "中断： 两线程序列吻合度低，线程状态异常，为中断执行\n",
      "进行至序列号：3_2：\n"
     ]
    },
    {
     "name": "stderr",
     "output_type": "stream",
     "text": [
      "/home/wwd/anaconda3/lib/python3.7/site-packages/ipykernel_launcher.py:38: RankWarning: Polyfit may be poorly conditioned\n",
      "/home/wwd/anaconda3/lib/python3.7/site-packages/ipykernel_launcher.py:38: RankWarning: Polyfit may be poorly conditioned\n"
     ]
    },
    {
     "name": "stdout",
     "output_type": "stream",
     "text": [
      "judge_distence = 2\n",
      "[{0: 1, 1: 2}, {0: 1, 1: 1}]\n",
      "judge_dataseries[0][0]:1\n",
      "feature[0][0]0.11997759913260628\n",
      "min_time_standard0.30136\n",
      "judge_dataseries[0][0] 1\n",
      "feature[0][0] = 0.11997759913260628\n",
      "中断： 两线程序列吻合度低，线程状态异常，为中断执行\n",
      "进行至序列号：3_3：\n",
      "judge_distence = 2\n",
      "[{0: 1, 1: 2}, {0: 1, 1: 1}]\n",
      "judge_dataseries[0][0]:1\n",
      "feature[0][0]0.12018791100774298\n",
      "min_time_standard0.30136\n",
      "judge_dataseries[0][0] 1\n",
      "feature[0][0] = 0.12018791100774298\n",
      "中断： 两线程序列吻合度低，线程状态异常，为中断执行\n",
      "进行至序列号：3_4：\n",
      "judge_distence = 2\n",
      "[{0: 1, 1: 2}, {0: 1, 1: 1}]\n",
      "judge_dataseries[0][0]:1\n",
      "feature[0][0]0.11738342867971162\n",
      "min_time_standard0.30136\n",
      "judge_dataseries[0][0] 1\n",
      "feature[0][0] = 0.11738342867971162\n",
      "中断： 两线程序列吻合度低，线程状态异常，为中断执行\n",
      "进行至序列号：3_5：\n",
      "judge_distence = 2\n",
      "[{0: 1, 1: 2}, {0: 1, 1: 1}]\n",
      "judge_dataseries[0][0]:1\n",
      "feature[0][0]0.10099226462960466\n",
      "min_time_standard0.30136\n",
      "judge_dataseries[0][0] 1\n",
      "feature[0][0] = 0.10099226462960466\n",
      "中断： 两线程序列吻合度低，线程状态异常，为中断执行\n",
      "进行至序列号：3_6：\n"
     ]
    },
    {
     "name": "stderr",
     "output_type": "stream",
     "text": [
      "/home/wwd/anaconda3/lib/python3.7/site-packages/ipykernel_launcher.py:38: RankWarning: Polyfit may be poorly conditioned\n",
      "/home/wwd/anaconda3/lib/python3.7/site-packages/ipykernel_launcher.py:38: RankWarning: Polyfit may be poorly conditioned\n"
     ]
    },
    {
     "name": "stdout",
     "output_type": "stream",
     "text": [
      "judge_distence = 2\n",
      "[{0: 1, 1: 2}, {0: 1, 1: 1}]\n",
      "judge_dataseries[0][0]:1\n",
      "feature[0][0]0.10069018177255773\n",
      "min_time_standard0.30136\n",
      "judge_dataseries[0][0] 1\n",
      "feature[0][0] = 0.10069018177255773\n",
      "中断： 两线程序列吻合度低，线程状态异常，为中断执行\n",
      "进行至序列号：3_7：\n"
     ]
    },
    {
     "name": "stderr",
     "output_type": "stream",
     "text": [
      "/home/wwd/anaconda3/lib/python3.7/site-packages/ipykernel_launcher.py:38: RankWarning: Polyfit may be poorly conditioned\n",
      "/home/wwd/anaconda3/lib/python3.7/site-packages/ipykernel_launcher.py:38: RankWarning: Polyfit may be poorly conditioned\n"
     ]
    },
    {
     "name": "stdout",
     "output_type": "stream",
     "text": [
      "judge_distence = 2\n",
      "[{0: 1, 1: 2}, {0: 1, 1: 1}]\n",
      "judge_dataseries[0][0]:1\n",
      "feature[0][0]0.10073035688908683\n",
      "min_time_standard0.30136\n",
      "judge_dataseries[0][0] 1\n",
      "feature[0][0] = 0.10073035688908683\n",
      "中断： 两线程序列吻合度低，线程状态异常，为中断执行\n",
      "进行至序列号：3_8：\n",
      "judge_distence = 2\n",
      "[{0: 1, 1: 2}, {0: 1, 1: 1}]\n",
      "judge_dataseries[0][0]:1\n",
      "feature[0][0]0.09966514931353403\n",
      "min_time_standard0.30136\n",
      "judge_dataseries[0][0] 1\n",
      "feature[0][0] = 0.09966514931353403\n",
      "中断： 两线程序列吻合度低，线程状态异常，为中断执行\n",
      "进行至序列号：3_9：\n",
      "judge_distence = 2\n",
      "[{0: 1, 1: 1}, {0: 1, 1: 1}]\n",
      "judge_dataseries[0][0]:1\n",
      "feature[0][0]0.11796770933108795\n",
      "min_time_standard0.30136\n",
      "judge_dataseries[0][0] 1\n",
      "feature[0][0] = 0.11796770933108795\n",
      "中断： 两线程序列吻合度低，线程状态异常，为中断执行,且线程局部震荡较严重\n",
      "进行至序列号：3_10：\n",
      "judge_distence = 2\n",
      "[{0: 1, 1: 1}, {0: 1, 1: 1}]\n",
      "judge_dataseries[0][0]:1\n",
      "feature[0][0]0.11741343851978023\n",
      "min_time_standard0.30136\n",
      "judge_dataseries[0][0] 1\n",
      "feature[0][0] = 0.11741343851978023\n",
      "中断： 两线程序列吻合度低，线程状态异常，为中断执行,且线程局部震荡较严重\n",
      "进行至序列号：3_11：\n"
     ]
    },
    {
     "name": "stderr",
     "output_type": "stream",
     "text": [
      "/home/wwd/anaconda3/lib/python3.7/site-packages/ipykernel_launcher.py:38: RankWarning: Polyfit may be poorly conditioned\n",
      "/home/wwd/anaconda3/lib/python3.7/site-packages/ipykernel_launcher.py:38: RankWarning: Polyfit may be poorly conditioned\n"
     ]
    },
    {
     "name": "stdout",
     "output_type": "stream",
     "text": [
      "judge_distence = 2\n",
      "[{0: 1, 1: 2}, {0: 1, 1: 1}]\n",
      "judge_dataseries[0][0]:1\n",
      "feature[0][0]0.11441666642029709\n",
      "min_time_standard0.30136\n",
      "judge_dataseries[0][0] 1\n",
      "feature[0][0] = 0.11441666642029709\n",
      "中断： 两线程序列吻合度低，线程状态异常，为中断执行\n",
      "进行至序列号：3_12：\n",
      "judge_distence = 2\n",
      "[{0: 1, 1: 2}, {0: 1, 1: 1}]\n",
      "judge_dataseries[0][0]:1\n",
      "feature[0][0]0.11669340485368057\n",
      "min_time_standard0.30136\n",
      "judge_dataseries[0][0] 1\n",
      "feature[0][0] = 0.11669340485368057\n",
      "中断： 两线程序列吻合度低，线程状态异常，为中断执行\n",
      "进行至序列号：3_13：\n",
      "judge_distence = 2\n",
      "[{0: 1, 1: 2}, {0: 1, 1: 1}]\n",
      "judge_dataseries[0][0]:1\n",
      "feature[0][0]0.12767534585530696\n",
      "min_time_standard0.30136\n",
      "judge_dataseries[0][0] 1\n",
      "feature[0][0] = 0.12767534585530696\n",
      "中断： 两线程序列吻合度低，线程状态异常，为中断执行\n",
      "进行至序列号：3_14：\n",
      "judge_distence = 2\n",
      "[{0: 1, 1: 2}, {0: 1, 1: 1}]\n",
      "judge_dataseries[0][0]:1\n",
      "feature[0][0]0.12749374784873793\n",
      "min_time_standard0.30136\n",
      "judge_dataseries[0][0] 1\n",
      "feature[0][0] = 0.12749374784873793\n",
      "中断： 两线程序列吻合度低，线程状态异常，为中断执行\n",
      "进行至序列号：3_15：\n",
      "judge_distence = 2\n",
      "[{0: 1, 1: 2}, {0: 1, 1: 1}]\n",
      "judge_dataseries[0][0]:1\n",
      "feature[0][0]0.12550973697812898\n",
      "min_time_standard0.30136\n",
      "judge_dataseries[0][0] 1\n",
      "feature[0][0] = 0.12550973697812898\n",
      "中断： 两线程序列吻合度低，线程状态异常，为中断执行\n",
      "进行至序列号：3_16：\n",
      "judge_distence = 2\n",
      "[{0: 1, 1: 2}, {0: 1, 1: 1}]\n",
      "judge_dataseries[0][0]:1\n",
      "feature[0][0]0.12749374784873793\n",
      "min_time_standard0.30136\n",
      "judge_dataseries[0][0] 1\n",
      "feature[0][0] = 0.12749374784873793\n",
      "中断： 两线程序列吻合度低，线程状态异常，为中断执行\n",
      "进行至序列号：3_17：\n"
     ]
    },
    {
     "name": "stderr",
     "output_type": "stream",
     "text": [
      "/home/wwd/anaconda3/lib/python3.7/site-packages/ipykernel_launcher.py:38: RankWarning: Polyfit may be poorly conditioned\n",
      "/home/wwd/anaconda3/lib/python3.7/site-packages/ipykernel_launcher.py:38: RankWarning: Polyfit may be poorly conditioned\n"
     ]
    },
    {
     "name": "stdout",
     "output_type": "stream",
     "text": [
      "judge_distence = 2\n",
      "[{0: 1, 1: 2}, {0: 1, 1: 1}]\n",
      "judge_dataseries[0][0]:1\n",
      "feature[0][0]0.10401005576686866\n",
      "min_time_standard0.30136\n",
      "judge_dataseries[0][0] 1\n",
      "feature[0][0] = 0.10401005576686866\n",
      "中断： 两线程序列吻合度低，线程状态异常，为中断执行\n",
      "进行至序列号：3_18：\n"
     ]
    },
    {
     "name": "stderr",
     "output_type": "stream",
     "text": [
      "/home/wwd/anaconda3/lib/python3.7/site-packages/ipykernel_launcher.py:38: RankWarning: Polyfit may be poorly conditioned\n",
      "/home/wwd/anaconda3/lib/python3.7/site-packages/ipykernel_launcher.py:38: RankWarning: Polyfit may be poorly conditioned\n"
     ]
    },
    {
     "name": "stdout",
     "output_type": "stream",
     "text": [
      "judge_distence = 2\n",
      "[{0: 1, 1: 2}, {0: 1, 1: 1}]\n",
      "judge_dataseries[0][0]:1\n",
      "feature[0][0]0.10379443850839998\n",
      "min_time_standard0.30136\n",
      "judge_dataseries[0][0] 1\n",
      "feature[0][0] = 0.10379443850839998\n",
      "中断： 两线程序列吻合度低，线程状态异常，为中断执行\n",
      "进行至序列号：3_19：\n"
     ]
    },
    {
     "name": "stderr",
     "output_type": "stream",
     "text": [
      "/home/wwd/anaconda3/lib/python3.7/site-packages/ipykernel_launcher.py:38: RankWarning: Polyfit may be poorly conditioned\n",
      "/home/wwd/anaconda3/lib/python3.7/site-packages/ipykernel_launcher.py:38: RankWarning: Polyfit may be poorly conditioned\n"
     ]
    },
    {
     "name": "stdout",
     "output_type": "stream",
     "text": [
      "judge_distence = 2\n",
      "[{0: 1, 1: 2}, {0: 1, 1: 1}]\n",
      "judge_dataseries[0][0]:1\n",
      "feature[0][0]0.10380237633384323\n",
      "min_time_standard0.30136\n",
      "judge_dataseries[0][0] 1\n",
      "feature[0][0] = 0.10380237633384323\n",
      "中断： 两线程序列吻合度低，线程状态异常，为中断执行\n",
      "进行至序列号：3_20：\n",
      "judge_distence = 2\n",
      "[{0: 1, 1: 2}, {0: 1, 1: 1}]\n",
      "judge_dataseries[0][0]:1\n",
      "feature[0][0]0.1025341467228465\n",
      "min_time_standard0.30136\n",
      "judge_dataseries[0][0] 1\n",
      "feature[0][0] = 0.1025341467228465\n",
      "中断： 两线程序列吻合度低，线程状态异常，为中断执行\n",
      "进行至序列号：3_21：\n"
     ]
    },
    {
     "name": "stderr",
     "output_type": "stream",
     "text": [
      "/home/wwd/anaconda3/lib/python3.7/site-packages/ipykernel_launcher.py:38: RankWarning: Polyfit may be poorly conditioned\n",
      "/home/wwd/anaconda3/lib/python3.7/site-packages/ipykernel_launcher.py:38: RankWarning: Polyfit may be poorly conditioned\n"
     ]
    },
    {
     "name": "stdout",
     "output_type": "stream",
     "text": [
      "judge_distence = 2\n",
      "[{0: 1, 1: 2}, {0: 1, 1: 1}]\n",
      "judge_dataseries[0][0]:1\n",
      "feature[0][0]0.1268795788546212\n",
      "min_time_standard0.30136\n",
      "judge_dataseries[0][0] 1\n",
      "feature[0][0] = 0.1268795788546212\n",
      "中断： 两线程序列吻合度低，线程状态异常，为中断执行\n",
      "进行至序列号：3_22：\n"
     ]
    },
    {
     "name": "stderr",
     "output_type": "stream",
     "text": [
      "/home/wwd/anaconda3/lib/python3.7/site-packages/ipykernel_launcher.py:38: RankWarning: Polyfit may be poorly conditioned\n",
      "/home/wwd/anaconda3/lib/python3.7/site-packages/ipykernel_launcher.py:38: RankWarning: Polyfit may be poorly conditioned\n"
     ]
    },
    {
     "name": "stdout",
     "output_type": "stream",
     "text": [
      "judge_distence = 2\n",
      "[{0: 1, 1: 2}, {0: 1, 1: 1}]\n",
      "judge_dataseries[0][0]:1\n",
      "feature[0][0]0.12667048195276662\n",
      "min_time_standard0.30136\n",
      "judge_dataseries[0][0] 1\n",
      "feature[0][0] = 0.12667048195276662\n",
      "中断： 两线程序列吻合度低，线程状态异常，为中断执行\n",
      "进行至序列号：3_23：\n"
     ]
    },
    {
     "name": "stderr",
     "output_type": "stream",
     "text": [
      "/home/wwd/anaconda3/lib/python3.7/site-packages/ipykernel_launcher.py:38: RankWarning: Polyfit may be poorly conditioned\n",
      "/home/wwd/anaconda3/lib/python3.7/site-packages/ipykernel_launcher.py:38: RankWarning: Polyfit may be poorly conditioned\n"
     ]
    },
    {
     "name": "stdout",
     "output_type": "stream",
     "text": [
      "judge_distence = 2\n",
      "[{0: 1, 1: 2}, {0: 1, 1: 1}]\n",
      "judge_dataseries[0][0]:1\n",
      "feature[0][0]0.12653221799326023\n",
      "min_time_standard0.30136\n",
      "judge_dataseries[0][0] 1\n",
      "feature[0][0] = 0.12653221799326023\n",
      "中断： 两线程序列吻合度低，线程状态异常，为中断执行\n",
      "进行至序列号：3_24：\n",
      "judge_distence = 2\n",
      "[{0: 1, 1: 2}, {0: 1, 1: 1}]\n",
      "judge_dataseries[0][0]:1\n",
      "feature[0][0]0.12500414609632526\n",
      "min_time_standard0.30136\n",
      "judge_dataseries[0][0] 1\n",
      "feature[0][0] = 0.12500414609632526\n",
      "中断： 两线程序列吻合度低，线程状态异常，为中断执行\n",
      "进行至序列号：3_25：\n",
      "judge_distence = 2\n",
      "[{0: 1, 1: 1}, {0: 1, 1: 1}]\n",
      "judge_dataseries[0][0]:1\n",
      "feature[0][0]0.07966024973127829\n",
      "min_time_standard0.30136\n",
      "judge_dataseries[0][0] 1\n",
      "feature[0][0] = 0.07966024973127829\n",
      "中断： 两线程序列吻合度低，线程状态异常，为中断执行,且线程局部震荡较严重\n",
      "进行至序列号：3_26：\n",
      "judge_distence = 2\n",
      "[{0: 1, 1: 1}, {0: 1, 1: 2}]\n",
      "judge_dataseries[0][0]:1\n",
      "feature[0][0]0.10284882480291817\n",
      "min_time_standard0.30136\n",
      "judge_dataseries[0][0] 1\n",
      "feature[0][0] = 0.10284882480291817\n",
      "中断： 两线程序列吻合度低，线程状态异常，为中断执行,且线程局部震荡较严重\n",
      "进行至序列号：3_27：\n",
      "judge_distence = 2\n",
      "[{0: 1, 1: 1}, {0: 1, 1: 2}]\n",
      "judge_dataseries[0][0]:1\n",
      "feature[0][0]0.1023407634754408\n",
      "min_time_standard0.30136\n",
      "judge_dataseries[0][0] 1\n",
      "feature[0][0] = 0.1023407634754408\n",
      "中断： 两线程序列吻合度低，线程状态异常，为中断执行,且线程局部震荡较严重\n",
      "进行至序列号：3_28：\n",
      "judge_distence = 2\n",
      "[{0: 1, 1: 1}, {0: 1, 1: 2}]\n",
      "judge_dataseries[0][0]:1\n",
      "feature[0][0]0.10233124618473077\n",
      "min_time_standard0.30136\n",
      "judge_dataseries[0][0] 1\n",
      "feature[0][0] = 0.10233124618473077\n",
      "中断： 两线程序列吻合度低，线程状态异常，为中断执行,且线程局部震荡较严重\n",
      "进行至序列号：3_29：\n"
     ]
    },
    {
     "name": "stderr",
     "output_type": "stream",
     "text": [
      "/home/wwd/anaconda3/lib/python3.7/site-packages/ipykernel_launcher.py:38: RankWarning: Polyfit may be poorly conditioned\n",
      "/home/wwd/anaconda3/lib/python3.7/site-packages/ipykernel_launcher.py:38: RankWarning: Polyfit may be poorly conditioned\n"
     ]
    },
    {
     "name": "stdout",
     "output_type": "stream",
     "text": [
      "judge_distence = 2\n",
      "[{0: 1, 1: 2}, {0: 1, 1: 1}]\n",
      "judge_dataseries[0][0]:1\n",
      "feature[0][0]0.1207972201087312\n",
      "min_time_standard0.30136\n",
      "judge_dataseries[0][0] 1\n",
      "feature[0][0] = 0.1207972201087312\n",
      "中断： 两线程序列吻合度低，线程状态异常，为中断执行\n",
      "进行至序列号：3_30：\n"
     ]
    },
    {
     "name": "stderr",
     "output_type": "stream",
     "text": [
      "/home/wwd/anaconda3/lib/python3.7/site-packages/ipykernel_launcher.py:38: RankWarning: Polyfit may be poorly conditioned\n",
      "/home/wwd/anaconda3/lib/python3.7/site-packages/ipykernel_launcher.py:38: RankWarning: Polyfit may be poorly conditioned\n"
     ]
    },
    {
     "name": "stdout",
     "output_type": "stream",
     "text": [
      "judge_distence = 2\n",
      "[{0: 1, 1: 2}, {0: 1, 1: 1}]\n",
      "judge_dataseries[0][0]:1\n",
      "feature[0][0]0.12062655686170133\n",
      "min_time_standard0.30136\n",
      "judge_dataseries[0][0] 1\n",
      "feature[0][0] = 0.12062655686170133\n",
      "中断： 两线程序列吻合度低，线程状态异常，为中断执行\n",
      "进行至序列号：3_31：\n",
      "judge_distence = 2\n",
      "[{0: 1, 1: 2}, {0: 1, 1: 1}]\n",
      "judge_dataseries[0][0]:1\n",
      "feature[0][0]0.11944544083503332\n",
      "min_time_standard0.30136\n",
      "judge_dataseries[0][0] 1\n",
      "feature[0][0] = 0.11944544083503332\n",
      "中断： 两线程序列吻合度低，线程状态异常，为中断执行\n",
      "进行至序列号：3_32：\n"
     ]
    },
    {
     "name": "stderr",
     "output_type": "stream",
     "text": [
      "/home/wwd/anaconda3/lib/python3.7/site-packages/ipykernel_launcher.py:38: RankWarning: Polyfit may be poorly conditioned\n",
      "/home/wwd/anaconda3/lib/python3.7/site-packages/ipykernel_launcher.py:38: RankWarning: Polyfit may be poorly conditioned\n"
     ]
    },
    {
     "name": "stdout",
     "output_type": "stream",
     "text": [
      "judge_distence = 2\n",
      "[{0: 1, 1: 2}, {0: 1, 1: 1}]\n",
      "judge_dataseries[0][0]:1\n",
      "feature[0][0]0.12076522581230177\n",
      "min_time_standard0.30136\n",
      "judge_dataseries[0][0] 1\n",
      "feature[0][0] = 0.12076522581230177\n",
      "中断： 两线程序列吻合度低，线程状态异常，为中断执行\n"
     ]
    }
   ],
   "source": [
    "# 中断测试实验\n",
    "\n",
    "# 序列特征\n",
    "SeriesFeature2=[]\n",
    "# 序列结果\n",
    "SeriesResult2=[]\n",
    "\n",
    "def shutdown_lab():\n",
    "    for i in shutdown:\n",
    "        title_times = \"进行至序列号：\"+str(i)+\"：\"\n",
    "        print(title_times)\n",
    "        x2 = shutdown[i]['time'].copy()[0:len(shutdown[i])]\n",
    "        y2 = shutdown[i]['heartrate'].copy()[0:len(shutdown[i])]\n",
    "        x2 = np.array(x2)\n",
    "        y2 = np.array(y2)\n",
    "        timeSeries1,timeSeries2 = align_data(x,y,x2,y2)\n",
    "\n",
    "        feature = similar_all(x,y,x2,y2,timeSeries1,timeSeries2)\n",
    "\n",
    "        SeriesFeature2.append(feature)\n",
    "        \n",
    "        check=judge(feature)\n",
    "        \n",
    "        SeriesResult2.append(check)\n",
    "\n",
    "    \n",
    "shutdown_lab()"
   ]
  },
  {
   "cell_type": "code",
   "execution_count": 204,
   "metadata": {},
   "outputs": [
    {
     "name": "stdout",
     "output_type": "stream",
     "text": [
      "准确率: 1.0\n"
     ]
    }
   ],
   "source": [
    "def precisionRate2(result):\n",
    "    num=0\n",
    "    for i in result:\n",
    "        if i[0]==2:\n",
    "            num=num+1\n",
    "    print(\"准确率:\",(num/len(result)))\n",
    "precisionRate2(SeriesResult2)"
   ]
  },
  {
   "cell_type": "markdown",
   "metadata": {},
   "source": [
    "### 5.5 总体"
   ]
  },
  {
   "cell_type": "code",
   "execution_count": 205,
   "metadata": {},
   "outputs": [],
   "source": [
    "# 总体预测和真实结果\n",
    "def resultValue():\n",
    "    Result_all_pre=[]\n",
    "    Result_all_true=[]\n",
    "    # 正常预测\n",
    "    for i in SeriesResult:\n",
    "        Result_all_pre.append(i[0])\n",
    "        Result_all_true.append(0)\n",
    "\n",
    "    # 内存泄漏预测\n",
    "    for i in SeriesResult1:\n",
    "        Result_all_pre.append(i[0])\n",
    "        Result_all_true.append(1)\n",
    "\n",
    "    # 中断预测    \n",
    "    for i in SeriesResult2:\n",
    "        Result_all_pre.append(i[0])\n",
    "        Result_all_true.append(2)\n",
    "    \n",
    "    return [Result_all_pre,Result_all_true]\n"
   ]
  },
  {
   "cell_type": "code",
   "execution_count": 206,
   "metadata": {},
   "outputs": [],
   "source": [
    "from sklearn.metrics import classification_report"
   ]
  },
  {
   "cell_type": "code",
   "execution_count": 207,
   "metadata": {
    "scrolled": true
   },
   "outputs": [
    {
     "name": "stdout",
     "output_type": "stream",
     "text": [
      "accuracy: 0.968421052631579\n",
      "              precision    recall  f1-score   support\n",
      "\n",
      "           0       0.97      1.00      0.99        33\n",
      "           1       1.00      0.90      0.95        30\n",
      "           2       0.94      1.00      0.97        32\n",
      "\n",
      "    accuracy                           0.97        95\n",
      "   macro avg       0.97      0.97      0.97        95\n",
      "weighted avg       0.97      0.97      0.97        95\n",
      "\n"
     ]
    }
   ],
   "source": [
    "resultvalue = resultValue()\n",
    "acc_num=0\n",
    "for i in range(0,95):\n",
    "    if(resultvalue[0][i]==resultvalue[1][i]):\n",
    "        acc_num=acc_num+1\n",
    "\n",
    "print(\"accuracy:\",acc_num/len(resultvalue[0]))\n",
    "\n",
    "print(classification_report(resultvalue[1], resultvalue[0], labels=[0, 1, 2]))"
   ]
  },
  {
   "cell_type": "code",
   "execution_count": null,
   "metadata": {},
   "outputs": [],
   "source": []
  },
  {
   "cell_type": "code",
   "execution_count": null,
   "metadata": {},
   "outputs": [],
   "source": []
  }
 ],
 "metadata": {
  "kernelspec": {
   "display_name": "Python 3",
   "language": "python",
   "name": "python3"
  },
  "language_info": {
   "codemirror_mode": {
    "name": "ipython",
    "version": 3
   },
   "file_extension": ".py",
   "mimetype": "text/x-python",
   "name": "python",
   "nbconvert_exporter": "python",
   "pygments_lexer": "ipython3",
   "version": "3.6.2"
  }
 },
 "nbformat": 4,
 "nbformat_minor": 2
}
