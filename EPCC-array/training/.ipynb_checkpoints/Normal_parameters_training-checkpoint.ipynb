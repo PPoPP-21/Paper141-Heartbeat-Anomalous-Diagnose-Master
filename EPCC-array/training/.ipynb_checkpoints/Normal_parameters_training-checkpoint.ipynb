{
 "cells": [
  {
   "cell_type": "markdown",
   "metadata": {},
   "source": [
    "# Experiment-training|EPCC-array"
   ]
  },
  {
   "cell_type": "markdown",
   "metadata": {},
   "source": [
    "### Import library"
   ]
  },
  {
   "cell_type": "code",
   "execution_count": 1,
   "metadata": {},
   "outputs": [],
   "source": [
    "import numpy as np\n",
    "import matplotlib.pyplot as plt\n",
    "import pandas as pd\n",
    "import math"
   ]
  },
  {
   "cell_type": "markdown",
   "metadata": {},
   "source": [
    "### Data alignment"
   ]
  },
  {
   "cell_type": "code",
   "execution_count": 2,
   "metadata": {},
   "outputs": [],
   "source": [
    "# calculting the fitting value R2\n",
    "from sklearn.metrics import r2_score\n",
    "def caculateMse_R2(x,y,p):\n",
    "    y_pre = [p(i) for i in x]\n",
    "    score = r2_score(y, y_pre, multioutput='raw_values')\n",
    "    return score[0]\n",
    "\n",
    "# merge list，[[x1,y1],[x2,y2],...,[xn,yn]]\n",
    "\n",
    "def list_set(x,y):\n",
    "    list=[]\n",
    "    for i in range(0,len(x)):\n",
    "        list.append([x[i],y[i]])\n",
    "    return list\n",
    "\n",
    "# Extend the short series\n",
    "\n",
    "def data_set_fix(list,x):\n",
    "    n=0;\n",
    "    data=0;\n",
    "    for i in range(0,len(list)):\n",
    "        if n==0:\n",
    "            if list[i][0]==x:\n",
    "                n=1\n",
    "                data=list[i][1]\n",
    "        else:\n",
    "            list[i][1]=data\n",
    "    \n",
    "    return list\n"
   ]
  },
  {
   "cell_type": "code",
   "execution_count": 3,
   "metadata": {},
   "outputs": [],
   "source": [
    "# Single series data alignment method\n",
    "def align_data_singe(x,y,x1,n):\n",
    "    \n",
    "    # fitting,if R2<0.9 do re-fitting\n",
    "    while True:\n",
    "        coef = np.polyfit(x,y, n)\n",
    "        poly_fit = np.poly1d(coef)\n",
    "        R2 = caculateMse_R2(x,y,poly_fit)\n",
    "        if n>=19:\n",
    "            break\n",
    "        if R2>0.9:\n",
    "            break\n",
    "        else:\n",
    "            n=n+1 \n",
    "        \n",
    "    # list\n",
    "    data_set = list_set(x,y)\n",
    "    \n",
    "    # Data alignment\n",
    "    for i in range(0,len(x1)):\n",
    "         data_set.append([x1[i],poly_fit(x1[i])])\n",
    "    \n",
    "    # sort\n",
    "    data_set.sort();\n",
    "    return data_set\n",
    "    \n",
    "# double seriers alignment\n",
    "def align_data(x1,y1,x2,y2):\n",
    "    timeseries1 = align_data_singe(x1,y1,x2,6)\n",
    "    timeseries2 = align_data_singe(x2,y2,x1,6)\n",
    "    \n",
    "   # data fitting（short series align to the long series，tail data mean as the current value）\n",
    "    if(len(x1)>len(x2)):\n",
    "        timeseries2 = data_set_fix(timeseries2,x2[-1])\n",
    "    else:\n",
    "        timeseries1 = data_set_fix(timeseries1,x1[-1])\n",
    "    \n",
    "    return timeseries1,timeseries2"
   ]
  },
  {
   "cell_type": "markdown",
   "metadata": {},
   "source": [
    "### Sequence attribute and feature evaluation algorithm"
   ]
  },
  {
   "cell_type": "code",
   "execution_count": 4,
   "metadata": {},
   "outputs": [],
   "source": [
    "# DTW distance\n",
    "# calculating the weight\n",
    "def calculate_attenuate_weight(seqLen1, seqLen2, com_ls):\n",
    "    weight = 0\n",
    "    for comlen in com_ls:\n",
    "        weight = weight + comlen / seqLen1 * comlen / seqLen2\n",
    "    return 1 - weight\n",
    "\n",
    "# DTW distance\n",
    "def DTWDistance(s1, s2):\n",
    "    # acquire std\n",
    "    sdt = np.std(s1, ddof=1) if np.std(s1, ddof=1) > np.std(s2, ddof=1) else np.std(s2, ddof=1)\n",
    "    l1 = len(s1)\n",
    "    l2 = len(s2)\n",
    "    paths = np.full((l1 + 1, l2 + 1), np.inf)  # assign infinity\n",
    "    sub_matrix = np.full((l1, l2), 0)  # assign 0\n",
    "    max_sub_len = 0\n",
    "\n",
    "    paths[0, 0] = 0\n",
    "    for i in range(l1):\n",
    "        for j in range(l2):\n",
    "            d = s1[i] - s2[j]\n",
    "            cost = d ** 2\n",
    "            paths[i + 1, j + 1] = cost + min(paths[i, j + 1], paths[i + 1, j], paths[i, j])\n",
    "            if np.abs(s1[i] - s2[j]) < sdt:\n",
    "                if i == 0 or j == 0:\n",
    "                    sub_matrix[i][j] = 1\n",
    "                else:\n",
    "                    sub_matrix[i][j] = sub_matrix[i - 1][j - 1] + 1\n",
    "                    max_sub_len = sub_matrix[i][j] if sub_matrix[i][j] > max_sub_len else max_sub_len\n",
    "\n",
    "    paths = np.sqrt(paths)\n",
    "    s = paths[l1, l2]\n",
    "\n",
    "    return s\n"
   ]
  },
  {
   "cell_type": "code",
   "execution_count": 5,
   "metadata": {},
   "outputs": [],
   "source": [
    "#LB_Keogh\n",
    "\n",
    "def LB_Keogh(s1,s2,r):\n",
    "    LB_sum=0\n",
    "    for ind,i in enumerate(s1):\n",
    "        \n",
    "        lower_bound=min(s2[(ind-r if ind-r>=0 else 0):(ind+r)])\n",
    "        upper_bound=max(s2[(ind-r if ind-r>=0 else 0):(ind+r)])\n",
    "        \n",
    "        if i>upper_bound:\n",
    "            LB_sum=LB_sum+(i-upper_bound)**2\n",
    "        elif i<lower_bound:\n",
    "            LB_sum=LB_sum+(i-lower_bound)**2\n",
    "    \n",
    "    return math.sqrt(LB_sum)"
   ]
  },
  {
   "cell_type": "code",
   "execution_count": 6,
   "metadata": {},
   "outputs": [],
   "source": [
    "# Similarity\n",
    "def Dtw_LB_conter(data1,data2,r):\n",
    "    l=LB_Keogh(data1,data2,r)+DTWDistance(data1,data2)\n",
    "    return l/2\n",
    "\n",
    "def getMin(a,b):\n",
    "    if a<b:\n",
    "        return a\n",
    "    else:\n",
    "        return b"
   ]
  },
  {
   "cell_type": "code",
   "execution_count": 7,
   "metadata": {},
   "outputs": [],
   "source": [
    "def timeseries_score(s1,s2,w,r):\n",
    "    # series:s1，series:s2, w:sliding window size,r:slope sliding window   \n",
    "    # time ratio\n",
    "    time_s1_s2 = s2[0][len(s2[0])-1]/s1[0][len(s1[0])-1]\n",
    "    \n",
    "       # time ratio via sliding window \n",
    "    time_sum=0;\n",
    "    for i in range(math.ceil(len(s1[0])/w)):\n",
    "        s1_time = sum(s1[0][i:i+w])\n",
    "        s2_time = sum(s2[0][i:i+w])\n",
    "        i=i+w\n",
    "        time_sum =time_sum + s2_time/s1_time    \n",
    "\n",
    "    time_sum = time_sum/math.ceil(len(s1[0])/w)\n",
    "    \n",
    "        # Mean ratio\n",
    "    heartbeat_s1 = (sum(s1[1])/len(s1[1]))\n",
    "    heartbeat_s1_s2 = sum(s2[1])/len(s2[1])/(sum(s1[1])/len(s1[1]))\n",
    "    \n",
    "    # Mean ratio via sliding window \n",
    "    heartbeat_sum=0;\n",
    "    for i in range(math.ceil(len(s1[1])/w)):\n",
    "        s1_heartbeat = sum(s1[1][i:i+w])\n",
    "        s2_heartbeat = sum(s2[1][i:i+w])\n",
    "        i=i+w\n",
    "        heartbeat_sum =heartbeat_sum + s2_heartbeat/s1_heartbeat    \n",
    "\n",
    "    heartbeat_sum = heartbeat_sum/math.ceil(len(s1[1])/w)\n",
    "    \n",
    "    # slope ratio via sliding window\n",
    "    slope_sum=0;\n",
    "    for i in range(math.ceil(getMin(len(s1[1])/r,len(s2[1])/r))):\n",
    "        \n",
    "        k=i+r\n",
    "        if(k>len(s1[1])):\n",
    "            k=len(s1[1])  \n",
    "        \n",
    "        s1_slope = (s1[1][i]-s1[1][k])/(s1[0][i]-s1[0][k])\n",
    "        s2_slope = (s2[1][i]-s2[1][k])/(s2[0][i]-s2[0][k])\n",
    "        \n",
    "        i=i+r\n",
    "        slope_sum =slope_sum + abs(s2_slope/s1_slope)    \n",
    "\n",
    "    slope_sum = slope_sum/math.ceil(math.ceil(len(s1[1])/r))\n",
    "\n",
    "    return [time_s1_s2,time_sum,heartbeat_s1,heartbeat_s1_s2,heartbeat_sum,slope_sum]"
   ]
  },
  {
   "cell_type": "code",
   "execution_count": 8,
   "metadata": {},
   "outputs": [],
   "source": [
    "def similar_all(x1,y1,x2,y2,tS1,tS2):\n",
    "    x_p1 =[ tS1[i][0] for i in range(0,len(tS1))]\n",
    "    y_p1 =[ tS1[i][1] for i in range(0,len(tS1))]\n",
    "    x_p2 =[ tS2[i][0] for i in range(0,len(tS2))]\n",
    "    y_p2 =[ tS2[i][1] for i in range(0,len(tS2))]\n",
    "    \n",
    "    feature = timeseries_score([x1,y1],[x2,y2],200,20)\n",
    "    distent = Dtw_LB_conter(y_p1,y_p2,100)\n",
    "    \n",
    "    return feature,distent"
   ]
  },
  {
   "cell_type": "markdown",
   "metadata": {},
   "source": [
    "### 5、Experiments - parameter setting"
   ]
  },
  {
   "cell_type": "markdown",
   "metadata": {},
   "source": [
    "#### 5.1、import data"
   ]
  },
  {
   "cell_type": "code",
   "execution_count": 9,
   "metadata": {},
   "outputs": [
    {
     "name": "stdout",
     "output_type": "stream",
     "text": [
      "24\n"
     ]
    }
   ],
   "source": [
    "#import data\n",
    "import pandas as pd\n",
    "data = pd.read_excel('./data3_sp_string/sp_normal_1.xls',sheet_name=None)\n",
    "print(len(data))\n",
    "#data = pd.read_excel('./data7_epcc_array_string/EPCC_arraybench_shutdown.xlsx',sheet_name=None)\n",
    "#Timestamp1 = data['1']['0.3'].copy()[1:999]\n",
    "#data1 = data['1']['0.4'].copy()[1:999]\n",
    "#Timestamp2 = data['2']['0.3'].copy()[1:999]\n",
    "#data2 = data['2']['0.4'].copy()[1:999]"
   ]
  },
  {
   "cell_type": "code",
   "execution_count": 10,
   "metadata": {},
   "outputs": [
    {
     "name": "stderr",
     "output_type": "stream",
     "text": [
      "/home/wwd/anaconda3/lib/python3.7/site-packages/matplotlib/backends/backend_agg.py:211: RuntimeWarning: Glyph 27979 missing from current font.\n",
      "  font.set_text(s, 0.0, flags=flags)\n",
      "/home/wwd/anaconda3/lib/python3.7/site-packages/matplotlib/backends/backend_agg.py:211: RuntimeWarning: Glyph 35797 missing from current font.\n",
      "  font.set_text(s, 0.0, flags=flags)\n",
      "/home/wwd/anaconda3/lib/python3.7/site-packages/matplotlib/backends/backend_agg.py:211: RuntimeWarning: Glyph 24207 missing from current font.\n",
      "  font.set_text(s, 0.0, flags=flags)\n",
      "/home/wwd/anaconda3/lib/python3.7/site-packages/matplotlib/backends/backend_agg.py:211: RuntimeWarning: Glyph 21015 missing from current font.\n",
      "  font.set_text(s, 0.0, flags=flags)\n",
      "/home/wwd/anaconda3/lib/python3.7/site-packages/matplotlib/backends/backend_agg.py:180: RuntimeWarning: Glyph 27979 missing from current font.\n",
      "  font.set_text(s, 0, flags=flags)\n",
      "/home/wwd/anaconda3/lib/python3.7/site-packages/matplotlib/backends/backend_agg.py:180: RuntimeWarning: Glyph 35797 missing from current font.\n",
      "  font.set_text(s, 0, flags=flags)\n",
      "/home/wwd/anaconda3/lib/python3.7/site-packages/matplotlib/backends/backend_agg.py:180: RuntimeWarning: Glyph 24207 missing from current font.\n",
      "  font.set_text(s, 0, flags=flags)\n",
      "/home/wwd/anaconda3/lib/python3.7/site-packages/matplotlib/backends/backend_agg.py:180: RuntimeWarning: Glyph 21015 missing from current font.\n",
      "  font.set_text(s, 0, flags=flags)\n"
     ]
    },
    {
     "data": {
      "image/png": "[encoded data removed]",
      "text/plain": [
       "<Figure size 720x360 with 1 Axes>"
      ]
     },
     "metadata": {
      "needs_background": "light"
     },
     "output_type": "display_data"
    }
   ],
   "source": [
    "plt.figure(figsize=(10,5))\n",
    "data = pd.read_excel('./data3_sp_string/sp_normal_1.xls',hearder=None,sheet_name=None)\n",
    "k=1 \n",
    "for i in data: \n",
    "    x6 = data[i]['Timestamp'].copy()[0:999]\n",
    "    y6 = data[i]['Heartbeat'].copy()[0:999]\n",
    "    label_name = '测试序列'+str(k)\n",
    "    plt.plot(x6,y6,label=label_name)\n",
    "    k = k+1\n",
    "plt.xlabel('Time/us',fontsize=14)\n",
    "plt.ylabel('Hearrate/HZ',fontsize=14)\n",
    "plt.legend(loc=0,ncol=3,borderaxespad=0.5)   \n",
    "plt.show()"
   ]
  },
  {
   "cell_type": "code",
   "execution_count": 11,
   "metadata": {},
   "outputs": [],
   "source": [
    "def lab(x,y,ll):\n",
    "    SeriesFeature=[]\n",
    "    for j in data:\n",
    "        title_times = \"Processing\"+str(ll)+\"round\"+str(j)+\"times：\"\n",
    "        print(title_times)\n",
    "        x2 = data[j]['Timestamp'].copy()[0:999]\n",
    "        y2 = data[j]['Heartbeat'].copy()[0:999]\n",
    "        x2 = np.array(x2)\n",
    "        y2 = np.array(y2)\n",
    "\n",
    "        timeSeries1,timeSeries2 = align_data(x,y,x2,y2)\n",
    "\n",
    "        feature = similar_all(x,y,x2,y2,timeSeries1,timeSeries2)\n",
    "\n",
    "        SeriesFeature.append(feature)\n",
    "           \n",
    "    # max\n",
    "    max_time=0;\n",
    "    local_max_time=0;\n",
    "    max_hb=0;\n",
    "    local_max_hb=0;\n",
    "    local_max_slope=0\n",
    "    max_dtw_lb=0;\n",
    "\n",
    "    # min\n",
    "    min_time=2;\n",
    "    local_min_time=2;\n",
    "    min_hb=2;\n",
    "    local_min_hb=2;\n",
    "    local_min_slope=2\n",
    "    min_dtw_lb=9999999999999;\n",
    "    \n",
    "    # acquire max-min\n",
    "    for feature in SeriesFeature:\n",
    " \n",
    "        max_time = max_time  if max_time>feature[0][0] else feature[0][0]\n",
    "        local_max_time = local_max_time  if local_max_time>feature[0][1] else feature[0][1]\n",
    "        max_hb = max_hb  if max_hb>feature[0][3] else feature[0][3]\n",
    "        local_max_hb = local_max_hb  if local_max_hb>feature[0][4] else feature[0][4]\n",
    "        local_max_slope = local_max_slope  if local_max_slope>feature[0][5] else feature[0][5]\n",
    "        max_dtw_lb = max_dtw_lb  if max_dtw_lb>feature[1] else feature[1]\n",
    "\n",
    "\n",
    "        min_time = min_time  if min_time<feature[0][0] else feature[0][0]\n",
    "        local_min_time = local_min_time  if local_min_time<feature[0][1] else feature[0][1]\n",
    "        min_hb = min_hb  if min_hb<feature[0][3] else feature[0][3]\n",
    "        local_min_hb = local_min_hb  if local_min_hb<feature[0][4] else feature[0][4]\n",
    "        local_min_slope = local_min_slope  if local_min_slope<feature[0][5] else feature[0][5]\n",
    "        min_dtw_lb = min_dtw_lb  if min_dtw_lb<feature[1] else feature[1]\n",
    "\n",
    "    print(\"------------------------------------\",ll)\n",
    "    print(\"max\",[max_time,local_max_time,max_hb,local_max_hb,local_max_slope,max_dtw_lb])\n",
    "    print(\"min\",[min_time,local_min_time,min_hb,local_min_hb,local_min_slope,min_dtw_lb])\n",
    "    print(\"------------------------------------\")"
   ]
  },
  {
   "cell_type": "code",
   "execution_count": 12,
   "metadata": {
    "scrolled": true
   },
   "outputs": [
    {
     "name": "stdout",
     "output_type": "stream",
     "text": [
      "Processing1round1times：\n"
     ]
    },
    {
     "name": "stderr",
     "output_type": "stream",
     "text": [
      "/home/wwd/anaconda3/lib/python3.7/site-packages/ipykernel_launcher.py:36: RankWarning: Polyfit may be poorly conditioned\n",
      "/home/wwd/anaconda3/lib/python3.7/site-packages/ipykernel_launcher.py:36: RankWarning: Polyfit may be poorly conditioned\n",
      "/home/wwd/anaconda3/lib/python3.7/site-packages/ipykernel_launcher.py:36: RankWarning: Polyfit may be poorly conditioned\n",
      "/home/wwd/anaconda3/lib/python3.7/site-packages/ipykernel_launcher.py:37: RankWarning: Polyfit may be poorly conditioned\n",
      "/home/wwd/anaconda3/lib/python3.7/site-packages/ipykernel_launcher.py:37: RankWarning: Polyfit may be poorly conditioned\n",
      "/home/wwd/anaconda3/lib/python3.7/site-packages/ipykernel_launcher.py:37: RankWarning: Polyfit may be poorly conditioned\n"
     ]
    },
    {
     "name": "stdout",
     "output_type": "stream",
     "text": [
      "Processing1round2times：\n"
     ]
    },
    {
     "name": "stderr",
     "output_type": "stream",
     "text": [
      "/home/wwd/anaconda3/lib/python3.7/site-packages/ipykernel_launcher.py:36: RankWarning: Polyfit may be poorly conditioned\n",
      "/home/wwd/anaconda3/lib/python3.7/site-packages/ipykernel_launcher.py:36: RankWarning: Polyfit may be poorly conditioned\n",
      "/home/wwd/anaconda3/lib/python3.7/site-packages/ipykernel_launcher.py:36: RankWarning: Polyfit may be poorly conditioned\n"
     ]
    },
    {
     "ename": "KeyboardInterrupt",
     "evalue": "",
     "output_type": "error",
     "traceback": [
      "\u001b[0;31m---------------------------------------------------------------------------\u001b[0m",
      "\u001b[0;31mKeyboardInterrupt\u001b[0m                         Traceback (most recent call last)",
      "\u001b[0;32m<ipython-input-12-99865c2ed500>\u001b[0m in \u001b[0;36m<module>\u001b[0;34m\u001b[0m\n\u001b[1;32m      4\u001b[0m     \u001b[0mx\u001b[0m \u001b[0;34m=\u001b[0m \u001b[0mnp\u001b[0m\u001b[0;34m.\u001b[0m\u001b[0marray\u001b[0m\u001b[0;34m(\u001b[0m\u001b[0mx\u001b[0m\u001b[0;34m)\u001b[0m\u001b[0;34m\u001b[0m\u001b[0;34m\u001b[0m\u001b[0m\n\u001b[1;32m      5\u001b[0m     \u001b[0my\u001b[0m \u001b[0;34m=\u001b[0m \u001b[0mnp\u001b[0m\u001b[0;34m.\u001b[0m\u001b[0marray\u001b[0m\u001b[0;34m(\u001b[0m\u001b[0my\u001b[0m\u001b[0;34m)\u001b[0m\u001b[0;34m\u001b[0m\u001b[0;34m\u001b[0m\u001b[0m\n\u001b[0;32m----> 6\u001b[0;31m     \u001b[0mlab\u001b[0m\u001b[0;34m(\u001b[0m\u001b[0mx\u001b[0m\u001b[0;34m,\u001b[0m\u001b[0my\u001b[0m\u001b[0;34m,\u001b[0m\u001b[0mll\u001b[0m\u001b[0;34m)\u001b[0m\u001b[0;34m\u001b[0m\u001b[0;34m\u001b[0m\u001b[0m\n\u001b[0m",
      "\u001b[0;32m<ipython-input-11-f325830778cc>\u001b[0m in \u001b[0;36mlab\u001b[0;34m(x, y, ll)\u001b[0m\n\u001b[1;32m     11\u001b[0m         \u001b[0mtimeSeries1\u001b[0m\u001b[0;34m,\u001b[0m\u001b[0mtimeSeries2\u001b[0m \u001b[0;34m=\u001b[0m \u001b[0malign_data\u001b[0m\u001b[0;34m(\u001b[0m\u001b[0mx\u001b[0m\u001b[0;34m,\u001b[0m\u001b[0my\u001b[0m\u001b[0;34m,\u001b[0m\u001b[0mx2\u001b[0m\u001b[0;34m,\u001b[0m\u001b[0my2\u001b[0m\u001b[0;34m)\u001b[0m\u001b[0;34m\u001b[0m\u001b[0;34m\u001b[0m\u001b[0m\n\u001b[1;32m     12\u001b[0m \u001b[0;34m\u001b[0m\u001b[0m\n\u001b[0;32m---> 13\u001b[0;31m         \u001b[0mfeature\u001b[0m \u001b[0;34m=\u001b[0m \u001b[0msimilar_all\u001b[0m\u001b[0;34m(\u001b[0m\u001b[0mx\u001b[0m\u001b[0;34m,\u001b[0m\u001b[0my\u001b[0m\u001b[0;34m,\u001b[0m\u001b[0mx2\u001b[0m\u001b[0;34m,\u001b[0m\u001b[0my2\u001b[0m\u001b[0;34m,\u001b[0m\u001b[0mtimeSeries1\u001b[0m\u001b[0;34m,\u001b[0m\u001b[0mtimeSeries2\u001b[0m\u001b[0;34m)\u001b[0m\u001b[0;34m\u001b[0m\u001b[0;34m\u001b[0m\u001b[0m\n\u001b[0m\u001b[1;32m     14\u001b[0m \u001b[0;34m\u001b[0m\u001b[0m\n\u001b[1;32m     15\u001b[0m         \u001b[0mSeriesFeature\u001b[0m\u001b[0;34m.\u001b[0m\u001b[0mappend\u001b[0m\u001b[0;34m(\u001b[0m\u001b[0mfeature\u001b[0m\u001b[0;34m)\u001b[0m\u001b[0;34m\u001b[0m\u001b[0;34m\u001b[0m\u001b[0m\n",
      "\u001b[0;32m<ipython-input-8-a55ad14243c9>\u001b[0m in \u001b[0;36msimilar_all\u001b[0;34m(x1, y1, x2, y2, tS1, tS2)\u001b[0m\n\u001b[1;32m      6\u001b[0m \u001b[0;34m\u001b[0m\u001b[0m\n\u001b[1;32m      7\u001b[0m     \u001b[0mfeature\u001b[0m \u001b[0;34m=\u001b[0m \u001b[0mtimeseries_score\u001b[0m\u001b[0;34m(\u001b[0m\u001b[0;34m[\u001b[0m\u001b[0mx1\u001b[0m\u001b[0;34m,\u001b[0m\u001b[0my1\u001b[0m\u001b[0;34m]\u001b[0m\u001b[0;34m,\u001b[0m\u001b[0;34m[\u001b[0m\u001b[0mx2\u001b[0m\u001b[0;34m,\u001b[0m\u001b[0my2\u001b[0m\u001b[0;34m]\u001b[0m\u001b[0;34m,\u001b[0m\u001b[0;36m200\u001b[0m\u001b[0;34m,\u001b[0m\u001b[0;36m20\u001b[0m\u001b[0;34m)\u001b[0m\u001b[0;34m\u001b[0m\u001b[0;34m\u001b[0m\u001b[0m\n\u001b[0;32m----> 8\u001b[0;31m     \u001b[0mdistent\u001b[0m \u001b[0;34m=\u001b[0m \u001b[0mDtw_LB_conter\u001b[0m\u001b[0;34m(\u001b[0m\u001b[0my_p1\u001b[0m\u001b[0;34m,\u001b[0m\u001b[0my_p2\u001b[0m\u001b[0;34m,\u001b[0m\u001b[0;36m100\u001b[0m\u001b[0;34m)\u001b[0m\u001b[0;34m\u001b[0m\u001b[0;34m\u001b[0m\u001b[0m\n\u001b[0m\u001b[1;32m      9\u001b[0m \u001b[0;34m\u001b[0m\u001b[0m\n\u001b[1;32m     10\u001b[0m     \u001b[0;32mreturn\u001b[0m \u001b[0mfeature\u001b[0m\u001b[0;34m,\u001b[0m\u001b[0mdistent\u001b[0m\u001b[0;34m\u001b[0m\u001b[0;34m\u001b[0m\u001b[0m\n",
      "\u001b[0;32m<ipython-input-6-0741990ec31e>\u001b[0m in \u001b[0;36mDtw_LB_conter\u001b[0;34m(data1, data2, r)\u001b[0m\n\u001b[1;32m      1\u001b[0m \u001b[0;31m# Similarity\u001b[0m\u001b[0;34m\u001b[0m\u001b[0;34m\u001b[0m\u001b[0;34m\u001b[0m\u001b[0m\n\u001b[1;32m      2\u001b[0m \u001b[0;32mdef\u001b[0m \u001b[0mDtw_LB_conter\u001b[0m\u001b[0;34m(\u001b[0m\u001b[0mdata1\u001b[0m\u001b[0;34m,\u001b[0m\u001b[0mdata2\u001b[0m\u001b[0;34m,\u001b[0m\u001b[0mr\u001b[0m\u001b[0;34m)\u001b[0m\u001b[0;34m:\u001b[0m\u001b[0;34m\u001b[0m\u001b[0;34m\u001b[0m\u001b[0m\n\u001b[0;32m----> 3\u001b[0;31m     \u001b[0ml\u001b[0m\u001b[0;34m=\u001b[0m\u001b[0mLB_Keogh\u001b[0m\u001b[0;34m(\u001b[0m\u001b[0mdata1\u001b[0m\u001b[0;34m,\u001b[0m\u001b[0mdata2\u001b[0m\u001b[0;34m,\u001b[0m\u001b[0mr\u001b[0m\u001b[0;34m)\u001b[0m\u001b[0;34m+\u001b[0m\u001b[0mDTWDistance\u001b[0m\u001b[0;34m(\u001b[0m\u001b[0mdata1\u001b[0m\u001b[0;34m,\u001b[0m\u001b[0mdata2\u001b[0m\u001b[0;34m)\u001b[0m\u001b[0;34m\u001b[0m\u001b[0;34m\u001b[0m\u001b[0m\n\u001b[0m\u001b[1;32m      4\u001b[0m     \u001b[0;32mreturn\u001b[0m \u001b[0ml\u001b[0m\u001b[0;34m/\u001b[0m\u001b[0;36m2\u001b[0m\u001b[0;34m\u001b[0m\u001b[0;34m\u001b[0m\u001b[0m\n\u001b[1;32m      5\u001b[0m \u001b[0;34m\u001b[0m\u001b[0m\n",
      "\u001b[0;32m<ipython-input-4-05aa5a73d21f>\u001b[0m in \u001b[0;36mDTWDistance\u001b[0;34m(s1, s2)\u001b[0m\n\u001b[1;32m     25\u001b[0m             \u001b[0mcost\u001b[0m \u001b[0;34m=\u001b[0m \u001b[0md\u001b[0m \u001b[0;34m**\u001b[0m \u001b[0;36m2\u001b[0m\u001b[0;34m\u001b[0m\u001b[0;34m\u001b[0m\u001b[0m\n\u001b[1;32m     26\u001b[0m             \u001b[0mpaths\u001b[0m\u001b[0;34m[\u001b[0m\u001b[0mi\u001b[0m \u001b[0;34m+\u001b[0m \u001b[0;36m1\u001b[0m\u001b[0;34m,\u001b[0m \u001b[0mj\u001b[0m \u001b[0;34m+\u001b[0m \u001b[0;36m1\u001b[0m\u001b[0;34m]\u001b[0m \u001b[0;34m=\u001b[0m \u001b[0mcost\u001b[0m \u001b[0;34m+\u001b[0m \u001b[0mmin\u001b[0m\u001b[0;34m(\u001b[0m\u001b[0mpaths\u001b[0m\u001b[0;34m[\u001b[0m\u001b[0mi\u001b[0m\u001b[0;34m,\u001b[0m \u001b[0mj\u001b[0m \u001b[0;34m+\u001b[0m \u001b[0;36m1\u001b[0m\u001b[0;34m]\u001b[0m\u001b[0;34m,\u001b[0m \u001b[0mpaths\u001b[0m\u001b[0;34m[\u001b[0m\u001b[0mi\u001b[0m \u001b[0;34m+\u001b[0m \u001b[0;36m1\u001b[0m\u001b[0;34m,\u001b[0m \u001b[0mj\u001b[0m\u001b[0;34m]\u001b[0m\u001b[0;34m,\u001b[0m \u001b[0mpaths\u001b[0m\u001b[0;34m[\u001b[0m\u001b[0mi\u001b[0m\u001b[0;34m,\u001b[0m \u001b[0mj\u001b[0m\u001b[0;34m]\u001b[0m\u001b[0;34m)\u001b[0m\u001b[0;34m\u001b[0m\u001b[0;34m\u001b[0m\u001b[0m\n\u001b[0;32m---> 27\u001b[0;31m             \u001b[0;32mif\u001b[0m \u001b[0mnp\u001b[0m\u001b[0;34m.\u001b[0m\u001b[0mabs\u001b[0m\u001b[0;34m(\u001b[0m\u001b[0ms1\u001b[0m\u001b[0;34m[\u001b[0m\u001b[0mi\u001b[0m\u001b[0;34m]\u001b[0m \u001b[0;34m-\u001b[0m \u001b[0ms2\u001b[0m\u001b[0;34m[\u001b[0m\u001b[0mj\u001b[0m\u001b[0;34m]\u001b[0m\u001b[0;34m)\u001b[0m \u001b[0;34m<\u001b[0m \u001b[0msdt\u001b[0m\u001b[0;34m:\u001b[0m\u001b[0;34m\u001b[0m\u001b[0;34m\u001b[0m\u001b[0m\n\u001b[0m\u001b[1;32m     28\u001b[0m                 \u001b[0;32mif\u001b[0m \u001b[0mi\u001b[0m \u001b[0;34m==\u001b[0m \u001b[0;36m0\u001b[0m \u001b[0;32mor\u001b[0m \u001b[0mj\u001b[0m \u001b[0;34m==\u001b[0m \u001b[0;36m0\u001b[0m\u001b[0;34m:\u001b[0m\u001b[0;34m\u001b[0m\u001b[0;34m\u001b[0m\u001b[0m\n\u001b[1;32m     29\u001b[0m                     \u001b[0msub_matrix\u001b[0m\u001b[0;34m[\u001b[0m\u001b[0mi\u001b[0m\u001b[0;34m]\u001b[0m\u001b[0;34m[\u001b[0m\u001b[0mj\u001b[0m\u001b[0;34m]\u001b[0m \u001b[0;34m=\u001b[0m \u001b[0;36m1\u001b[0m\u001b[0;34m\u001b[0m\u001b[0;34m\u001b[0m\u001b[0m\n",
      "\u001b[0;31mKeyboardInterrupt\u001b[0m: "
     ]
    }
   ],
   "source": [
    "for ll in data:\n",
    "    x = data[ll]['Timestamp'].copy()[0:999]\n",
    "    y = data[ll]['Heartbeat'].copy()[0:999]\n",
    "    x = np.array(x)\n",
    "    y = np.array(y)\n",
    "    lab(x,y,ll)"
   ]
  },
  {
   "cell_type": "code",
   "execution_count": null,
   "metadata": {},
   "outputs": [],
   "source": [
    "ma=[0,0,0,0,0,0]\n",
    "mi=[2,2,2,2,2,9999999]\n",
    "def getMax_min(max,min):\n",
    "    \n",
    "    for i in range(0,6):\n",
    "        if(max[i]>ma[i]):\n",
    "            ma[i]=max[i]\n",
    "    \n",
    "    for i in range(0,6):\n",
    "        if(min[i]<mi[i]):\n",
    "            mi[i]=min[i]"
   ]
  },
  {
   "cell_type": "code",
   "execution_count": null,
   "metadata": {},
   "outputs": [],
   "source": [
    "#------------------------------------ 1\n",
    "max = [2.002258001447795, 1.0570130077893638, 1.0137684658307924, 1.0859124181760946, 5.565593052278616, 29697813817725.926]\n",
    "min = [0.6274613543613105, 0.9899090851168066, 0.8730606819842573, 0.907781358100807, 0.9458915512553274, 318.34207529807463]\n",
    "#------------------------------------\n",
    "getMax_min(max,min)\n",
    "#------------------------------------ 2\n",
    "max = [3.0588736258355507, 1.0613080697841748, 1.0036883692722738, 1.0269103261612642, 1.4882605019727557, 54019644.76123221]\n",
    "min = [0.9585802562402245, 0.9939361020199611, 0.8643796702222319, 0.8584577672225853, 0.7152536151557151, 1396.3828503155964]\n",
    "#------------------------------------\n",
    "getMax_min(max,min)\n",
    "#------------------------------------ 3\n",
    "max = [1.0228246938656413, 1.0590495837311145, 1.068762338748257, 1.0372821483645376, 1.1259569671599454, 1.0647439758093634e+19]\n",
    "min = [0.3205296056867132, 0.9918184642731852, 0.9204215832280438, 0.8671398827814801, 0.6028179100188372, 2785.8628732978977]\n",
    "#------------------------------------\n",
    "getMax_min(max,min)\n",
    "#------------------------------------ 4\n",
    "max = [1.5300519498922778, 1.0535835919629308, 1.0537251959561815, 1.0876163353001365, 3.2002971803465257, 6077125751818779.0]\n",
    "min = [0.4794828978225481, 0.9866972919853791, 0.9074715472152494, 0.9092040502545155, 0.9748454279433137, 87.21307931542106]\n",
    "getMax_min(max,min)\n",
    "\n",
    "#------------------------------------ 5\n",
    "max = [2.020140875488381, 1.043939216645781, 1.0226435099277345, 1.1299881601266457, 9.460846264453833, 24255460257685.344]\n",
    "min = [0.6330654335345566, 0.9776623338480374, 0.8807038986684206, 0.9446404748152787, 1.0, 311.227767475546]\n",
    "#------------------------------------\n",
    "getMax_min(max,min)\n",
    "#------------------------------------ 6\n",
    "max = [3.110609189376442, 1.0474610642799118, 1.0182552347397875, 1.0676492833593343, 1.1087685575341617, 18077871.072537318]\n",
    "min = [0.9747929854412268, 0.9809668721238143, 0.8769247018819197, 0.8925086448648285, 0.6208092496788867, 1167.6628417487082]\n",
    "getMax_min(max,min)\n",
    "#------------------------------------ 7\n",
    "max = [1.0140424223465512, 1.0373085182203634, 1.0695291298376748, 1.0823727445636229, 1.0246612780098279, 1.214170822821764e+19]\n",
    "min = [0.31777744488737936, 0.9714555031594543, 0.9210819461945698, 0.9048123795515373, 0.5864866831951373, 469.6499954298779]\n",
    "#------------------------------------\n",
    "getMax_min(max,min)\n",
    "#------------------------------------ 8\n",
    "max = [1.5383342333135748, 1.0430825149879748, 1.059500717229195, 1.1169612892711904, 1.4535279067932603, 5518023383237365.0]\n",
    "min = [0.48207837391452707, 0.9768598248201764, 0.9124454448174989, 0.9337323459398027, 0.7583138653688356, 114.78022867262189]\n",
    "#------------------------------------\n",
    "getMax_min(max,min)\n",
    "#------------------------------------ 9\n",
    "max = [1.9982847835141808, 1.050036064987783, 1.0263330882217658, 1.0770545214355178, 5.246919927241418, 30861674576721.71]\n",
    "min = [0.626216239743716, 0.983377265193943, 0.8838813754298245, 0.9003843668455527, 1.0, 428.1204823619919]\n",
    "#------------------------------------\n",
    "getMax_min(max,min)\n",
    "#------------------------------------ 10\n",
    "max = [3.0612258684386915, 1.0442601379101792, 1.0129929118470975, 1.036520063182324, 1.9223917188703203, 51627575.97306398]\n",
    "min = [0.9593173946751744, 0.977971115794492, 0.8723927723848347, 0.8665062071493033, 1.0, 1918.0682269819663]\n",
    "#------------------------------------\n",
    "getMax_min(max,min)\n",
    "\n",
    "#------------------------------------ 11\n",
    "max = [1.0070691339700606, 1.0, 1.1148322119533063, 1.1162246641289033, 1.4627319415947113, 1.3848697802375293e+19]\n",
    "min = [0.3155921775712288, 0.9365394002297475, 0.960097107053266, 0.9331430229137412, 0.6930966222468694, 10600.588955693907]\n",
    "#------------------------------------\n",
    "getMax_min(max,min)\n",
    "#------------------------------------ 12\n",
    "max = [1.5178530117450029, 1.0247316130560011, 1.1611660984740948, 1.1962638572263324, 7.000653668127365, 7151364372360863.0]\n",
    "min = [0.4756600327141934, 0.9596705524239317, 1.0, 1.0, 1.0, 144.19256754136586]\n",
    "getMax_min(max,min)\n",
    "\n",
    "#------------------------------------ 13\n",
    "max = [2.073311765541173, 1.0619890328883312, 1.0, 1.0585395254189314, 9.084296037359593, 13357705166424.014]\n",
    "min = [0.6497279608716916, 0.9945707746062158, 0.8612032346742766, 0.8849252587873823, 1.0, 6995.313510928972]\n",
    "#------------------------------------\n",
    "getMax_min(max,min)\n",
    "#------------------------------------ 14\n",
    "max = [3.1910459306069656, 1.0409296411311522, 1.009812016757932, 1.029867220051306, 1.1133774045353695, 19070149.202985052]\n",
    "min = [1.0, 0.9748522897776546, 0.8696533752448858, 0.8609316782127548, 0.616217003320888, 1352.9689806743409]\n",
    "#------------------------------------\n",
    "getMax_min(max,min)\n",
    "#------------------------------------ 15\n",
    "max = [1.0482803811868946, 1.047637338296079, 1.0580316785981312, 1.0302066931751916, 1.4424520762432713, 6.966823112970315e+18]\n",
    "min = [0.3285068294167431, 0.9811311653720708, 0.9111803039965651, 0.8612145644699835, 0.6535920020144133, 496.9746488755118]\n",
    "#------------------------------------\n",
    "getMax_min(max,min)\n",
    "#------------------------------------ 16\n",
    "max = [1.5872947915088083, 1.0442911610970296, 1.0405372533579835, 1.0810375258373282, 1.4684105804277368, 3022062665459971.0]\n",
    "min = [0.49742148061369035, 0.9779948184559965, 0.8961140483909827, 0.9037129851769243, 0.718485124423428, 141.98722390679177]\n",
    "#------------------------------------\n",
    "getMax_min(max,min)\n",
    "#------------------------------------ 17\n",
    "max = [2.0493947824000434, 1.0441420392292073, 1.0058737432399592, 1.0979104009863687, 6.5659380422148175, 17297001631236.879]\n",
    "min = [0.6422329314483513, 0.9778533514494063, 0.8662617213521756, 0.9178142792835828, 1.0, 242.9524426850694]\n",
    "#------------------------------------\n",
    "getMax_min(max,min)\n",
    "#------------------------------------ 18\n",
    "max = [3.178583331122427, 1.0477048395330852, 1.0137435028675026, 1.0194408781406636, 1.287318830531533, 19163961.216586992]\n",
    "min = [0.9960945095258569, 0.9812008981333312, 0.873039183799525, 0.8522143649790965, 0.6713655367607807, 1407.8540411156719]\n",
    "#------------------------------------\n",
    "getMax_min(max,min)\n",
    "#------------------------------------ 19\n",
    "max = [1.0071402233696327, 1.0153977309641138, 1.069312877359244, 1.0632113516900785, 1.2274353652896135, 1.3580897232479857e+19]\n",
    "min = [0.31561445534507415, 0.950936507572486, 0.9208957088606389, 0.8888008537333256, 0.6862674040681017, 412.720004686038]\n",
    "#------------------------------------\n",
    "getMax_min(max,min)\n",
    "#------------------------------------ 20\n",
    "max = [1.551201271480668, 1.0363141882451532, 1.0547064417912062, 1.1038459994989263, 3.232895907928367, 4641730733609618.0]\n",
    "min = [0.4861106061189209, 0.9705222185651241, 0.9083165993023834, 0.9227722352397834, 1.0, 96.36633111666015]\n",
    "#------------------------------------\n",
    "getMax_min(max,min)\n",
    "#------------------------------------ 21\n",
    "max = [1.9539009849141868, 1.047466277564761, 1.03513870580738, 1.109628235619888, 4.357406987745014, 50343218336457.98]\n",
    "min = [0.6123073836616753, 0.9809681268960728, 0.8914648017778601, 0.9276053702620819, 1.0, 366.0516017684131]\n",
    "#------------------------------------\n",
    "getMax_min(max,min)\n",
    "#------------------------------------ 22\n",
    "max = [2.97426718018041, 1.067781438149681, 1.0043032183766596, 1.0, 1.4497383131512023, 234700628.576337]\n",
    "min = [0.9320665527414322, 1.0, 0.8649091802597657, 0.8359667507792045, 0.6384528783927658, 1650.5914233801304]\n",
    "#------------------------------------\n",
    "getMax_min(max,min)\n",
    "#------------------------------------ 23\n",
    "max = [1.0, 1.0428804735137571, 1.070278164028222, 1.0667991799247507, 1.0931917487605027, 1.5580748830135468e+19]\n",
    "min = [0.3133768744625343, 0.9766745212637478, 0.9217270168623508, 0.8917921974443722, 0.571459312178878, 386.6401449192199]\n",
    "#------------------------------------\n",
    "getMax_min(max,min)\n",
    "#------------------------------------ 24\n",
    "max = [1.5017064793674566, 1.0627768390438885, 1.0348044129193812, 1.053393121799976, 4.094355694739045, 8923948175599199.0]\n",
    "min = [0.47060008286430977, 0.9953070938038847, 0.8911769076613868, 0.8805956806012303, 1.0, 184.4994419230643]\n",
    "getMax_min(max,min)"
   ]
  },
  {
   "cell_type": "code",
   "execution_count": null,
   "metadata": {},
   "outputs": [],
   "source": [
    "print(\"max:\",ma)\n",
    "print(\"min:\",mi)"
   ]
  },
  {
   "cell_type": "code",
   "execution_count": null,
   "metadata": {},
   "outputs": [],
   "source": [
    "print(\"max:\",ma)\n",
    "print(\"min:\",mi)"
   ]
  },
  {
   "cell_type": "code",
   "execution_count": null,
   "metadata": {},
   "outputs": [],
   "source": []
  },
  {
   "cell_type": "code",
   "execution_count": null,
   "metadata": {},
   "outputs": [],
   "source": [
    "#test_sp_normal_10\n",
    "\n",
    "#------------------------------------ 1\n",
    "max =  [1.0595543561891947, 1.1356467111791064, 1.0250059290834872, 1.0, 1.1227264201181628, 5959498.147039223]\n",
    "min =  [0.9690994849897319, 0.9977742828139613, 0.8653156714615841, 0.8879492376186924, 0.7463192433410457, 574.8330908259398]\n",
    "#------------------------------------\n",
    "getMax_min(max,min)\n",
    "#------------------------------------ 2\n",
    "max =  [1.0578720358798812, 1.1043348968782853, 1.0767862699617652, 1.0424908461864872, 2.628192123761645, 7078181.81028666]\n",
    "min =  [0.967560785501763, 0.9702678936713017, 0.9090289214675236, 0.9256677727950635, 1.0, 480.9074251751615]\n",
    "#------------------------------------\n",
    "getMax_min(max,min)\n",
    "#------------------------------------ 3\n",
    "max =  [1.0665800159700687, 1.0, 1.177099744947488, 1.11862658567529, 2.763796336323083, 11697858.40235486]\n",
    "min =  [0.9755253594487315, 0.8786014867975027, 0.9937141115732341, 0.9932363347387643, 0.988384630852285, 896.3646778335005]\n",
    "#------------------------------------\n",
    "getMax_min(max,min)\n",
    "#------------------------------------ 4\n",
    "max =  [1.0875965983979865, 1.006906820677918, 1.184545666845689, 1.1262427467962282, 1.714418456704771, 17235990.949140422]\n",
    "min =  [0.9947477420364377, 0.8846746109859508, 1.0, 1.0, 0.9866838428191488, 804.0140425524058]\n",
    "#------------------------------------\n",
    "getMax_min(max,min)\n",
    "#------------------------------------ 5\n",
    "max =  [1.0933390973790698, 1.1062280015355974, 1.0210359645724245, 1.0441871565938443, 1.1514406688064285, 13584292.983242251]\n",
    "min =  [1.0, 0.9719285531209068, 0.8619642054757818, 0.9271860508310015, 0.8476403253829723, 395.3907627470951]\n",
    "#------------------------------------\n",
    "getMax_min(max,min)\n",
    "#------------------------------------ 6\n",
    "max =  [1.0665800159700687, 1.0, 1.177099744947488, 1.11862658567529, 2.763796336323083, 11697858.40235486]\n",
    "min =  [0.9755253594487315, 0.8786014867975027, 0.9937141115732341, 0.9932363347387643, 0.988384630852285, 896.3646778335005]\n",
    "#------------------------------------\n",
    "getMax_min(max,min)\n",
    "#------------------------------------ 7\n",
    "max =  [1.0704734190391993, 1.0633151575276534, 1.0661473570708664, 1.0839038364944011, 1.4749516959481068, 8644418.066646487]\n",
    "min =  [0.9790863800675532, 0.9342251513498414, 0.9000474923941904, 0.9624365756298194, 1.0, 612.094966302867]\n",
    "#------------------------------------\n",
    "getMax_min(max,min)\n",
    "#------------------------------------ 8\n",
    "max =  [1.091612172719601, 1.0792341150208453, 1.0611052362129365, 1.066500555418224, 1.6717902298375613, 12785769.768047951]\n",
    "min =  [0.9984205040653824, 0.9482165338262579, 0.8957909060935908, 0.9469656087047479, 1.0, 641.3104444764219]\n",
    "#------------------------------------\n",
    "getMax_min(max,min)\n",
    "#------------------------------------ 9\n",
    "max =  [1.0, 1.0400241580423923, 1.1671691582631918, 1.1005167290921263, 2.1005834761223587, 415361526.2198037]\n",
    "min =  [0.9146293244220203, 0.9137675032307273, 0.9853306553990705, 0.9771662484521173, 1.0, 946.1569125697127]\n",
    "#------------------------------------\n",
    "getMax_min(max,min)\n",
    "#------------------------------------ 10\n",
    "max =  [1.0049535158946625, 1.1381819849497912, 1.0, 1.0131047860287905, 1.3101030248727497, 272911858.6747668]\n",
    "min =  [0.9191599553182692, 1.0, 0.8442055278990525, 0.8995867546353695, 0.9525380185857444, 704.3891448870008]\n",
    "#------------------------------------\n",
    "getMax_min(max,min)"
   ]
  },
  {
   "cell_type": "code",
   "execution_count": null,
   "metadata": {},
   "outputs": [],
   "source": [
    "print(\"max:\",ma)\n",
    "print(\"min:\",mi)"
   ]
  },
  {
   "cell_type": "code",
   "execution_count": null,
   "metadata": {},
   "outputs": [],
   "source": [
    "#test_lu_normal_10\n",
    "#------------------------------------ 1\n",
    "max =  [1.051956257643276, 1.0, 1.0325312635548292, 1.0570077871352224, 15.968297437967378, 576854.5359339947]\n",
    "min =  [0.973799919369859, 0.944593092961461, 0.9700947845028364, 1.0, 1.0, 3112.0183929859777]\n",
    "#------------------------------------\n",
    "getMax_min(max,min)\n",
    "#------------------------------------ 2\n",
    "max =  [1.0543891796201685, 1.003098724434469, 1.029679772259109, 1.0459672530146222, 8.826950304634446, 521825.62375928793]\n",
    "min =  [0.9760520845218957, 0.9475200870991707, 0.9674157209900184, 0.9895600918836154, 1.0, 4365.315955717611]\n",
    "#------------------------------------\n",
    "getMax_min(max,min)\n",
    "#------------------------------------ 3\n",
    "max =  [1.0, 1.0048304933555319, 1.0643612150579604, 1.0226823525187254, 2.876721380709903, 11173623.483586904]\n",
    "min =  [0.9257038135325963, 0.9491557772756465, 1.0, 0.9675462649004153, 1.0, 4350.34397481929]\n",
    "#------------------------------------\n",
    "getMax_min(max,min)\n",
    "#------------------------------------ 4\n",
    "max =  [1.0448229468010801, 1.007382157558314, 1.0294351738496168, 1.0197182432538268, 1.3546441877669844, 781962.9756599276]\n",
    "min =  [0.9671965863201248, 0.9515661788750552, 0.9671859132837327, 0.9647396089439851, 0.8502901586425223, 4194.240300436737]\n",
    "#------------------------------------\n",
    "getMax_min(max,min)\n",
    "#------------------------------------ 5\n",
    "max =  [1.0433473008526155, 1.0313581010071804, 1.0400335288725988, 1.0376826113159467, 4.19810109582534, 708377.5343314525]\n",
    "min =  [0.9658305752382073, 0.9742136780983094, 0.9771433928245526, 0.9817189106347488, 0.9499702861246009, 3454.4840748113347]\n",
    "#------------------------------------\n",
    "getMax_min(max,min)\n",
    "#------------------------------------ 6\n",
    "max =  [1.0566975134574805, 1.0305120851497402, 1.0189084243041615, 1.0330864892408067, 1.5213224158704752, 637723.8321851627]\n",
    "min =  [0.9781889179580018, 0.9734145532440117, 0.9572957092848186, 0.9773677680947536, 0.7614299466731854, 3054.8604253082594]\n",
    "#------------------------------------\n",
    "getMax_min(max,min)\n",
    "#------------------------------------ 7\n",
    "max =  [1.0802591340570162, 1.0276765482063612, 1.0049589503238385, 1.0, 3.1348485828002715, 773018.9224716579]\n",
    "min =  [1.0, 0.9707361550973218, 0.9441897507220919, 0.9460720660965464, 1.0, 7906.400340387176]\n",
    "#------------------------------------\n",
    "getMax_min(max,min)\n",
    "#------------------------------------ 8\n",
    "max =  [1.0330390370843703, 1.0479102762659207, 1.0111708939412392, 1.0171979995198601, 5.781118439790464, 1442998.9021562357]\n",
    "min =  [0.9562881761570426, 0.9898488023642319, 0.9500260622388192, 0.9623386243050838, 1.0, 3291.365266900015]\n",
    "#------------------------------------\n",
    "getMax_min(max,min)\n",
    "#------------------------------------ 9\n",
    "max =  [1.0667945208286727, 1.0586569160400157, 1.0, 1.0051722322087113, 3.4499185919569286, 752909.3626282227]\n",
    "min =  [0.9875357561867809, 1.0, 0.9395306648274894, 0.9509638080737283, 1.0, 4979.44125812265]\n",
    "#------------------------------------\n",
    "getMax_min(max,min)\n",
    "#------------------------------------ 10\n",
    "max =  [1.0741910577424076, 1.0487896564158752, 1.0055752393553934, 1.0162228123999086, 1.519355641963293, 835335.5270829849]\n",
    "min =  [0.99438275861476, 0.9906794187148951, 0.9447687731656345, 0.9614113540171161, 0.9228613414784381, 3409.3805462539312]\n",
    "#------------------------------------\n",
    "getMax_min(max,min)"
   ]
  },
  {
   "cell_type": "code",
   "execution_count": null,
   "metadata": {},
   "outputs": [],
   "source": [
    "print(\"max:\",ma)\n",
    "print(\"min:\",mi)"
   ]
  },
  {
   "cell_type": "code",
   "execution_count": null,
   "metadata": {},
   "outputs": [],
   "source": [
    "ma=[0,0,0,0,0,0]\n",
    "mi=[2,2,2,2,2,9999999]\n",
    "def getMax_min(max,min):\n",
    "    \n",
    "    for i in range(0,6):\n",
    "        if(max[i]>ma[i]):\n",
    "            ma[i]=max[i]\n",
    "    \n",
    "    for i in range(0,6):\n",
    "        if(min[i]<mi[i]):\n",
    "            mi[i]=min[i]"
   ]
  },
  {
   "cell_type": "code",
   "execution_count": null,
   "metadata": {},
   "outputs": [],
   "source": [
    "print(\"max:\",ma)\n",
    "print(\"min:\",mi)"
   ]
  },
  {
   "cell_type": "code",
   "execution_count": null,
   "metadata": {},
   "outputs": [],
   "source": []
  },
  {
   "cell_type": "code",
   "execution_count": null,
   "metadata": {},
   "outputs": [],
   "source": []
  },
  {
   "cell_type": "code",
   "execution_count": null,
   "metadata": {},
   "outputs": [],
   "source": []
  },
  {
   "cell_type": "code",
   "execution_count": null,
   "metadata": {},
   "outputs": [],
   "source": []
  },
  {
   "cell_type": "code",
   "execution_count": null,
   "metadata": {},
   "outputs": [],
   "source": []
  },
  {
   "cell_type": "code",
   "execution_count": null,
   "metadata": {},
   "outputs": [],
   "source": []
  },
  {
   "cell_type": "code",
   "execution_count": null,
   "metadata": {},
   "outputs": [],
   "source": []
  }
 ],
 "metadata": {
  "kernelspec": {
   "display_name": "Python 3",
   "language": "python",
   "name": "python3"
  },
  "language_info": {
   "codemirror_mode": {
    "name": "ipython",
    "version": 3
   },
   "file_extension": ".py",
   "mimetype": "text/x-python",
   "name": "python",
   "nbconvert_exporter": "python",
   "pygments_lexer": "ipython3",
   "version": "3.6.2"
  }
 },
 "nbformat": 4,
 "nbformat_minor": 2
}
