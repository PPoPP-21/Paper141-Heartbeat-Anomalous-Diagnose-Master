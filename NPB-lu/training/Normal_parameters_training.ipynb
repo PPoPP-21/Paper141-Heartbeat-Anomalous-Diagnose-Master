{
 "cells": [
  {
   "cell_type": "markdown",
   "metadata": {},
   "source": [
    "# Experiment-training|NPB_lu"
   ]
  },
  {
   "cell_type": "markdown",
   "metadata": {},
   "source": [
    "### Import library"
   ]
  },
  {
   "cell_type": "code",
   "execution_count": 2,
   "metadata": {},
   "outputs": [],
   "source": [
    "import numpy as np\n",
    "import matplotlib.pyplot as plt\n",
    "import pandas as pd\n",
    "import math\n",
    "import warnings\n",
    "warnings.filterwarnings('ignore')"
   ]
  },
  {
   "cell_type": "markdown",
   "metadata": {},
   "source": [
    "### Data alignment"
   ]
  },
  {
   "cell_type": "code",
   "execution_count": 3,
   "metadata": {},
   "outputs": [],
   "source": [
    "# calculting the fitting value R2\n",
    "from sklearn.metrics import r2_score\n",
    "def caculateMse_R2(x,y,p):\n",
    "    y_pre = [p(i) for i in x]\n",
    "    score = r2_score(y, y_pre, multioutput='raw_values')\n",
    "    return score[0]\n",
    "\n",
    "# merge list，[[x1,y1],[x2,y2],...,[xn,yn]]\n",
    "\n",
    "def list_set(x,y):\n",
    "    list=[]\n",
    "    for i in range(0,len(x)):\n",
    "        list.append([x[i],y[i]])\n",
    "    return list\n",
    "\n",
    "# Extend the short series\n",
    "\n",
    "def data_set_fix(list,x):\n",
    "    n=0;\n",
    "    data=0;\n",
    "    for i in range(0,len(list)):\n",
    "        if n==0:\n",
    "            if list[i][0]==x:\n",
    "                n=1\n",
    "                data=list[i][1]\n",
    "        else:\n",
    "            list[i][1]=data\n",
    "    \n",
    "    return list\n"
   ]
  },
  {
   "cell_type": "code",
   "execution_count": 4,
   "metadata": {},
   "outputs": [],
   "source": [
    "# Single series data alignment method\n",
    "def align_data_singe(x,y,x1,n):\n",
    "    \n",
    "    # fitting,if R2<0.9 do re-fitting\n",
    "    while True:\n",
    "        coef = np.polyfit(x,y, n)\n",
    "        poly_fit = np.poly1d(coef)\n",
    "        R2 = caculateMse_R2(x,y,poly_fit)\n",
    "        if n>=19:\n",
    "            break\n",
    "        if R2>0.9:\n",
    "            break\n",
    "        else:\n",
    "            n=n+1 \n",
    "        \n",
    "    # list\n",
    "    data_set = list_set(x,y)\n",
    "    \n",
    "    # Data alignment\n",
    "    for i in range(0,len(x1)):\n",
    "         data_set.append([x1[i],poly_fit(x1[i])])\n",
    "    \n",
    "    # sort\n",
    "    data_set.sort();\n",
    "    \n",
    "    return data_set\n",
    "    \n",
    "# double seriers alignment\n",
    "def align_data(x1,y1,x2,y2):\n",
    "    timeseries1 = align_data_singe(x1,y1,x2,6)\n",
    "    timeseries2 = align_data_singe(x2,y2,x1,6)\n",
    "    \n",
    "   # data fitting（short series align to the long series，tail data mean as the current value）\n",
    "    if(len(x1)>len(x2)):\n",
    "        timeseries2 = data_set_fix(timeseries2,x2[-1])\n",
    "    else:\n",
    "        timeseries1 = data_set_fix(timeseries1,x1[-1])\n",
    "    \n",
    "    return timeseries1,timeseries2"
   ]
  },
  {
   "cell_type": "markdown",
   "metadata": {},
   "source": [
    "### Sequence attribute and feature evaluation algorithm"
   ]
  },
  {
   "cell_type": "code",
   "execution_count": 5,
   "metadata": {},
   "outputs": [],
   "source": [
    "# DTW distance\n",
    "# calculating the weight\n",
    "def calculate_attenuate_weight(seqLen1, seqLen2, com_ls):\n",
    "    weight = 0\n",
    "    for comlen in com_ls:\n",
    "        weight = weight + comlen / seqLen1 * comlen / seqLen2\n",
    "    return 1 - weight\n",
    "\n",
    "# DTW distance\n",
    "def DTWDistance(s1, s2):\n",
    "    # acquire std\n",
    "    sdt = np.std(s1, ddof=1) if np.std(s1, ddof=1) > np.std(s2, ddof=1) else np.std(s2, ddof=1)\n",
    "    l1 = len(s1)\n",
    "    l2 = len(s2)\n",
    "    paths = np.full((l1 + 1, l2 + 1), np.inf)  # assign infinity\n",
    "    sub_matrix = np.full((l1, l2), 0)  # assign 0\n",
    "    max_sub_len = 0\n",
    "\n",
    "    paths[0, 0] = 0\n",
    "    for i in range(l1):\n",
    "        for j in range(l2):\n",
    "            d = s1[i] - s2[j]\n",
    "            cost = d ** 2\n",
    "            paths[i + 1, j + 1] = cost + min(paths[i, j + 1], paths[i + 1, j], paths[i, j])\n",
    "            if np.abs(s1[i] - s2[j]) < sdt:\n",
    "                if i == 0 or j == 0:\n",
    "                    sub_matrix[i][j] = 1\n",
    "                else:\n",
    "                    sub_matrix[i][j] = sub_matrix[i - 1][j - 1] + 1\n",
    "                    max_sub_len = sub_matrix[i][j] if sub_matrix[i][j] > max_sub_len else max_sub_len\n",
    "\n",
    "    paths = np.sqrt(paths)\n",
    "    s = paths[l1, l2]\n",
    "\n",
    "    return s"
   ]
  },
  {
   "cell_type": "code",
   "execution_count": 6,
   "metadata": {},
   "outputs": [],
   "source": [
    "#LB_Keogh\n",
    "def LB_Keogh(s1,s2,r):\n",
    "    LB_sum=0\n",
    "    for ind,i in enumerate(s1):\n",
    "        \n",
    "        lower_bound=min(s2[(ind-r if ind-r>=0 else 0):(ind+r)])\n",
    "        upper_bound=max(s2[(ind-r if ind-r>=0 else 0):(ind+r)])\n",
    "        \n",
    "        if i>upper_bound:\n",
    "            LB_sum=LB_sum+(i-upper_bound)**2\n",
    "        elif i<lower_bound:\n",
    "            LB_sum=LB_sum+(i-lower_bound)**2\n",
    "    \n",
    "    return math.sqrt(LB_sum)"
   ]
  },
  {
   "cell_type": "code",
   "execution_count": 7,
   "metadata": {},
   "outputs": [],
   "source": [
    "# Similarity\n",
    "def Dtw_LB_conter(data1,data2,r):\n",
    "    l=LB_Keogh(data1,data2,r)+DTWDistance(data1,data2)\n",
    "    return l/2\n",
    "\n",
    "def getMin(a,b):\n",
    "    if a<b:\n",
    "        return a\n",
    "    else:\n",
    "        return b"
   ]
  },
  {
   "cell_type": "code",
   "execution_count": 8,
   "metadata": {},
   "outputs": [],
   "source": [
    "def timeseries_score(s1,s2,w,r):\n",
    "    # series:s1，series:s2, w:sliding window size,r:slope sliding window   \n",
    "    # time ratio\n",
    "    time_s1_s2 = s2[0][len(s2[0])-1]/s1[0][len(s1[0])-1]\n",
    "    \n",
    "       # time ratio via sliding window \n",
    "    time_sum=0;\n",
    "    for i in range(math.ceil(len(s1[0])/w)):\n",
    "        s1_time = sum(s1[0][i:i+w])\n",
    "        s2_time = sum(s2[0][i:i+w])\n",
    "        i=i+w\n",
    "        time_sum =time_sum + s2_time/s1_time    \n",
    "\n",
    "    time_sum = time_sum/math.ceil(len(s1[0])/w)\n",
    "    \n",
    "        # Mean ratio\n",
    "    heartbeat_s1 = (sum(s1[1])/len(s1[1]))\n",
    "    heartbeat_s1_s2 = sum(s2[1])/len(s2[1])/(sum(s1[1])/len(s1[1]))\n",
    "    \n",
    "    # Mean ratio via sliding window \n",
    "    heartbeat_sum=0;\n",
    "    for i in range(math.ceil(len(s1[1])/w)):\n",
    "        s1_heartbeat = sum(s1[1][i:i+w])\n",
    "        s2_heartbeat = sum(s2[1][i:i+w])\n",
    "        i=i+w\n",
    "        heartbeat_sum =heartbeat_sum + s2_heartbeat/s1_heartbeat    \n",
    "\n",
    "    heartbeat_sum = heartbeat_sum/math.ceil(len(s1[1])/w)\n",
    "    \n",
    "    # slope ratio via sliding window\n",
    "    slope_sum=0;\n",
    "    for i in range(math.ceil(getMin(len(s1[1])/r,len(s2[1])/r))):\n",
    "        \n",
    "        k=i+r\n",
    "        if(k>len(s1[1])):\n",
    "            k=len(s1[1])  \n",
    "        \n",
    "        s1_slope = (s1[1][i]-s1[1][k])/(s1[0][i]-s1[0][k])\n",
    "        s2_slope = (s2[1][i]-s2[1][k])/(s2[0][i]-s2[0][k])\n",
    "        \n",
    "        i=i+r\n",
    "        slope_sum =slope_sum + abs(s2_slope/s1_slope)    \n",
    "\n",
    "    slope_sum = slope_sum/math.ceil(math.ceil(len(s1[1])/r))\n",
    "\n",
    "    return [time_s1_s2,time_sum,heartbeat_s1,heartbeat_s1_s2,heartbeat_sum,slope_sum]"
   ]
  },
  {
   "cell_type": "code",
   "execution_count": 9,
   "metadata": {},
   "outputs": [],
   "source": [
    "def similar_all(x1,y1,x2,y2,tS1,tS2):\n",
    "    x_p1 =[ tS1[i][0] for i in range(0,len(tS1))]\n",
    "    y_p1 =[ tS1[i][1] for i in range(0,len(tS1))]\n",
    "    x_p2 =[ tS2[i][0] for i in range(0,len(tS2))]\n",
    "    y_p2 =[ tS2[i][1] for i in range(0,len(tS2))]\n",
    "    \n",
    "    feature = timeseries_score([x1,y1],[x2,y2],200,20)\n",
    "    distent = Dtw_LB_conter(y_p1,y_p2,100)\n",
    "    \n",
    "    return feature,distent"
   ]
  },
  {
   "cell_type": "markdown",
   "metadata": {},
   "source": [
    "### Experiments - parameter setting"
   ]
  },
  {
   "cell_type": "markdown",
   "metadata": {},
   "source": [
    "#### import data"
   ]
  },
  {
   "cell_type": "code",
   "execution_count": 13,
   "metadata": {},
   "outputs": [
    {
     "name": "stdout",
     "output_type": "stream",
     "text": [
      "1\n"
     ]
    }
   ],
   "source": [
    "#import data\n",
    "import pandas as pd\n",
    "data = pd.read_excel('./normal_lu_1.xlsx',sheet_name=None)\n",
    "print(len(data))"
   ]
  },
  {
   "cell_type": "code",
   "execution_count": 14,
   "metadata": {},
   "outputs": [
    {
     "data": {
      "image/png": "[encoded data removed]",
      "text/plain": [
       "<matplotlib.figure.Figure at 0x7f92a9886908>"
      ]
     },
     "metadata": {
      "needs_background": "light"
     },
     "output_type": "display_data"
    }
   ],
   "source": [
    "plt.figure(figsize=(10,5))\n",
    "data = pd.read_excel('./normal_lu_1.xlsx',hearder=None,sheet_name=None)\n",
    "k=1 \n",
    "for i in data: \n",
    "    x6 = data[i]['time'].copy()[0:999]\n",
    "    y6 = data[i]['heartrate'].copy()[0:999]\n",
    "    label_name = 'Test sequence:'+str(k)\n",
    "    plt.plot(x6,y6,label=label_name)\n",
    "    k = k+1\n",
    "plt.xlabel('Time/us',fontsize=14)\n",
    "plt.ylabel('Hearrate/HZ',fontsize=14)\n",
    "plt.legend(loc=0,ncol=3,borderaxespad=0.5)   \n",
    "plt.show()"
   ]
  },
  {
   "cell_type": "code",
   "execution_count": 15,
   "metadata": {},
   "outputs": [],
   "source": [
    "def lab(x,y,ll):\n",
    "    SeriesFeature=[]\n",
    "    for j in data:\n",
    "        title_times = \"Processing:\"+str(ll)+\",round:\"+str(j)\n",
    "        print(title_times)\n",
    "        x2 = data[j]['time'].copy()[0:999]\n",
    "        y2 = data[j]['heartrate'].copy()[0:999]\n",
    "        x2 = np.array(x2)\n",
    "        y2 = np.array(y2)\n",
    "\n",
    "        timeSeries1,timeSeries2 = align_data(x,y,x2,y2)\n",
    "\n",
    "        feature = similar_all(x,y,x2,y2,timeSeries1,timeSeries2)\n",
    "\n",
    "        SeriesFeature.append(feature)\n",
    "           \n",
    "    # max\n",
    "    max_time=0;\n",
    "    local_max_time=0;\n",
    "    max_hb=0;\n",
    "    local_max_hb=0;\n",
    "    local_max_slope=0\n",
    "    max_dtw_lb=0;\n",
    "\n",
    "    # min\n",
    "    min_time=2;\n",
    "    local_min_time=2;\n",
    "    min_hb=2;\n",
    "    local_min_hb=2;\n",
    "    local_min_slope=2\n",
    "    min_dtw_lb=9999999999999;\n",
    "    \n",
    "    # acquire max-min\n",
    "    for feature in SeriesFeature:\n",
    " \n",
    "        max_time = max_time  if max_time>feature[0][0] else feature[0][0]\n",
    "        local_max_time = local_max_time  if local_max_time>feature[0][1] else feature[0][1]\n",
    "        max_hb = max_hb  if max_hb>feature[0][3] else feature[0][3]\n",
    "        local_max_hb = local_max_hb  if local_max_hb>feature[0][4] else feature[0][4]\n",
    "        local_max_slope = local_max_slope  if local_max_slope>feature[0][5] else feature[0][5]\n",
    "        max_dtw_lb = max_dtw_lb  if max_dtw_lb>feature[1] else feature[1]\n",
    "\n",
    "\n",
    "        min_time = min_time  if min_time<feature[0][0] else feature[0][0]\n",
    "        local_min_time = local_min_time  if local_min_time<feature[0][1] else feature[0][1]\n",
    "        min_hb = min_hb  if min_hb<feature[0][3] else feature[0][3]\n",
    "        local_min_hb = local_min_hb  if local_min_hb<feature[0][4] else feature[0][4]\n",
    "        local_min_slope = local_min_slope  if local_min_slope<feature[0][5] else feature[0][5]\n",
    "        min_dtw_lb = min_dtw_lb  if min_dtw_lb<feature[1] else feature[1]\n",
    "    \n",
    "    max_result.append([max_time,local_max_time,max_hb,local_max_hb,local_max_slope,max_dtw_lb])\n",
    "    min_result.append([min_time,local_min_time,min_hb,local_min_hb,local_min_slope,min_dtw_lb])\n",
    "    print(\"------------------------------------\",ll)\n",
    "    print(\"max\",[max_time,local_max_time,max_hb,local_max_hb,local_max_slope,max_dtw_lb])\n",
    "    print(\"min\",[min_time,local_min_time,min_hb,local_min_hb,local_min_slope,min_dtw_lb])\n",
    "    print(\"------------------------------------\")"
   ]
  },
  {
   "cell_type": "code",
   "execution_count": 16,
   "metadata": {
    "scrolled": true
   },
   "outputs": [
    {
     "name": "stdout",
     "output_type": "stream",
     "text": [
      "Processing:1,round:1\n",
      "------------------------------------ 1\n",
      "max [1.0, 1.0, 1.0, 1.0, 1.0, 3092.9822155850416]\n",
      "min [1.0, 1.0, 1.0, 1.0, 1.0, 3092.9822155850416]\n",
      "------------------------------------\n"
     ]
    }
   ],
   "source": [
    "for ll in data:\n",
    "    x = data[ll]['time'].copy()[0:999]\n",
    "    y = data[ll]['heartrate'].copy()[0:999]\n",
    "    x = np.array(x)\n",
    "    y = np.array(y)\n",
    "    max_result=[]\n",
    "    min_result=[]\n",
    "    lab(x,y,ll)"
   ]
  },
  {
   "cell_type": "code",
   "execution_count": 17,
   "metadata": {},
   "outputs": [],
   "source": [
    "ma=[0,0,0,0,0,0]\n",
    "mi=[2,2,2,2,2,9999999]\n",
    "\n",
    "def getMax_min(max_result,min_result):\n",
    "    \n",
    "    for i in range(len(max_result)):\n",
    "        \n",
    "        _max = max_result[i]\n",
    "        \n",
    "        for _i in range(0,6):\n",
    "            if(_max[_i]>ma[_i]):\n",
    "                ma[_i]=_max[_i]\n",
    "    \n",
    "    for i in range(len(min_result)):\n",
    "        _min = min_result[i]\n",
    "        for _i in range(0,6):\n",
    "            if(_min[_i]<mi[_i]):\n",
    "                mi[_i]=_min[_i]"
   ]
  },
  {
   "cell_type": "code",
   "execution_count": 18,
   "metadata": {},
   "outputs": [
    {
     "name": "stdout",
     "output_type": "stream",
     "text": [
      "max: [1.0, 1.0, 1.0, 1.0, 1.0, 3092.9822155850416]\n",
      "min: [1.0, 1.0, 1.0, 1.0, 1.0, 3092.9822155850416]\n"
     ]
    }
   ],
   "source": [
    "getMax_min(max_result,min_result)\n",
    "print(\"max:\",ma)\n",
    "print(\"min:\",mi)"
   ]
  }
 ],
 "metadata": {
  "kernelspec": {
   "display_name": "Python 3",
   "language": "python",
   "name": "python3"
  },
  "language_info": {
   "codemirror_mode": {
    "name": "ipython",
    "version": 3
   },
   "file_extension": ".py",
   "mimetype": "text/x-python",
   "name": "python",
   "nbconvert_exporter": "python",
   "pygments_lexer": "ipython3",
   "version": "3.6.2"
  }
 },
 "nbformat": 4,
 "nbformat_minor": 2
}
