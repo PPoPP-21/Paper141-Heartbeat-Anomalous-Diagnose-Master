{
 "cells": [
  {
   "cell_type": "markdown",
   "metadata": {},
   "source": [
    "# 异常检测机制|lu_string"
   ]
  },
  {
   "cell_type": "markdown",
   "metadata": {},
   "source": [
    "### 1、引入库"
   ]
  },
  {
   "cell_type": "code",
   "execution_count": 2,
   "metadata": {},
   "outputs": [],
   "source": [
    "import numpy as np\n",
    "import matplotlib.pyplot as plt\n",
    "import pandas as pd\n",
    "import math"
   ]
  },
  {
   "cell_type": "markdown",
   "metadata": {},
   "source": [
    "### 2、序列对齐"
   ]
  },
  {
   "cell_type": "code",
   "execution_count": 3,
   "metadata": {},
   "outputs": [],
   "source": [
    "# 计算曲线拟合R2值\n",
    "\n",
    "from sklearn.metrics import r2_score\n",
    "def caculateMse_R2(x,y,p):\n",
    "    y_pre = [p(i) for i in x]\n",
    "#     mse = get_mse(y, y_pre)  # 0.66\n",
    "    score = r2_score(y, y_pre, multioutput='raw_values')\n",
    "#     print(score[0])\n",
    "    return score[0]\n",
    "\n",
    "\n",
    "# 将单独的x,y对齐合并成list，[[x1,y1],[x2,y2],...,[xn,yn]]\n",
    "\n",
    "def list_set(x,y):\n",
    "    list=[]\n",
    "    for i in range(0,len(x)):\n",
    "        list.append([x[i],y[i]])\n",
    "    return list\n",
    "\n",
    "# 数据集修整，将短的序列拓展，其值为最后一项。防止拟合过度\n",
    "\n",
    "def data_set_fix(list,x):\n",
    "    n=0;\n",
    "    data=0;\n",
    "    for i in range(0,len(list)):\n",
    "        if n==0:\n",
    "            if list[i][0]==x:\n",
    "                n=1\n",
    "                data=list[i][1]\n",
    "        else:\n",
    "            list[i][1]=data\n",
    "    \n",
    "    return list\n"
   ]
  },
  {
   "cell_type": "code",
   "execution_count": 4,
   "metadata": {},
   "outputs": [],
   "source": [
    "# 单一序列数据对齐算法\n",
    "def align_data_singe(x,y,x1,n):\n",
    "    \n",
    "#     print(\"----------\")\n",
    "    # 曲线拟合,R2小于0.9则重新拟合\n",
    "    while True:\n",
    "        coef = np.polyfit(x,y, n)\n",
    "        poly_fit = np.poly1d(coef)\n",
    "        R2 = caculateMse_R2(x,y,poly_fit)\n",
    "#         print(R2,n)\n",
    "        if n>=19:\n",
    "            break\n",
    "        if R2>0.9:\n",
    "            break\n",
    "        else:\n",
    "            n=n+1 \n",
    "        \n",
    "    \n",
    "    # 数据list\n",
    "    data_set = list_set(x,y)\n",
    "    \n",
    "    # 数据对齐\n",
    "    for i in range(0,len(x1)):\n",
    "         data_set.append([x1[i],poly_fit(x1[i])])\n",
    "    \n",
    "    # 排序\n",
    "    data_set.sort();\n",
    "#     print(\"数据长度\",len(data_set))\n",
    "    \n",
    "    # 返回序列\n",
    "#     print(\"----------\")\n",
    "    return data_set\n",
    "    \n",
    "    \n",
    "# 双序列数据对其\n",
    "def align_data(x1,y1,x2,y2):\n",
    "    timeseries1 = align_data_singe(x1,y1,x2,6)\n",
    "    timeseries2 = align_data_singe(x2,y2,x1,6)\n",
    "    \n",
    "    \n",
    "    \n",
    "    # 数据修整（短数据向长数据对齐时，为当前尾均值）\n",
    "    if(len(x1)>len(x2)):\n",
    "        timeseries2 = data_set_fix(timeseries2,x2[-1])\n",
    "    else:\n",
    "        timeseries1 = data_set_fix(timeseries1,x1[-1])\n",
    "    \n",
    "    return timeseries1,timeseries2"
   ]
  },
  {
   "cell_type": "markdown",
   "metadata": {},
   "source": [
    "### 3、序列属性及特征评估算法"
   ]
  },
  {
   "cell_type": "code",
   "execution_count": 5,
   "metadata": {},
   "outputs": [],
   "source": [
    "# DTW距离\n",
    "\n",
    "# 计算权重\n",
    "def calculate_attenuate_weight(seqLen1, seqLen2, com_ls):\n",
    "    weight = 0\n",
    "    for comlen in com_ls:\n",
    "        weight = weight + comlen / seqLen1 * comlen / seqLen2\n",
    "    return 1 - weight\n",
    "\n",
    "\n",
    "# DTW距离\n",
    "def DTWDistance(s1, s2):\n",
    "    # 取较大的标准差\n",
    "    sdt = np.std(s1, ddof=1) if np.std(s1, ddof=1) > np.std(s2, ddof=1) else np.std(s2, ddof=1)\n",
    "    # print(\"两个序列最大标准差:\" + str(sdt))\n",
    "    l1 = len(s1)\n",
    "    l2 = len(s2)\n",
    "    paths = np.full((l1 + 1, l2 + 1), np.inf)  # 全部赋予无穷大\n",
    "    sub_matrix = np.full((l1, l2), 0)  # 全部赋予0\n",
    "    max_sub_len = 0\n",
    "\n",
    "    paths[0, 0] = 0\n",
    "    for i in range(l1):\n",
    "        for j in range(l2):\n",
    "            d = s1[i] - s2[j]\n",
    "            cost = d ** 2\n",
    "            paths[i + 1, j + 1] = cost + min(paths[i, j + 1], paths[i + 1, j], paths[i, j])\n",
    "            if np.abs(s1[i] - s2[j]) < sdt:\n",
    "                if i == 0 or j == 0:\n",
    "                    sub_matrix[i][j] = 1\n",
    "                else:\n",
    "                    sub_matrix[i][j] = sub_matrix[i - 1][j - 1] + 1\n",
    "                    max_sub_len = sub_matrix[i][j] if sub_matrix[i][j] > max_sub_len else max_sub_len\n",
    "\n",
    "    paths = np.sqrt(paths)\n",
    "    s = paths[l1, l2]\n",
    "\n",
    "    return s\n"
   ]
  },
  {
   "cell_type": "code",
   "execution_count": 6,
   "metadata": {},
   "outputs": [],
   "source": [
    "#LB_Keogh\n",
    "\n",
    "def LB_Keogh(s1,s2,r):\n",
    "    LB_sum=0\n",
    "    for ind,i in enumerate(s1):\n",
    "        \n",
    "        lower_bound=min(s2[(ind-r if ind-r>=0 else 0):(ind+r)])\n",
    "        upper_bound=max(s2[(ind-r if ind-r>=0 else 0):(ind+r)])\n",
    "        \n",
    "        if i>upper_bound:\n",
    "            LB_sum=LB_sum+(i-upper_bound)**2\n",
    "        elif i<lower_bound:\n",
    "            LB_sum=LB_sum+(i-lower_bound)**2\n",
    "    \n",
    "    return math.sqrt(LB_sum)"
   ]
  },
  {
   "cell_type": "code",
   "execution_count": 7,
   "metadata": {},
   "outputs": [],
   "source": [
    "# 相似度规整\n",
    "def Dtw_LB_conter(data1,data2,r):\n",
    "    l=LB_Keogh(data1,data2,r)+DTWDistance(data1,data2)\n",
    "    return l/2\n",
    "\n",
    "def getMin(a,b):\n",
    "    if a<b:\n",
    "        return a\n",
    "    else:\n",
    "        return b"
   ]
  },
  {
   "cell_type": "code",
   "execution_count": 8,
   "metadata": {},
   "outputs": [],
   "source": [
    "# 基于滑动窗口的基础数据评分\n",
    "def timeseries_score(s1,s2,w,r):\n",
    "    # s1序列1，s2序列2，w普通滑窗大小,r斜率滑窗大小\n",
    "    \n",
    "    \n",
    "    # 时间比\n",
    "    time_s1_s2 = s2[0][len(s2[0])-1]/s1[0][len(s1[0])-1]\n",
    "#     print(\"s2:\",s2[0][len(s2[0])-1])\n",
    "#     print(\"s1:\",s1[0][len(s1[0])-1])\n",
    "#     print(s2[0][len(s2[0])-1]/s1[0][len(s1[0])-1])\n",
    "    \n",
    "    # 滑窗时间比\n",
    "    time_sum=0;\n",
    "    for i in range(math.ceil(len(s1[0])/w)):\n",
    "        s1_time = sum(s1[0][i:i+w])\n",
    "        s2_time = sum(s2[0][i:i+w])\n",
    "        i=i+w\n",
    "        time_sum =time_sum + s2_time/s1_time    \n",
    "\n",
    "    time_sum = time_sum/math.ceil(len(s1[0])/w)\n",
    "#     print(time_sum)\n",
    "    \n",
    "    \n",
    "    # 均值比\n",
    "    heartbeat_s1 = (sum(s1[1])/len(s1[1]))\n",
    "    heartbeat_s1_s2 = sum(s2[1])/len(s2[1])/(sum(s1[1])/len(s1[1]))\n",
    "#     print(sum(s2[1])/len(s2[1])/(sum(s1[1])/len(s1[1])))\n",
    "    \n",
    "    # 滑窗均值比\n",
    "    heartbeat_sum=0;\n",
    "    for i in range(math.ceil(len(s1[1])/w)):\n",
    "        s1_heartbeat = sum(s1[1][i:i+w])\n",
    "        s2_heartbeat = sum(s2[1][i:i+w])\n",
    "        i=i+w\n",
    "        heartbeat_sum =heartbeat_sum + s2_heartbeat/s1_heartbeat    \n",
    "\n",
    "    heartbeat_sum = heartbeat_sum/math.ceil(len(s1[1])/w)\n",
    "#     print(heartbeat_sum)\n",
    "    \n",
    "    # 滑窗斜率比\n",
    "    slope_sum=0;\n",
    "    for i in range(math.ceil(getMin(len(s1[1])/r,len(s2[1])/r))):\n",
    "        \n",
    "        k=i+r\n",
    "        if(k>len(s1[1])):\n",
    "            k=len(s1[1])  \n",
    "        \n",
    "        s1_slope = (s1[1][i]-s1[1][k])/(s1[0][i]-s1[0][k])\n",
    "        s2_slope = (s2[1][i]-s2[1][k])/(s2[0][i]-s2[0][k])\n",
    "#         print(abs(s2_slope/s1_slope) )\n",
    "        \n",
    "        i=i+r\n",
    "        slope_sum =slope_sum + abs(s2_slope/s1_slope)    \n",
    "\n",
    "    slope_sum = slope_sum/math.ceil(math.ceil(len(s1[1])/r))\n",
    "#     print(slope_sum)\n",
    "\n",
    "    return [time_s1_s2,time_sum,heartbeat_s1,heartbeat_s1_s2,heartbeat_sum,slope_sum]"
   ]
  },
  {
   "cell_type": "code",
   "execution_count": 9,
   "metadata": {},
   "outputs": [],
   "source": [
    "def similar_all(x1,y1,x2,y2,tS1,tS2):\n",
    "    x_p1 =[ tS1[i][0] for i in range(0,len(tS1))]\n",
    "    y_p1 =[ tS1[i][1] for i in range(0,len(tS1))]\n",
    "    x_p2 =[ tS2[i][0] for i in range(0,len(tS2))]\n",
    "    y_p2 =[ tS2[i][1] for i in range(0,len(tS2))]\n",
    "    \n",
    "    feature = timeseries_score([x1,y1],[x2,y2],100,2)\n",
    "    distent = Dtw_LB_conter(y_p1,y_p2,100)\n",
    "    \n",
    "    return feature,distent"
   ]
  },
  {
   "cell_type": "markdown",
   "metadata": {},
   "source": [
    "### 4、异常检测函数"
   ]
  },
  {
   "cell_type": "code",
   "execution_count": 10,
   "metadata": {},
   "outputs": [],
   "source": [
    "# 异常检测\n",
    "min_time_standard = 0.92570\n",
    "max_time_standard = 1.08025\n",
    "min_hr_standard = 0.94607 \n",
    "max_hr_standard = 1.05700\n",
    "\n",
    "# 特征检测，1表示异常\n",
    "def distent_check(h_distence):\n",
    "    h_standard = 11173623.48358;\n",
    "    if h_distence<h_standard:\n",
    "        return 2;\n",
    "    else:\n",
    "        return 1;\n",
    "    \n",
    "\n",
    "def dataseries_check(feature):\n",
    "    \n",
    "    #----------------------------------------\n",
    "    # 时间关系\n",
    "    time_check={}\n",
    "    if feature[0]>min_time_standard*0.9 and feature[0]<max_time_standard*1.1:\n",
    "        # 正常\n",
    "        time_check[0]=2\n",
    "    else:\n",
    "        # 异常,忙等、死锁、资源竞争\n",
    "        time_check[0]=1\n",
    "    \n",
    "    # 局部时间与整体时间关系：\n",
    "    if feature[0]/feature[1]>0.90:\n",
    "        # 正常\n",
    "        print(feature[0]/feature[1])\n",
    "        time_check[1]=2\n",
    "    else:\n",
    "        # 异常，局部异常较大\n",
    "        time_check[1]=1\n",
    "    \n",
    "   #-------------------------------------------- \n",
    "   # 心率均值\n",
    "    heart={}\n",
    "    if feature[3]>min_hr_standard*0.9 and feature[3]<max_hr_standard*1.1 :\n",
    "        # 正常\n",
    "        heart[0]=2\n",
    "    else:\n",
    "        # 异常，内存泄漏|忙等\n",
    "        heart[0]=1\n",
    "    \n",
    "    if feature[3]/feature[4]>0.90:\n",
    "        # 正常\n",
    "        heart[1]=2\n",
    "    else:\n",
    "        # 异常，局部异常较大\n",
    "        heart[1]=1\n",
    "    \n",
    "     #-------------------------------------------- \n",
    "    return [time_check,heart]"
   ]
  },
  {
   "cell_type": "code",
   "execution_count": 11,
   "metadata": {},
   "outputs": [],
   "source": [
    "def judge(feature):\n",
    "    \n",
    "    judge_distence = distent_check(feature[1])\n",
    "    judge_dataseries = dataseries_check(feature[0])\n",
    "    print(\"distence:\",judge_distence)\n",
    "    print(\"series:\",judge_dataseries)\n",
    "\n",
    "    \n",
    "    assis=0;\n",
    "    check=0;\n",
    "    # 0:正常\n",
    "    # 1：内存泄漏|忙等\n",
    "    # 2：死锁，资源竞争|中断\n",
    "    \n",
    "    # 距离在正常范围内，进入辅助判别\n",
    "    if(judge_distence==2):\n",
    "        t=0\n",
    "        # 平均时间比值\n",
    "        print(\"--:\",judge_dataseries[0][0] == 1 and feature[0][0]<min_time_standard*2.0)\n",
    "        if judge_dataseries[0][0] == 1 and feature[0][0]<min_time_standard*0.9:\n",
    "            t=2\n",
    "            check=2\n",
    "            if judge_dataseries[0][1]==1:\n",
    "                assis=1;\n",
    "         \n",
    "        # 平均心率比值    \n",
    "        if judge_dataseries[1][0]==1 and  t!=2 and feature[0][0]>max_time_standard*1.1:\n",
    "            check=1\n",
    "            if judge_dataseries[1][1]==1:\n",
    "                assis=1;\n",
    "    \n",
    "    # 距离在不正常范围内，辅助判别\n",
    "    elif judge_distence==1:\n",
    "        t=0\n",
    "        check=1\n",
    "        print(\"feature:\"+str(feature[0][0]))\n",
    "        print(\"min_time_standard:\"+str(min_time_standard))\n",
    "        if judge_dataseries[0][0]==1 and feature[0][0]<min_time_standard*2.0:\n",
    "            check=2\n",
    "            t=2\n",
    "            if judge_dataseries[0][1]==1:\n",
    "                assis=1;\n",
    "        if judge_dataseries[1][0]==1 and t!=2 and feature[0][0]>max_time_standard*1.1:\n",
    "            print(\"max_time_standard:\"+str(max_time_standard))\n",
    "            if t==1:\n",
    "                check=1\n",
    "            if judge_dataseries[1][1]==1:\n",
    "                assis=1;    \n",
    "    \n",
    "    #-------------------------------------------------\n",
    "#   print(check,assis)\n",
    "    if(check==0 and assis==0):\n",
    "        print(\"正常：\",\"两线程序列吻合度高，线程状态正常\")\n",
    "    elif(check==0 and assis==1):\n",
    "        print(\"正常：\",\"两线程序列吻合度高，线程状态正常,但局部震荡较严重\")\n",
    "    elif(check==1 and assis==0):\n",
    "        print(\"内存泄漏：\",\"两线程序列吻合度低，线程状态异常，为内存泄漏\")\n",
    "    elif(check==1 and assis==1):\n",
    "        print(\"内存泄漏：\",\"两线程序列吻合度低，线程状态异常，为内存泄漏,且线程局部震荡较严重\")    \n",
    "    elif(check==2 and assis==0):\n",
    "        print(\"中断：\",\"两线程序列吻合度低，线程状态异常，为中断执行\")\n",
    "    elif(check==2 and assis==1):\n",
    "        print(\"中断：\",\"两线程序列吻合度低，线程状态异常，为中断执行,且线程局部震荡较严重\")\n",
    "    return [check,assis]\n",
    "    "
   ]
  },
  {
   "cell_type": "markdown",
   "metadata": {},
   "source": [
    "### 5、实验"
   ]
  },
  {
   "cell_type": "code",
   "execution_count": 12,
   "metadata": {},
   "outputs": [
    {
     "name": "stdout",
     "output_type": "stream",
     "text": [
      "1 30 32 34\n"
     ]
    }
   ],
   "source": [
    "# sp正常数据\n",
    "normal = pd.read_excel('./data4_lu_string/normal_lu_1.xlsx',hearder=None,sheet_name=None)\n",
    "#lab_normal = pd.read_excel('./data4_lu_string/lu_lab_normal.xlsx',hearder=None,sheet_name=None)\n",
    "lab_normal = pd.read_excel('./data4_lu_string/lu_std_normal.xlsx',hearder=None,sheet_name=None)\n",
    "lab_abnormal = pd.read_excel('./data4_lu_string/lu_std_abs.xlsx',hearder=None,sheet_name=None)\n",
    "lab_shutdown = pd.read_excel('./data4_lu_string/lu_std_shut.xlsx',hearder=None,sheet_name=None)\n",
    "print(len(normal),len(lab_normal),len(lab_abnormal),len(lab_shutdown))"
   ]
  },
  {
   "cell_type": "code",
   "execution_count": 13,
   "metadata": {},
   "outputs": [],
   "source": [
    "# 数据x\n",
    "x = normal['1']['time'].copy()[0:999]\n",
    "# 数据y\n",
    "y = normal['1']['heartrate'].copy()[0:999]\n",
    "# 转成array\n",
    "x = np.array(x)\n",
    "y = np.array(y)"
   ]
  },
  {
   "cell_type": "code",
   "execution_count": 14,
   "metadata": {},
   "outputs": [],
   "source": [
    "# # 数据显示\n",
    "# plt.figure(figsize=(10, 5))\n",
    "# # 查看数据\n",
    "# # 图表中文调整\n",
    "# plt.rcParams['font.sans-serif']=['SimHei'] #用来正常显示中文标签\n",
    "# plt.rcParams['axes.unicode_minus']=False #用来正常显示负号\n",
    "\n",
    "# k=1\n",
    "# for i in range(len(lab_normal)):\n",
    "#     title_times = \"进行至序列号：\"+str(i)+\"：\"\n",
    "#     print(title_times)\n",
    "#     x2 = lab_normal[\"1_\"+str(i+1)]['time'].copy()[0:999]\n",
    "\n",
    "#     y2 = lab_normal[\"1_\"+str(i+1)]['heartrate'].copy()[0:999]\n",
    "#     label_name=\"测序序列\"+str(k)\n",
    "#     plt.plot(x2, y2,  label=label_name)\n",
    "#     k=k+1\n",
    "\n",
    "# for i in range(len(lab_abnormal)):\n",
    "#     title_times = \"进行至序列号：\"+str(i)+\"：\"\n",
    "#     print(title_times)\n",
    "#     x2 = lab_abnormal[\"2_\"+str(i+1)]['time'].copy()[0:999]\n",
    "\n",
    "#     y2 = lab_abnormal[\"2_\"+str(i+1)]['heartrate'].copy()[0:999]\n",
    "#     label_name=\"测序序列\"+str(k)\n",
    "#     plt.plot(x2, y2,  label=label_name)\n",
    "#     k=k+1\n",
    "\n",
    "# plt.xlabel('时间点/us',fontsize=14)\n",
    "# plt.ylabel('心率/HZ',fontsize=14)\n",
    "\n",
    "# # plt.legend(loc=0,ncol=3, borderaxespad=0.5)\n",
    "# plt.show()\n",
    "\n",
    "# plt.figure(figsize=(5, 5))"
   ]
  },
  {
   "cell_type": "markdown",
   "metadata": {},
   "source": [
    "#### 5.1 正常测试"
   ]
  },
  {
   "cell_type": "code",
   "execution_count": 15,
   "metadata": {},
   "outputs": [
    {
     "name": "stdout",
     "output_type": "stream",
     "text": [
      "进行至序列号：1：\n",
      "0.974349214234748\n",
      "distence: 2\n",
      "series: [{0: 2, 1: 2}, {0: 2, 1: 2}]\n",
      "--: False\n",
      "正常： 两线程序列吻合度高，线程状态正常\n",
      "进行至序列号：2：\n",
      "0.9755126234884274\n",
      "distence: 2\n",
      "series: [{0: 2, 1: 2}, {0: 2, 1: 2}]\n",
      "--: False\n",
      "正常： 两线程序列吻合度高，线程状态正常\n",
      "进行至序列号：3：\n"
     ]
    },
    {
     "name": "stderr",
     "output_type": "stream",
     "text": [
      "/home/wwd/anaconda3/lib/python3.7/site-packages/ipykernel_launcher.py:38: RankWarning: Polyfit may be poorly conditioned\n",
      "/home/wwd/anaconda3/lib/python3.7/site-packages/ipykernel_launcher.py:38: RankWarning: Polyfit may be poorly conditioned\n"
     ]
    },
    {
     "name": "stdout",
     "output_type": "stream",
     "text": [
      "1.0314978626365414\n",
      "distence: 2\n",
      "series: [{0: 2, 1: 2}, {0: 2, 1: 2}]\n",
      "--: False\n",
      "正常： 两线程序列吻合度高，线程状态正常\n",
      "进行至序列号：4：\n"
     ]
    },
    {
     "name": "stderr",
     "output_type": "stream",
     "text": [
      "/home/wwd/anaconda3/lib/python3.7/site-packages/ipykernel_launcher.py:38: RankWarning: Polyfit may be poorly conditioned\n",
      "/home/wwd/anaconda3/lib/python3.7/site-packages/ipykernel_launcher.py:38: RankWarning: Polyfit may be poorly conditioned\n"
     ]
    },
    {
     "name": "stdout",
     "output_type": "stream",
     "text": [
      "0.9887054721876088\n",
      "distence: 2\n",
      "series: [{0: 2, 1: 2}, {0: 2, 1: 2}]\n",
      "--: False\n",
      "正常： 两线程序列吻合度高，线程状态正常\n",
      "进行至序列号：5：\n",
      "1.0136709718640504\n",
      "distence: 2\n",
      "series: [{0: 2, 1: 2}, {0: 2, 1: 2}]\n",
      "--: False\n",
      "正常： 两线程序列吻合度高，线程状态正常\n",
      "进行至序列号：6：\n",
      "1.0\n",
      "distence: 2\n",
      "series: [{0: 2, 1: 2}, {0: 2, 1: 2}]\n",
      "--: False\n",
      "正常： 两线程序列吻合度高，线程状态正常\n",
      "进行至序列号：7：\n",
      "0.9752136531586773\n",
      "distence: 2\n",
      "series: [{0: 2, 1: 2}, {0: 2, 1: 2}]\n",
      "--: False\n",
      "正常： 两线程序列吻合度高，线程状态正常\n",
      "进行至序列号：8：\n",
      "1.0396797511909186\n",
      "distence: 2\n",
      "series: [{0: 2, 1: 2}, {0: 2, 1: 2}]\n",
      "--: False\n",
      "正常： 两线程序列吻合度高，线程状态正常\n",
      "进行至序列号：9：\n",
      "1.0171614911691302\n",
      "distence: 2\n",
      "series: [{0: 2, 1: 2}, {0: 2, 1: 2}]\n",
      "--: False\n",
      "正常： 两线程序列吻合度高，线程状态正常\n",
      "进行至序列号：10：\n",
      "1.0011293493085383\n",
      "distence: 2\n",
      "series: [{0: 2, 1: 2}, {0: 2, 1: 2}]\n",
      "--: False\n",
      "正常： 两线程序列吻合度高，线程状态正常\n",
      "进行至序列号：11：\n"
     ]
    },
    {
     "name": "stderr",
     "output_type": "stream",
     "text": [
      "/home/wwd/anaconda3/lib/python3.7/site-packages/ipykernel_launcher.py:38: RankWarning: Polyfit may be poorly conditioned\n",
      "/home/wwd/anaconda3/lib/python3.7/site-packages/ipykernel_launcher.py:38: RankWarning: Polyfit may be poorly conditioned\n"
     ]
    },
    {
     "name": "stdout",
     "output_type": "stream",
     "text": [
      "0.9669272327095667\n",
      "distence: 2\n",
      "series: [{0: 2, 1: 2}, {0: 2, 1: 2}]\n",
      "--: False\n",
      "正常： 两线程序列吻合度高，线程状态正常\n",
      "进行至序列号：12：\n",
      "0.9740662591313424\n",
      "distence: 2\n",
      "series: [{0: 2, 1: 2}, {0: 2, 1: 2}]\n",
      "--: False\n",
      "正常： 两线程序列吻合度高，线程状态正常\n",
      "进行至序列号：13：\n"
     ]
    },
    {
     "name": "stderr",
     "output_type": "stream",
     "text": [
      "/home/wwd/anaconda3/lib/python3.7/site-packages/ipykernel_launcher.py:38: RankWarning: Polyfit may be poorly conditioned\n",
      "/home/wwd/anaconda3/lib/python3.7/site-packages/ipykernel_launcher.py:38: RankWarning: Polyfit may be poorly conditioned\n"
     ]
    },
    {
     "name": "stdout",
     "output_type": "stream",
     "text": [
      "0.977157483924655\n",
      "distence: 2\n",
      "series: [{0: 2, 1: 2}, {0: 2, 1: 2}]\n",
      "--: False\n",
      "正常： 两线程序列吻合度高，线程状态正常\n",
      "进行至序列号：14：\n"
     ]
    },
    {
     "name": "stderr",
     "output_type": "stream",
     "text": [
      "/home/wwd/anaconda3/lib/python3.7/site-packages/ipykernel_launcher.py:38: RankWarning: Polyfit may be poorly conditioned\n",
      "/home/wwd/anaconda3/lib/python3.7/site-packages/ipykernel_launcher.py:38: RankWarning: Polyfit may be poorly conditioned\n"
     ]
    },
    {
     "name": "stdout",
     "output_type": "stream",
     "text": [
      "0.9664477459267605\n",
      "distence: 2\n",
      "series: [{0: 2, 1: 2}, {0: 2, 1: 2}]\n",
      "--: False\n",
      "正常： 两线程序列吻合度高，线程状态正常\n",
      "进行至序列号：15：\n"
     ]
    },
    {
     "name": "stderr",
     "output_type": "stream",
     "text": [
      "/home/wwd/anaconda3/lib/python3.7/site-packages/ipykernel_launcher.py:38: RankWarning: Polyfit may be poorly conditioned\n",
      "/home/wwd/anaconda3/lib/python3.7/site-packages/ipykernel_launcher.py:38: RankWarning: Polyfit may be poorly conditioned\n"
     ]
    },
    {
     "name": "stdout",
     "output_type": "stream",
     "text": [
      "0.9588034361440495\n",
      "distence: 2\n",
      "series: [{0: 2, 1: 2}, {0: 2, 1: 2}]\n",
      "--: False\n",
      "正常： 两线程序列吻合度高，线程状态正常\n",
      "进行至序列号：16：\n",
      "0.9996302679139942\n",
      "distence: 2\n",
      "series: [{0: 2, 1: 2}, {0: 2, 1: 2}]\n",
      "--: False\n",
      "正常： 两线程序列吻合度高，线程状态正常\n",
      "进行至序列号：17：\n"
     ]
    },
    {
     "name": "stderr",
     "output_type": "stream",
     "text": [
      "/home/wwd/anaconda3/lib/python3.7/site-packages/ipykernel_launcher.py:38: RankWarning: Polyfit may be poorly conditioned\n",
      "/home/wwd/anaconda3/lib/python3.7/site-packages/ipykernel_launcher.py:38: RankWarning: Polyfit may be poorly conditioned\n"
     ]
    },
    {
     "name": "stdout",
     "output_type": "stream",
     "text": [
      "0.9739328036040196\n",
      "distence: 2\n",
      "series: [{0: 2, 1: 2}, {0: 2, 1: 2}]\n",
      "--: False\n",
      "正常： 两线程序列吻合度高，线程状态正常\n",
      "进行至序列号：18：\n"
     ]
    },
    {
     "name": "stderr",
     "output_type": "stream",
     "text": [
      "/home/wwd/anaconda3/lib/python3.7/site-packages/ipykernel_launcher.py:38: RankWarning: Polyfit may be poorly conditioned\n",
      "/home/wwd/anaconda3/lib/python3.7/site-packages/ipykernel_launcher.py:38: RankWarning: Polyfit may be poorly conditioned\n"
     ]
    },
    {
     "name": "stdout",
     "output_type": "stream",
     "text": [
      "0.9982803141089927\n",
      "distence: 2\n",
      "series: [{0: 2, 1: 2}, {0: 2, 1: 2}]\n",
      "--: False\n",
      "正常： 两线程序列吻合度高，线程状态正常\n",
      "进行至序列号：19：\n",
      "distence: 2\n",
      "series: [{0: 1, 1: 1}, {0: 1, 1: 2}]\n",
      "--: True\n",
      "内存泄漏： 两线程序列吻合度低，线程状态异常，为内存泄漏\n",
      "进行至序列号：20：\n",
      "0.9680343147550846\n",
      "distence: 2\n",
      "series: [{0: 2, 1: 2}, {0: 2, 1: 2}]\n",
      "--: False\n",
      "正常： 两线程序列吻合度高，线程状态正常\n",
      "进行至序列号：21：\n"
     ]
    },
    {
     "name": "stderr",
     "output_type": "stream",
     "text": [
      "/home/wwd/anaconda3/lib/python3.7/site-packages/ipykernel_launcher.py:38: RankWarning: Polyfit may be poorly conditioned\n",
      "/home/wwd/anaconda3/lib/python3.7/site-packages/ipykernel_launcher.py:38: RankWarning: Polyfit may be poorly conditioned\n"
     ]
    },
    {
     "name": "stdout",
     "output_type": "stream",
     "text": [
      "0.9768082176582775\n",
      "distence: 2\n",
      "series: [{0: 2, 1: 2}, {0: 2, 1: 2}]\n",
      "--: False\n",
      "正常： 两线程序列吻合度高，线程状态正常\n",
      "进行至序列号：22：\n"
     ]
    },
    {
     "name": "stderr",
     "output_type": "stream",
     "text": [
      "/home/wwd/anaconda3/lib/python3.7/site-packages/ipykernel_launcher.py:38: RankWarning: Polyfit may be poorly conditioned\n",
      "/home/wwd/anaconda3/lib/python3.7/site-packages/ipykernel_launcher.py:38: RankWarning: Polyfit may be poorly conditioned\n"
     ]
    },
    {
     "name": "stdout",
     "output_type": "stream",
     "text": [
      "0.9063941969145346\n",
      "distence: 2\n",
      "series: [{0: 1, 1: 2}, {0: 1, 1: 2}]\n",
      "--: True\n",
      "内存泄漏： 两线程序列吻合度低，线程状态异常，为内存泄漏\n",
      "进行至序列号：23：\n",
      "1.024066265552015\n",
      "distence: 2\n",
      "series: [{0: 2, 1: 2}, {0: 2, 1: 2}]\n",
      "--: False\n",
      "正常： 两线程序列吻合度高，线程状态正常\n",
      "进行至序列号：24：\n",
      "1.0579852476471114\n",
      "distence: 2\n",
      "series: [{0: 1, 1: 2}, {0: 1, 1: 2}]\n",
      "--: True\n",
      "内存泄漏： 两线程序列吻合度低，线程状态异常，为内存泄漏\n",
      "进行至序列号：25：\n"
     ]
    },
    {
     "name": "stderr",
     "output_type": "stream",
     "text": [
      "/home/wwd/anaconda3/lib/python3.7/site-packages/ipykernel_launcher.py:38: RankWarning: Polyfit may be poorly conditioned\n",
      "/home/wwd/anaconda3/lib/python3.7/site-packages/ipykernel_launcher.py:38: RankWarning: Polyfit may be poorly conditioned\n"
     ]
    },
    {
     "name": "stdout",
     "output_type": "stream",
     "text": [
      "1.0543279355279405\n",
      "distence: 2\n",
      "series: [{0: 1, 1: 2}, {0: 1, 1: 2}]\n",
      "--: True\n",
      "内存泄漏： 两线程序列吻合度低，线程状态异常，为内存泄漏\n",
      "进行至序列号：26：\n"
     ]
    },
    {
     "name": "stderr",
     "output_type": "stream",
     "text": [
      "/home/wwd/anaconda3/lib/python3.7/site-packages/ipykernel_launcher.py:38: RankWarning: Polyfit may be poorly conditioned\n",
      "/home/wwd/anaconda3/lib/python3.7/site-packages/ipykernel_launcher.py:38: RankWarning: Polyfit may be poorly conditioned\n"
     ]
    },
    {
     "name": "stdout",
     "output_type": "stream",
     "text": [
      "1.0250479343056644\n",
      "distence: 2\n",
      "series: [{0: 2, 1: 2}, {0: 2, 1: 2}]\n",
      "--: False\n",
      "正常： 两线程序列吻合度高，线程状态正常\n",
      "进行至序列号：27：\n",
      "0.9876219387731118\n",
      "distence: 2\n",
      "series: [{0: 2, 1: 2}, {0: 2, 1: 2}]\n",
      "--: False\n",
      "正常： 两线程序列吻合度高，线程状态正常\n",
      "进行至序列号：28：\n"
     ]
    },
    {
     "name": "stderr",
     "output_type": "stream",
     "text": [
      "/home/wwd/anaconda3/lib/python3.7/site-packages/ipykernel_launcher.py:38: RankWarning: Polyfit may be poorly conditioned\n",
      "/home/wwd/anaconda3/lib/python3.7/site-packages/ipykernel_launcher.py:38: RankWarning: Polyfit may be poorly conditioned\n"
     ]
    },
    {
     "name": "stdout",
     "output_type": "stream",
     "text": [
      "0.9794953208085153\n",
      "distence: 2\n",
      "series: [{0: 2, 1: 2}, {0: 2, 1: 2}]\n",
      "--: False\n",
      "正常： 两线程序列吻合度高，线程状态正常\n",
      "进行至序列号：29：\n"
     ]
    },
    {
     "name": "stderr",
     "output_type": "stream",
     "text": [
      "/home/wwd/anaconda3/lib/python3.7/site-packages/ipykernel_launcher.py:38: RankWarning: Polyfit may be poorly conditioned\n",
      "/home/wwd/anaconda3/lib/python3.7/site-packages/ipykernel_launcher.py:38: RankWarning: Polyfit may be poorly conditioned\n"
     ]
    },
    {
     "name": "stdout",
     "output_type": "stream",
     "text": [
      "1.000591946051585\n",
      "distence: 2\n",
      "series: [{0: 2, 1: 2}, {0: 2, 1: 2}]\n",
      "--: False\n",
      "正常： 两线程序列吻合度高，线程状态正常\n",
      "进行至序列号：30：\n"
     ]
    },
    {
     "name": "stderr",
     "output_type": "stream",
     "text": [
      "/home/wwd/anaconda3/lib/python3.7/site-packages/ipykernel_launcher.py:38: RankWarning: Polyfit may be poorly conditioned\n",
      "/home/wwd/anaconda3/lib/python3.7/site-packages/ipykernel_launcher.py:38: RankWarning: Polyfit may be poorly conditioned\n"
     ]
    },
    {
     "name": "stdout",
     "output_type": "stream",
     "text": [
      "0.9873993272446194\n",
      "distence: 2\n",
      "series: [{0: 2, 1: 2}, {0: 2, 1: 2}]\n",
      "--: False\n",
      "正常： 两线程序列吻合度高，线程状态正常\n"
     ]
    }
   ],
   "source": [
    "# 正常测试实验\n",
    "\n",
    "# 序列特征\n",
    "SeriesFeature=[]\n",
    "# 序列结果\n",
    "SeriesResult=[]\n",
    "\n",
    "def normal_lab():\n",
    "    \n",
    "    for i in range(len(lab_normal)):\n",
    "        title_times = \"进行至序列号：\"+str(i+1)+\"：\"\n",
    "        print(title_times)\n",
    "        x2 = lab_normal[str(i+1)]['time'].copy()[0:999]\n",
    "\n",
    "        y2 = lab_normal[str(i+1)]['heartrate'].copy()[0:999]\n",
    "        x2 = np.array(x2)\n",
    "        y2 = np.array(y2)\n",
    "        timeSeries1,timeSeries2 = align_data(x,y,x2,y2)\n",
    "\n",
    "        feature = similar_all(x,y,x2,y2,timeSeries1,timeSeries2)\n",
    "\n",
    "        SeriesFeature.append(feature)\n",
    "        \n",
    "        check=judge(feature)\n",
    "        \n",
    "        SeriesResult.append(check)\n",
    "    \n",
    "normal_lab()"
   ]
  },
  {
   "cell_type": "code",
   "execution_count": 16,
   "metadata": {},
   "outputs": [
    {
     "name": "stdout",
     "output_type": "stream",
     "text": [
      "准确率: 0.8666666666666667\n"
     ]
    }
   ],
   "source": [
    "def precisionRate(result):\n",
    "    num=0\n",
    "    for i in result:\n",
    "        if i[0]==1:\n",
    "            num=num+1\n",
    "    print(\"准确率:\",(len(result)-num)/len(result))\n",
    "precisionRate(SeriesResult)"
   ]
  },
  {
   "cell_type": "markdown",
   "metadata": {},
   "source": [
    "#### 5.2 内存泄漏检测"
   ]
  },
  {
   "cell_type": "code",
   "execution_count": 17,
   "metadata": {},
   "outputs": [
    {
     "name": "stdout",
     "output_type": "stream",
     "text": [
      "进行至序列号：1：\n",
      "52.69019792821047\n",
      "distence: 1\n",
      "series: [{0: 1, 1: 2}, {0: 1, 1: 1}]\n",
      "feature:45.07931210291932\n",
      "min_time_standard:0.9257\n",
      "max_time_standard:1.08025\n",
      "内存泄漏： 两线程序列吻合度低，线程状态异常，为内存泄漏,且线程局部震荡较严重\n",
      "进行至序列号：2：\n",
      "71.66831659726857\n",
      "distence: 1\n",
      "series: [{0: 1, 1: 2}, {0: 1, 1: 1}]\n",
      "feature:45.05750744893668\n",
      "min_time_standard:0.9257\n",
      "max_time_standard:1.08025\n",
      "内存泄漏： 两线程序列吻合度低，线程状态异常，为内存泄漏,且线程局部震荡较严重\n",
      "进行至序列号：3：\n",
      "93.96672144315694\n",
      "distence: 1\n",
      "series: [{0: 1, 1: 2}, {0: 1, 1: 1}]\n",
      "feature:57.369326857007145\n",
      "min_time_standard:0.9257\n",
      "max_time_standard:1.08025\n",
      "内存泄漏： 两线程序列吻合度低，线程状态异常，为内存泄漏,且线程局部震荡较严重\n",
      "进行至序列号：4：\n",
      "93.96672144315694\n",
      "distence: 1\n",
      "series: [{0: 1, 1: 2}, {0: 1, 1: 1}]\n",
      "feature:57.369326857007145\n",
      "min_time_standard:0.9257\n",
      "max_time_standard:1.08025\n",
      "内存泄漏： 两线程序列吻合度低，线程状态异常，为内存泄漏,且线程局部震荡较严重\n",
      "进行至序列号：5：\n"
     ]
    },
    {
     "name": "stderr",
     "output_type": "stream",
     "text": [
      "/home/wwd/anaconda3/lib/python3.7/site-packages/ipykernel_launcher.py:38: RankWarning: Polyfit may be poorly conditioned\n",
      "/home/wwd/anaconda3/lib/python3.7/site-packages/ipykernel_launcher.py:38: RankWarning: Polyfit may be poorly conditioned\n"
     ]
    },
    {
     "name": "stdout",
     "output_type": "stream",
     "text": [
      "distence: 2\n",
      "series: [{0: 1, 1: 1}, {0: 1, 1: 2}]\n",
      "--: True\n",
      "内存泄漏： 两线程序列吻合度低，线程状态异常，为内存泄漏\n",
      "进行至序列号：6：\n",
      "1.042722013297042\n",
      "distence: 2\n",
      "series: [{0: 1, 1: 2}, {0: 1, 1: 2}]\n",
      "--: True\n",
      "内存泄漏： 两线程序列吻合度低，线程状态异常，为内存泄漏\n",
      "进行至序列号：7：\n"
     ]
    },
    {
     "name": "stderr",
     "output_type": "stream",
     "text": [
      "/home/wwd/anaconda3/lib/python3.7/site-packages/ipykernel_launcher.py:38: RankWarning: Polyfit may be poorly conditioned\n",
      "/home/wwd/anaconda3/lib/python3.7/site-packages/ipykernel_launcher.py:38: RankWarning: Polyfit may be poorly conditioned\n"
     ]
    },
    {
     "name": "stdout",
     "output_type": "stream",
     "text": [
      "distence: 2\n",
      "series: [{0: 1, 1: 1}, {0: 1, 1: 2}]\n",
      "--: True\n",
      "内存泄漏： 两线程序列吻合度低，线程状态异常，为内存泄漏\n",
      "进行至序列号：8：\n"
     ]
    },
    {
     "name": "stderr",
     "output_type": "stream",
     "text": [
      "/home/wwd/anaconda3/lib/python3.7/site-packages/ipykernel_launcher.py:38: RankWarning: Polyfit may be poorly conditioned\n",
      "/home/wwd/anaconda3/lib/python3.7/site-packages/ipykernel_launcher.py:38: RankWarning: Polyfit may be poorly conditioned\n"
     ]
    },
    {
     "name": "stdout",
     "output_type": "stream",
     "text": [
      "distence: 2\n",
      "series: [{0: 1, 1: 1}, {0: 1, 1: 2}]\n",
      "--: True\n",
      "内存泄漏： 两线程序列吻合度低，线程状态异常，为内存泄漏\n",
      "进行至序列号：9：\n"
     ]
    },
    {
     "name": "stderr",
     "output_type": "stream",
     "text": [
      "/home/wwd/anaconda3/lib/python3.7/site-packages/ipykernel_launcher.py:38: RankWarning: Polyfit may be poorly conditioned\n",
      "/home/wwd/anaconda3/lib/python3.7/site-packages/ipykernel_launcher.py:38: RankWarning: Polyfit may be poorly conditioned\n"
     ]
    },
    {
     "name": "stdout",
     "output_type": "stream",
     "text": [
      "distence: 2\n",
      "series: [{0: 2, 1: 1}, {0: 2, 1: 2}]\n",
      "--: False\n",
      "正常： 两线程序列吻合度高，线程状态正常\n",
      "进行至序列号：10：\n",
      "distence: 2\n",
      "series: [{0: 1, 1: 1}, {0: 1, 1: 2}]\n",
      "--: True\n",
      "内存泄漏： 两线程序列吻合度低，线程状态异常，为内存泄漏\n",
      "进行至序列号：11：\n",
      "1.031831272241906\n",
      "distence: 2\n",
      "series: [{0: 1, 1: 2}, {0: 1, 1: 2}]\n",
      "--: True\n",
      "内存泄漏： 两线程序列吻合度低，线程状态异常，为内存泄漏\n",
      "进行至序列号：12：\n",
      "1.0105725592325887\n",
      "distence: 2\n",
      "series: [{0: 1, 1: 2}, {0: 1, 1: 2}]\n",
      "--: True\n",
      "内存泄漏： 两线程序列吻合度低，线程状态异常，为内存泄漏\n",
      "进行至序列号：13：\n",
      "1.025430171347576\n",
      "distence: 2\n",
      "series: [{0: 1, 1: 2}, {0: 1, 1: 2}]\n",
      "--: True\n",
      "内存泄漏： 两线程序列吻合度低，线程状态异常，为内存泄漏\n",
      "进行至序列号：14：\n",
      "distence: 2\n",
      "series: [{0: 1, 1: 1}, {0: 1, 1: 2}]\n",
      "--: True\n",
      "内存泄漏： 两线程序列吻合度低，线程状态异常，为内存泄漏\n",
      "进行至序列号：15：\n"
     ]
    },
    {
     "name": "stderr",
     "output_type": "stream",
     "text": [
      "/home/wwd/anaconda3/lib/python3.7/site-packages/ipykernel_launcher.py:38: RankWarning: Polyfit may be poorly conditioned\n",
      "/home/wwd/anaconda3/lib/python3.7/site-packages/ipykernel_launcher.py:38: RankWarning: Polyfit may be poorly conditioned\n"
     ]
    },
    {
     "name": "stdout",
     "output_type": "stream",
     "text": [
      "distence: 2\n",
      "series: [{0: 1, 1: 1}, {0: 1, 1: 2}]\n",
      "--: True\n",
      "内存泄漏： 两线程序列吻合度低，线程状态异常，为内存泄漏\n",
      "进行至序列号：16：\n",
      "distence: 2\n",
      "series: [{0: 1, 1: 1}, {0: 1, 1: 2}]\n",
      "--: True\n",
      "内存泄漏： 两线程序列吻合度低，线程状态异常，为内存泄漏\n",
      "进行至序列号：17：\n"
     ]
    },
    {
     "name": "stderr",
     "output_type": "stream",
     "text": [
      "/home/wwd/anaconda3/lib/python3.7/site-packages/ipykernel_launcher.py:38: RankWarning: Polyfit may be poorly conditioned\n",
      "/home/wwd/anaconda3/lib/python3.7/site-packages/ipykernel_launcher.py:38: RankWarning: Polyfit may be poorly conditioned\n"
     ]
    },
    {
     "name": "stdout",
     "output_type": "stream",
     "text": [
      "0.901882780444621\n",
      "distence: 2\n",
      "series: [{0: 1, 1: 2}, {0: 1, 1: 2}]\n",
      "--: True\n",
      "内存泄漏： 两线程序列吻合度低，线程状态异常，为内存泄漏\n",
      "进行至序列号：18：\n",
      "0.9370552980900781\n",
      "distence: 2\n",
      "series: [{0: 1, 1: 2}, {0: 1, 1: 2}]\n",
      "--: True\n",
      "内存泄漏： 两线程序列吻合度低，线程状态异常，为内存泄漏\n",
      "进行至序列号：19：\n"
     ]
    },
    {
     "name": "stderr",
     "output_type": "stream",
     "text": [
      "/home/wwd/anaconda3/lib/python3.7/site-packages/ipykernel_launcher.py:38: RankWarning: Polyfit may be poorly conditioned\n",
      "/home/wwd/anaconda3/lib/python3.7/site-packages/ipykernel_launcher.py:38: RankWarning: Polyfit may be poorly conditioned\n"
     ]
    },
    {
     "name": "stdout",
     "output_type": "stream",
     "text": [
      "distence: 2\n",
      "series: [{0: 2, 1: 1}, {0: 2, 1: 2}]\n",
      "--: False\n",
      "正常： 两线程序列吻合度高，线程状态正常\n",
      "进行至序列号：20：\n",
      "distence: 2\n",
      "series: [{0: 1, 1: 1}, {0: 1, 1: 2}]\n",
      "--: True\n",
      "内存泄漏： 两线程序列吻合度低，线程状态异常，为内存泄漏\n",
      "进行至序列号：21：\n",
      "1.0357220663344944\n",
      "distence: 2\n",
      "series: [{0: 1, 1: 2}, {0: 1, 1: 2}]\n",
      "--: True\n",
      "内存泄漏： 两线程序列吻合度低，线程状态异常，为内存泄漏\n",
      "进行至序列号：22：\n",
      "1.1621902098861192\n",
      "distence: 2\n",
      "series: [{0: 1, 1: 2}, {0: 1, 1: 1}]\n",
      "--: True\n",
      "内存泄漏： 两线程序列吻合度低，线程状态异常，为内存泄漏,且线程局部震荡较严重\n",
      "进行至序列号：23：\n"
     ]
    },
    {
     "name": "stderr",
     "output_type": "stream",
     "text": [
      "/home/wwd/anaconda3/lib/python3.7/site-packages/ipykernel_launcher.py:38: RankWarning: Polyfit may be poorly conditioned\n",
      "/home/wwd/anaconda3/lib/python3.7/site-packages/ipykernel_launcher.py:38: RankWarning: Polyfit may be poorly conditioned\n"
     ]
    },
    {
     "name": "stdout",
     "output_type": "stream",
     "text": [
      "distence: 2\n",
      "series: [{0: 1, 1: 1}, {0: 1, 1: 2}]\n",
      "--: True\n",
      "内存泄漏： 两线程序列吻合度低，线程状态异常，为内存泄漏\n",
      "进行至序列号：24：\n"
     ]
    },
    {
     "name": "stderr",
     "output_type": "stream",
     "text": [
      "/home/wwd/anaconda3/lib/python3.7/site-packages/ipykernel_launcher.py:38: RankWarning: Polyfit may be poorly conditioned\n",
      "/home/wwd/anaconda3/lib/python3.7/site-packages/ipykernel_launcher.py:38: RankWarning: Polyfit may be poorly conditioned\n"
     ]
    },
    {
     "name": "stdout",
     "output_type": "stream",
     "text": [
      "1.0376428812846978\n",
      "distence: 2\n",
      "series: [{0: 1, 1: 2}, {0: 1, 1: 2}]\n",
      "--: True\n",
      "内存泄漏： 两线程序列吻合度低，线程状态异常，为内存泄漏\n",
      "进行至序列号：25：\n"
     ]
    },
    {
     "name": "stderr",
     "output_type": "stream",
     "text": [
      "/home/wwd/anaconda3/lib/python3.7/site-packages/ipykernel_launcher.py:38: RankWarning: Polyfit may be poorly conditioned\n",
      "/home/wwd/anaconda3/lib/python3.7/site-packages/ipykernel_launcher.py:38: RankWarning: Polyfit may be poorly conditioned\n"
     ]
    },
    {
     "name": "stdout",
     "output_type": "stream",
     "text": [
      "distence: 2\n",
      "series: [{0: 1, 1: 1}, {0: 1, 1: 2}]\n",
      "--: True\n",
      "内存泄漏： 两线程序列吻合度低，线程状态异常，为内存泄漏\n",
      "进行至序列号：26：\n"
     ]
    },
    {
     "name": "stderr",
     "output_type": "stream",
     "text": [
      "/home/wwd/anaconda3/lib/python3.7/site-packages/ipykernel_launcher.py:38: RankWarning: Polyfit may be poorly conditioned\n",
      "/home/wwd/anaconda3/lib/python3.7/site-packages/ipykernel_launcher.py:38: RankWarning: Polyfit may be poorly conditioned\n"
     ]
    },
    {
     "name": "stdout",
     "output_type": "stream",
     "text": [
      "distence: 2\n",
      "series: [{0: 1, 1: 1}, {0: 1, 1: 2}]\n",
      "--: True\n",
      "内存泄漏： 两线程序列吻合度低，线程状态异常，为内存泄漏\n",
      "进行至序列号：27：\n",
      "distence: 2\n",
      "series: [{0: 1, 1: 1}, {0: 1, 1: 2}]\n",
      "--: True\n",
      "内存泄漏： 两线程序列吻合度低，线程状态异常，为内存泄漏\n",
      "进行至序列号：28：\n"
     ]
    },
    {
     "name": "stderr",
     "output_type": "stream",
     "text": [
      "/home/wwd/anaconda3/lib/python3.7/site-packages/ipykernel_launcher.py:38: RankWarning: Polyfit may be poorly conditioned\n",
      "/home/wwd/anaconda3/lib/python3.7/site-packages/ipykernel_launcher.py:38: RankWarning: Polyfit may be poorly conditioned\n"
     ]
    },
    {
     "name": "stdout",
     "output_type": "stream",
     "text": [
      "1.0773044764641015\n",
      "distence: 2\n",
      "series: [{0: 1, 1: 2}, {0: 1, 1: 2}]\n",
      "--: True\n",
      "内存泄漏： 两线程序列吻合度低，线程状态异常，为内存泄漏\n",
      "进行至序列号：29：\n",
      "distence: 2\n",
      "series: [{0: 2, 1: 1}, {0: 1, 1: 2}]\n",
      "--: False\n",
      "正常： 两线程序列吻合度高，线程状态正常\n",
      "进行至序列号：30：\n"
     ]
    },
    {
     "name": "stderr",
     "output_type": "stream",
     "text": [
      "/home/wwd/anaconda3/lib/python3.7/site-packages/ipykernel_launcher.py:38: RankWarning: Polyfit may be poorly conditioned\n",
      "/home/wwd/anaconda3/lib/python3.7/site-packages/ipykernel_launcher.py:38: RankWarning: Polyfit may be poorly conditioned\n"
     ]
    },
    {
     "name": "stdout",
     "output_type": "stream",
     "text": [
      "distence: 2\n",
      "series: [{0: 1, 1: 1}, {0: 1, 1: 2}]\n",
      "--: True\n",
      "内存泄漏： 两线程序列吻合度低，线程状态异常，为内存泄漏\n",
      "进行至序列号：31：\n"
     ]
    },
    {
     "name": "stderr",
     "output_type": "stream",
     "text": [
      "/home/wwd/anaconda3/lib/python3.7/site-packages/ipykernel_launcher.py:38: RankWarning: Polyfit may be poorly conditioned\n",
      "/home/wwd/anaconda3/lib/python3.7/site-packages/ipykernel_launcher.py:38: RankWarning: Polyfit may be poorly conditioned\n"
     ]
    },
    {
     "name": "stdout",
     "output_type": "stream",
     "text": [
      "1.1652332830442937\n",
      "distence: 2\n",
      "series: [{0: 1, 1: 2}, {0: 1, 1: 2}]\n",
      "--: True\n",
      "内存泄漏： 两线程序列吻合度低，线程状态异常，为内存泄漏\n",
      "进行至序列号：32：\n"
     ]
    },
    {
     "name": "stderr",
     "output_type": "stream",
     "text": [
      "/home/wwd/anaconda3/lib/python3.7/site-packages/ipykernel_launcher.py:38: RankWarning: Polyfit may be poorly conditioned\n",
      "/home/wwd/anaconda3/lib/python3.7/site-packages/ipykernel_launcher.py:38: RankWarning: Polyfit may be poorly conditioned\n"
     ]
    },
    {
     "name": "stdout",
     "output_type": "stream",
     "text": [
      "distence: 2\n",
      "series: [{0: 1, 1: 1}, {0: 1, 1: 2}]\n",
      "--: True\n",
      "内存泄漏： 两线程序列吻合度低，线程状态异常，为内存泄漏\n"
     ]
    }
   ],
   "source": [
    "# 正常测试实验\n",
    "\n",
    "# 序列特征\n",
    "SeriesFeature1=[]\n",
    "# 序列结果\n",
    "SeriesResult1=[]\n",
    "\n",
    "def abnormal_lab():\n",
    "    \n",
    "    for i in range(len(lab_abnormal)):\n",
    "        title_times = \"进行至序列号：\"+str(i+1)+\"：\"\n",
    "        print(title_times)\n",
    "\n",
    "        x2 = lab_abnormal[str(i+1)]['time'].copy()[0:999]\n",
    "        y2 = lab_abnormal[str(i+1)]['heartrate'].copy()[0:999]\n",
    "        x2 = np.array(x2)\n",
    "        y2 = np.array(y2)\n",
    "        timeSeries1,timeSeries2 = align_data(x,y,x2,y2)\n",
    "\n",
    "        feature = similar_all(x,y,x2,y2,timeSeries1,timeSeries2)\n",
    "\n",
    "        SeriesFeature1.append(feature)\n",
    "        \n",
    "        check=judge(feature)\n",
    "        \n",
    "        SeriesResult1.append(check)\n",
    "    \n",
    "abnormal_lab()"
   ]
  },
  {
   "cell_type": "code",
   "execution_count": 18,
   "metadata": {},
   "outputs": [
    {
     "name": "stdout",
     "output_type": "stream",
     "text": [
      "准确率: 0.90625\n"
     ]
    }
   ],
   "source": [
    "def precisionRate1(result):\n",
    "    num=0\n",
    "    for i in result:\n",
    "        if i[0]==1:\n",
    "            num=num+1\n",
    "    print(\"准确率:\",(num/len(result)))\n",
    "precisionRate1(SeriesResult1)"
   ]
  },
  {
   "cell_type": "markdown",
   "metadata": {},
   "source": [
    "#### 5.3 中断检测"
   ]
  },
  {
   "cell_type": "code",
   "execution_count": 19,
   "metadata": {},
   "outputs": [
    {
     "name": "stdout",
     "output_type": "stream",
     "text": [
      "进行至序列号：1：\n"
     ]
    },
    {
     "name": "stderr",
     "output_type": "stream",
     "text": [
      "/home/wwd/anaconda3/lib/python3.7/site-packages/ipykernel_launcher.py:38: RankWarning: Polyfit may be poorly conditioned\n",
      "/home/wwd/anaconda3/lib/python3.7/site-packages/ipykernel_launcher.py:38: RankWarning: Polyfit may be poorly conditioned\n"
     ]
    },
    {
     "name": "stdout",
     "output_type": "stream",
     "text": [
      "distence: 2\n",
      "series: [{0: 1, 1: 1}, {0: 2, 1: 2}]\n",
      "--: True\n",
      "中断： 两线程序列吻合度低，线程状态异常，为中断执行,且线程局部震荡较严重\n",
      "进行至序列号：2：\n",
      "distence: 1\n",
      "series: [{0: 1, 1: 1}, {0: 1, 1: 1}]\n",
      "feature:1.5693484417538317\n",
      "min_time_standard:0.9257\n",
      "中断： 两线程序列吻合度低，线程状态异常，为中断执行,且线程局部震荡较严重\n",
      "进行至序列号：3：\n",
      "distence: 1\n",
      "series: [{0: 1, 1: 1}, {0: 1, 1: 1}]\n",
      "feature:1.5689340010846504\n",
      "min_time_standard:0.9257\n",
      "中断： 两线程序列吻合度低，线程状态异常，为中断执行,且线程局部震荡较严重\n",
      "进行至序列号：4：\n",
      "distence: 2\n",
      "series: [{0: 1, 1: 1}, {0: 2, 1: 2}]\n",
      "--: True\n",
      "中断： 两线程序列吻合度低，线程状态异常，为中断执行,且线程局部震荡较严重\n",
      "进行至序列号：5：\n",
      "distence: 2\n",
      "series: [{0: 1, 1: 1}, {0: 2, 1: 2}]\n",
      "--: True\n",
      "中断： 两线程序列吻合度低，线程状态异常，为中断执行,且线程局部震荡较严重\n",
      "进行至序列号：6：\n",
      "distence: 2\n",
      "series: [{0: 1, 1: 1}, {0: 2, 1: 2}]\n",
      "--: True\n",
      "中断： 两线程序列吻合度低，线程状态异常，为中断执行,且线程局部震荡较严重\n",
      "进行至序列号：7：\n",
      "distence: 2\n",
      "series: [{0: 1, 1: 1}, {0: 1, 1: 2}]\n",
      "--: True\n",
      "中断： 两线程序列吻合度低，线程状态异常，为中断执行,且线程局部震荡较严重\n",
      "进行至序列号：8：\n",
      "distence: 2\n",
      "series: [{0: 1, 1: 1}, {0: 2, 1: 2}]\n",
      "--: True\n",
      "中断： 两线程序列吻合度低，线程状态异常，为中断执行,且线程局部震荡较严重\n",
      "进行至序列号：9：\n",
      "distence: 2\n",
      "series: [{0: 1, 1: 1}, {0: 1, 1: 2}]\n",
      "--: True\n",
      "中断： 两线程序列吻合度低，线程状态异常，为中断执行,且线程局部震荡较严重\n",
      "进行至序列号：10：\n",
      "distence: 2\n",
      "series: [{0: 1, 1: 1}, {0: 2, 1: 2}]\n",
      "--: True\n",
      "中断： 两线程序列吻合度低，线程状态异常，为中断执行,且线程局部震荡较严重\n",
      "进行至序列号：11：\n",
      "distence: 2\n",
      "series: [{0: 1, 1: 1}, {0: 2, 1: 2}]\n",
      "--: True\n",
      "中断： 两线程序列吻合度低，线程状态异常，为中断执行,且线程局部震荡较严重\n",
      "进行至序列号：12：\n",
      "distence: 2\n",
      "series: [{0: 1, 1: 1}, {0: 2, 1: 2}]\n",
      "--: True\n",
      "中断： 两线程序列吻合度低，线程状态异常，为中断执行,且线程局部震荡较严重\n",
      "进行至序列号：13：\n",
      "distence: 2\n",
      "series: [{0: 1, 1: 1}, {0: 2, 1: 2}]\n",
      "--: True\n",
      "中断： 两线程序列吻合度低，线程状态异常，为中断执行,且线程局部震荡较严重\n",
      "进行至序列号：14：\n",
      "distence: 2\n",
      "series: [{0: 1, 1: 1}, {0: 2, 1: 2}]\n",
      "--: True\n",
      "中断： 两线程序列吻合度低，线程状态异常，为中断执行,且线程局部震荡较严重\n",
      "进行至序列号：15：\n"
     ]
    },
    {
     "name": "stderr",
     "output_type": "stream",
     "text": [
      "/home/wwd/anaconda3/lib/python3.7/site-packages/ipykernel_launcher.py:38: RankWarning: Polyfit may be poorly conditioned\n",
      "/home/wwd/anaconda3/lib/python3.7/site-packages/ipykernel_launcher.py:38: RankWarning: Polyfit may be poorly conditioned\n"
     ]
    },
    {
     "name": "stdout",
     "output_type": "stream",
     "text": [
      "distence: 2\n",
      "series: [{0: 2, 1: 1}, {0: 2, 1: 2}]\n",
      "--: False\n",
      "正常： 两线程序列吻合度高，线程状态正常\n",
      "进行至序列号：16：\n",
      "distence: 2\n",
      "series: [{0: 2, 1: 1}, {0: 2, 1: 2}]\n",
      "--: False\n",
      "正常： 两线程序列吻合度高，线程状态正常\n",
      "进行至序列号：17：\n",
      "0.9762518279762621\n",
      "distence: 1\n",
      "series: [{0: 1, 1: 2}, {0: 1, 1: 1}]\n",
      "feature:3.507557198732928\n",
      "min_time_standard:0.9257\n",
      "max_time_standard:1.08025\n",
      "内存泄漏： 两线程序列吻合度低，线程状态异常，为内存泄漏,且线程局部震荡较严重\n",
      "进行至序列号：18：\n",
      "1.058386845687365\n",
      "distence: 1\n",
      "series: [{0: 1, 1: 2}, {0: 1, 1: 1}]\n",
      "feature:3.4080616660650227\n",
      "min_time_standard:0.9257\n",
      "max_time_standard:1.08025\n",
      "内存泄漏： 两线程序列吻合度低，线程状态异常，为内存泄漏,且线程局部震荡较严重\n",
      "进行至序列号：19：\n",
      "distence: 1\n",
      "series: [{0: 1, 1: 1}, {0: 1, 1: 1}]\n",
      "feature:1.7704665180995545\n",
      "min_time_standard:0.9257\n",
      "中断： 两线程序列吻合度低，线程状态异常，为中断执行,且线程局部震荡较严重\n",
      "进行至序列号：20：\n",
      "distence: 1\n",
      "series: [{0: 1, 1: 1}, {0: 1, 1: 1}]\n",
      "feature:1.7694857315689776\n",
      "min_time_standard:0.9257\n",
      "中断： 两线程序列吻合度低，线程状态异常，为中断执行,且线程局部震荡较严重\n",
      "进行至序列号：21：\n",
      "1.162372007116021\n",
      "distence: 1\n",
      "series: [{0: 1, 1: 2}, {0: 1, 1: 1}]\n",
      "feature:3.6376885239856267\n",
      "min_time_standard:0.9257\n",
      "max_time_standard:1.08025\n",
      "内存泄漏： 两线程序列吻合度低，线程状态异常，为内存泄漏,且线程局部震荡较严重\n",
      "进行至序列号：22：\n",
      "distence: 2\n",
      "series: [{0: 1, 1: 1}, {0: 2, 1: 2}]\n",
      "--: True\n",
      "中断： 两线程序列吻合度低，线程状态异常，为中断执行,且线程局部震荡较严重\n",
      "进行至序列号：23：\n",
      "distence: 2\n",
      "series: [{0: 1, 1: 1}, {0: 2, 1: 2}]\n",
      "--: True\n",
      "中断： 两线程序列吻合度低，线程状态异常，为中断执行,且线程局部震荡较严重\n",
      "进行至序列号：24：\n",
      "distence: 2\n",
      "series: [{0: 1, 1: 1}, {0: 2, 1: 2}]\n",
      "--: True\n",
      "中断： 两线程序列吻合度低，线程状态异常，为中断执行,且线程局部震荡较严重\n",
      "进行至序列号：25：\n"
     ]
    },
    {
     "name": "stderr",
     "output_type": "stream",
     "text": [
      "/home/wwd/anaconda3/lib/python3.7/site-packages/ipykernel_launcher.py:38: RankWarning: Polyfit may be poorly conditioned\n",
      "/home/wwd/anaconda3/lib/python3.7/site-packages/ipykernel_launcher.py:38: RankWarning: Polyfit may be poorly conditioned\n"
     ]
    },
    {
     "name": "stdout",
     "output_type": "stream",
     "text": [
      "distence: 2\n",
      "series: [{0: 1, 1: 1}, {0: 2, 1: 2}]\n",
      "--: True\n",
      "中断： 两线程序列吻合度低，线程状态异常，为中断执行,且线程局部震荡较严重\n",
      "进行至序列号：26：\n",
      "distence: 1\n",
      "series: [{0: 1, 1: 1}, {0: 1, 1: 1}]\n",
      "feature:1.5879120005440168\n",
      "min_time_standard:0.9257\n",
      "中断： 两线程序列吻合度低，线程状态异常，为中断执行,且线程局部震荡较严重\n",
      "进行至序列号：27：\n",
      "distence: 2\n",
      "series: [{0: 1, 1: 1}, {0: 2, 1: 2}]\n",
      "--: True\n",
      "中断： 两线程序列吻合度低，线程状态异常，为中断执行,且线程局部震荡较严重\n",
      "进行至序列号：28：\n",
      "distence: 2\n",
      "series: [{0: 1, 1: 1}, {0: 2, 1: 2}]\n",
      "--: True\n",
      "中断： 两线程序列吻合度低，线程状态异常，为中断执行,且线程局部震荡较严重\n",
      "进行至序列号：29：\n",
      "distence: 2\n",
      "series: [{0: 1, 1: 1}, {0: 1, 1: 2}]\n",
      "--: True\n",
      "中断： 两线程序列吻合度低，线程状态异常，为中断执行,且线程局部震荡较严重\n",
      "进行至序列号：30：\n",
      "distence: 2\n",
      "series: [{0: 1, 1: 1}, {0: 2, 1: 2}]\n",
      "--: True\n",
      "中断： 两线程序列吻合度低，线程状态异常，为中断执行,且线程局部震荡较严重\n",
      "进行至序列号：31：\n",
      "distence: 2\n",
      "series: [{0: 1, 1: 1}, {0: 2, 1: 2}]\n",
      "--: True\n",
      "中断： 两线程序列吻合度低，线程状态异常，为中断执行,且线程局部震荡较严重\n",
      "进行至序列号：32：\n",
      "distence: 2\n",
      "series: [{0: 1, 1: 1}, {0: 2, 1: 2}]\n",
      "--: True\n",
      "中断： 两线程序列吻合度低，线程状态异常，为中断执行,且线程局部震荡较严重\n",
      "进行至序列号：33：\n",
      "distence: 2\n",
      "series: [{0: 1, 1: 1}, {0: 2, 1: 2}]\n",
      "--: True\n",
      "中断： 两线程序列吻合度低，线程状态异常，为中断执行,且线程局部震荡较严重\n",
      "进行至序列号：34：\n",
      "distence: 2\n",
      "series: [{0: 1, 1: 1}, {0: 2, 1: 2}]\n",
      "--: True\n",
      "中断： 两线程序列吻合度低，线程状态异常，为中断执行,且线程局部震荡较严重\n"
     ]
    }
   ],
   "source": [
    "# 中断测试实验\n",
    "\n",
    "# 序列特征\n",
    "SeriesFeature2=[]\n",
    "# 序列结果\n",
    "SeriesResult2=[]\n",
    "\n",
    "def shutdown_lab():\n",
    "    \n",
    "    for i in range(len(lab_shutdown)):\n",
    "        title_times = \"进行至序列号：\"+str(i+1)+\"：\"\n",
    "        print(title_times)\n",
    "        lenth = len(lab_shutdown[str(i+1)]['time'])\n",
    "        x2 = lab_shutdown[str(i+1)]['time'].copy()[1:lenth]\n",
    "\n",
    "        y2 = lab_shutdown[str(i+1)]['heartrate'].copy()[1:lenth]\n",
    "        x2 = np.array(x2)\n",
    "        y2 = np.array(y2)\n",
    "        timeSeries1,timeSeries2 = align_data(x,y,x2,y2)\n",
    "\n",
    "        feature = similar_all(x,y,x2,y2,timeSeries1,timeSeries2)\n",
    "\n",
    "        SeriesFeature2.append(feature)\n",
    "        \n",
    "        check=judge(feature)\n",
    "        \n",
    "        SeriesResult2.append(check)\n",
    "    \n",
    "\n",
    "    \n",
    "shutdown_lab()"
   ]
  },
  {
   "cell_type": "code",
   "execution_count": 20,
   "metadata": {},
   "outputs": [
    {
     "name": "stdout",
     "output_type": "stream",
     "text": [
      "准确率: 0.8529411764705882\n"
     ]
    }
   ],
   "source": [
    "def precisionRate2(result):\n",
    "    num=0\n",
    "    for i in result:\n",
    "        if i[0]==2:\n",
    "            num=num+1\n",
    "    print(\"准确率:\",(num/len(result)))\n",
    "precisionRate2(SeriesResult2)"
   ]
  },
  {
   "cell_type": "markdown",
   "metadata": {},
   "source": [
    "#### 5.4 总体"
   ]
  },
  {
   "cell_type": "code",
   "execution_count": 21,
   "metadata": {},
   "outputs": [],
   "source": [
    "# 总体预测和真实结果\n",
    "def resultValue():\n",
    "    Result_all_pre=[]\n",
    "    Result_all_true=[]\n",
    "    # 正常预测\n",
    "    for i in SeriesResult:\n",
    "        Result_all_pre.append(i[0])\n",
    "        Result_all_true.append(0)\n",
    "\n",
    "    # 内存泄漏预测\n",
    "    for i in SeriesResult1:\n",
    "        Result_all_pre.append(i[0])\n",
    "        Result_all_true.append(1)\n",
    "\n",
    "    # 中断预测    \n",
    "    for i in SeriesResult2:\n",
    "        Result_all_pre.append(i[0])\n",
    "        Result_all_true.append(2)\n",
    "    \n",
    "    return [Result_all_pre,Result_all_true]"
   ]
  },
  {
   "cell_type": "markdown",
   "metadata": {},
   "source": [
    "#### 5.4 总体"
   ]
  },
  {
   "cell_type": "code",
   "execution_count": 23,
   "metadata": {},
   "outputs": [],
   "source": [
    "from sklearn.metrics import classification_report"
   ]
  },
  {
   "cell_type": "code",
   "execution_count": 24,
   "metadata": {},
   "outputs": [],
   "source": [
    "from sklearn.metrics import classification_report"
   ]
  },
  {
   "cell_type": "code",
   "execution_count": 32,
   "metadata": {},
   "outputs": [
    {
     "name": "stdout",
     "output_type": "stream",
     "text": [
      "96\n",
      "accuracy: 0.125\n",
      "              precision    recall  f1-score   support\n",
      "\n",
      "           0       0.84      0.87      0.85        30\n",
      "           1       0.81      0.91      0.85        32\n",
      "           2       1.00      0.85      0.92        34\n",
      "\n",
      "    accuracy                           0.88        96\n",
      "   macro avg       0.88      0.88      0.88        96\n",
      "weighted avg       0.88      0.88      0.88        96\n",
      "\n"
     ]
    }
   ],
   "source": [
    "resultvalue = resultValue()\n",
    "print(len(resultvalue[0]))\n",
    "acc_num=0\n",
    "for i in range(0,12):\n",
    "    if(resultvalue[0][i]==resultvalue[1][i]):\n",
    "        acc_num=acc_num+1\n",
    "\n",
    "print(\"accuracy:\",acc_num/len(resultvalue[0]))\n",
    "\n",
    "print(classification_report(resultvalue[1], resultvalue[0], labels=[0, 1, 2]))"
   ]
  },
  {
   "cell_type": "code",
   "execution_count": null,
   "metadata": {},
   "outputs": [],
   "source": []
  }
 ],
 "metadata": {
  "kernelspec": {
   "display_name": "Python 3",
   "language": "python",
   "name": "python3"
  },
  "language_info": {
   "codemirror_mode": {
    "name": "ipython",
    "version": 3
   },
   "file_extension": ".py",
   "mimetype": "text/x-python",
   "name": "python",
   "nbconvert_exporter": "python",
   "pygments_lexer": "ipython3",
   "version": "3.6.2"
  }
 },
 "nbformat": 4,
 "nbformat_minor": 2
}
