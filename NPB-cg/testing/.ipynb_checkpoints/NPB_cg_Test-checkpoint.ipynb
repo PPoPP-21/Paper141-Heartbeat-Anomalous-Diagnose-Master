{
 "cells": [
  {
   "cell_type": "markdown",
   "metadata": {},
   "source": [
    "# Anomaly detection test|NPB_cg"
   ]
  },
  {
   "cell_type": "markdown",
   "metadata": {},
   "source": [
    "### Import library"
   ]
  },
  {
   "cell_type": "code",
   "execution_count": 1,
   "metadata": {},
   "outputs": [],
   "source": [
    "import numpy as np\n",
    "import matplotlib.pyplot as plt\n",
    "import pandas as pd\n",
    "import math\n",
    "from sklearn.metrics import r2_score\n",
    "import warnings\n",
    "warnings.filterwarnings('ignore')"
   ]
  },
  {
   "cell_type": "markdown",
   "metadata": {},
   "source": [
    "### Sequence alignment"
   ]
  },
  {
   "cell_type": "code",
   "execution_count": 2,
   "metadata": {},
   "outputs": [],
   "source": [
    "def caculateMse_R2(x,y,p):\n",
    "    y_pre = [p(i) for i in x]\n",
    "    score = r2_score(y, y_pre, multioutput='raw_values')\n",
    "    return score[0]\n",
    "\n",
    "def list_set(x,y):\n",
    "    list=[]\n",
    "    for i in range(0,len(x)):\n",
    "        list.append([x[i],y[i]])\n",
    "    return list\n",
    "\n",
    "def data_set_fix(list,x):\n",
    "    n=0;\n",
    "    data=0;\n",
    "    for i in range(0,len(list)):\n",
    "        if n==0:\n",
    "            if list[i][0]==x:\n",
    "                n=1\n",
    "                data=list[i][1]\n",
    "        else:\n",
    "            list[i][1]=data\n",
    "    \n",
    "    return list\n"
   ]
  },
  {
   "cell_type": "code",
   "execution_count": 3,
   "metadata": {},
   "outputs": [],
   "source": [
    "def align_data_singe(x,y,x1,n):\n",
    "    \n",
    "    while True:\n",
    "        coef = np.polyfit(x,y, n)\n",
    "        poly_fit = np.poly1d(coef)\n",
    "        R2 = caculateMse_R2(x,y,poly_fit)\n",
    "        if n>=19:\n",
    "            break\n",
    "        if R2>0.9:\n",
    "            break\n",
    "        else:\n",
    "            n=n+1 \n",
    "        \n",
    "    \n",
    "    data_set = list_set(x,y)\n",
    "    \n",
    "    for i in range(0,len(x1)):\n",
    "         data_set.append([x1[i],poly_fit(x1[i])])\n",
    "    \n",
    "    data_set.sort();\n",
    "    \n",
    "    return data_set\n",
    "    \n",
    "def align_data(x1,y1,x2,y2):\n",
    "    timeseries1 = align_data_singe(x1,y1,x2,6)\n",
    "    timeseries2 = align_data_singe(x2,y2,x1,6)\n",
    "    \n",
    "    if(len(x1)>len(x2)):\n",
    "        timeseries2 = data_set_fix(timeseries2,x2[-1])\n",
    "    else:\n",
    "        timeseries1 = data_set_fix(timeseries1,x1[-1])\n",
    "    \n",
    "    return timeseries1,timeseries2"
   ]
  },
  {
   "cell_type": "markdown",
   "metadata": {},
   "source": [
    "### Sequence attribute and feature evaluation algorithm"
   ]
  },
  {
   "cell_type": "code",
   "execution_count": 4,
   "metadata": {},
   "outputs": [],
   "source": [
    "def calculate_attenuate_weight(seqLen1, seqLen2, com_ls):\n",
    "    weight = 0\n",
    "    for comlen in com_ls:\n",
    "        weight = weight + comlen / seqLen1 * comlen / seqLen2\n",
    "    return 1 - weight\n",
    "\n",
    "def DTWDistance(s1, s2):\n",
    "    sdt = np.std(s1, ddof=1) if np.std(s1, ddof=1) > np.std(s2, ddof=1) else np.std(s2, ddof=1)\n",
    "    l1 = len(s1)\n",
    "    l2 = len(s2)\n",
    "    paths = np.full((l1 + 1, l2 + 1), np.inf)\n",
    "    sub_matrix = np.full((l1, l2), 0)\n",
    "    max_sub_len = 0\n",
    "\n",
    "    paths[0, 0] = 0\n",
    "    for i in range(l1):\n",
    "        for j in range(l2):\n",
    "            d = s1[i] - s2[j]\n",
    "            cost = d ** 2\n",
    "            paths[i + 1, j + 1] = cost + min(paths[i, j + 1], paths[i + 1, j], paths[i, j])\n",
    "            if np.abs(s1[i] - s2[j]) < sdt:\n",
    "                if i == 0 or j == 0:\n",
    "                    sub_matrix[i][j] = 1\n",
    "                else:\n",
    "                    sub_matrix[i][j] = sub_matrix[i - 1][j - 1] + 1\n",
    "                    max_sub_len = sub_matrix[i][j] if sub_matrix[i][j] > max_sub_len else max_sub_len\n",
    "\n",
    "    paths = np.sqrt(paths)\n",
    "    s = paths[l1, l2]\n",
    "\n",
    "    return s\n"
   ]
  },
  {
   "cell_type": "code",
   "execution_count": 5,
   "metadata": {},
   "outputs": [],
   "source": [
    "def LB_Keogh(s1,s2,r):\n",
    "    LB_sum=0\n",
    "    for ind,i in enumerate(s1):\n",
    "        \n",
    "        lower_bound=min(s2[(ind-r if ind-r>=0 else 0):(ind+r)])\n",
    "        upper_bound=max(s2[(ind-r if ind-r>=0 else 0):(ind+r)])\n",
    "        \n",
    "        if i>upper_bound:\n",
    "            LB_sum=LB_sum+(i-upper_bound)**2\n",
    "        elif i<lower_bound:\n",
    "            LB_sum=LB_sum+(i-lower_bound)**2\n",
    "    \n",
    "    return math.sqrt(LB_sum)"
   ]
  },
  {
   "cell_type": "code",
   "execution_count": 6,
   "metadata": {},
   "outputs": [],
   "source": [
    "def Dtw_LB_conter(data1,data2,r):\n",
    "    l=LB_Keogh(data1,data2,r)+DTWDistance(data1,data2)\n",
    "    return l/2\n",
    "\n",
    "def getMin(a,b):\n",
    "    if a<b:\n",
    "        return a\n",
    "    else:\n",
    "        return b"
   ]
  },
  {
   "cell_type": "code",
   "execution_count": 7,
   "metadata": {},
   "outputs": [],
   "source": [
    "def timeseries_score(s1,s2,w,r):\n",
    "    \n",
    "    time_s1_s2 = s2[0][len(s2[0])-1]/s1[0][len(s1[0])-1]\n",
    "    \n",
    "    time_sum=0;\n",
    "    for i in range(math.ceil(len(s1[0])/w)):\n",
    "        s1_time = sum(s1[0][i:i+w])\n",
    "        s2_time = sum(s2[0][i:i+w])\n",
    "        i=i+w\n",
    "        time_sum =time_sum + s2_time/s1_time    \n",
    "\n",
    "    time_sum = time_sum/math.ceil(len(s1[0])/w)\n",
    "    \n",
    "    heartbeat_s1 = (sum(s1[1])/len(s1[1]))\n",
    "    heartbeat_s1_s2 = sum(s2[1])/len(s2[1])/(sum(s1[1])/len(s1[1]))\n",
    "    \n",
    "    heartbeat_sum=0;\n",
    "    for i in range(math.ceil(len(s1[1])/w)):\n",
    "        s1_heartbeat = sum(s1[1][i:i+w])\n",
    "        s2_heartbeat = sum(s2[1][i:i+w])\n",
    "        i=i+w\n",
    "        heartbeat_sum =heartbeat_sum + s2_heartbeat/s1_heartbeat    \n",
    "\n",
    "    heartbeat_sum = heartbeat_sum/math.ceil(len(s1[1])/w)\n",
    "    \n",
    "    slope_sum=0;\n",
    "    for i in range(math.ceil(getMin(len(s1[1])/r,len(s2[1])/r))):\n",
    "        \n",
    "        k=i+r\n",
    "        if(k>len(s1[1])):\n",
    "            k=len(s1[1])  \n",
    "        \n",
    "        s1_slope = (s1[1][i]-s1[1][k])/(s1[0][i]-s1[0][k])\n",
    "        s2_slope = (s2[1][i]-s2[1][k])/(s2[0][i]-s2[0][k])\n",
    "        \n",
    "        i=i+r\n",
    "        slope_sum =slope_sum + abs(s2_slope/s1_slope)    \n",
    "\n",
    "    slope_sum = slope_sum/math.ceil(math.ceil(len(s1[1])/r))\n",
    "\n",
    "    return [time_s1_s2,time_sum,heartbeat_s1,heartbeat_s1_s2,heartbeat_sum,slope_sum]"
   ]
  },
  {
   "cell_type": "code",
   "execution_count": 8,
   "metadata": {},
   "outputs": [],
   "source": [
    "def similar_all(x1,y1,x2,y2,tS1,tS2):\n",
    "    x_p1 =[ tS1[i][0] for i in range(0,len(tS1))]\n",
    "    y_p1 =[ tS1[i][1] for i in range(0,len(tS1))]\n",
    "    x_p2 =[ tS2[i][0] for i in range(0,len(tS2))]\n",
    "    y_p2 =[ tS2[i][1] for i in range(0,len(tS2))]\n",
    "    \n",
    "    feature = timeseries_score([x1,y1],[x2,y2],20,5)\n",
    "    distent = Dtw_LB_conter(y_p1,y_p2,100)\n",
    "          \n",
    "    return feature,distent"
   ]
  },
  {
   "cell_type": "markdown",
   "metadata": {},
   "source": [
    "### Anomaly detection function"
   ]
  },
  {
   "cell_type": "code",
   "execution_count": 9,
   "metadata": {},
   "outputs": [],
   "source": [
    "min_time_standard = 0.845985\n",
    "max_time_standard = 1.127905\n",
    "min_hr_standard   = 0.939896\n",
    "max_hr_standard   = 1.240103\n",
    "\n",
    "def distent_check(h_distence):\n",
    "    h_standard = 210566249534.3\n",
    "    if h_distence<h_standard:\n",
    "        return 2;\n",
    "    else:\n",
    "        return 1;\n",
    "    \n",
    "\n",
    "def dataseries_check(feature):\n",
    "    \n",
    "    time_check={}\n",
    "    if feature[0]>min_time_standard*0.9 and feature[0]<max_time_standard*1.1:\n",
    "        time_check[0]=2\n",
    "    else:\n",
    "        time_check[0]=1\n",
    "    \n",
    "    if feature[0]/feature[1]>0.90:\n",
    "        time_check[1]=2\n",
    "    else:\n",
    "        time_check[1]=1\n",
    "    \n",
    "    heart={}\n",
    "    if feature[3]>min_hr_standard*0.9 and feature[3]<max_hr_standard*1.1 :\n",
    "        heart[0]=2\n",
    "    else:\n",
    "        heart[0]=1\n",
    "    \n",
    "    if feature[3]/feature[4]>0.90:\n",
    "        heart[1]=2\n",
    "    else:\n",
    "        heart[1]=1\n",
    "    \n",
    "    return [time_check,heart]"
   ]
  },
  {
   "cell_type": "code",
   "execution_count": 10,
   "metadata": {},
   "outputs": [],
   "source": [
    "def judge(feature):\n",
    "    \n",
    "    judge_distence = distent_check(feature[1])\n",
    "    judge_dataseries = dataseries_check(feature[0])\n",
    "    \n",
    "    assis=0;\n",
    "    check=0;\n",
    "    \n",
    "    print(\"judge_distence = \"+str(judge_distence))\n",
    "    print(judge_dataseries)\n",
    "    if(judge_distence==2):\n",
    "        t=0\n",
    "        print(\"judge_dataseries[0][0]:\"+str(judge_dataseries[0][0]))\n",
    "        print(\"feature[0][0]:\"+str(feature[0][0]))\n",
    "        print(\"min_time_standard:\"+str(min_time_standard))  \n",
    "        print(\"judge_dataseries[0][0]:\",judge_dataseries[0][0])\n",
    "        if judge_dataseries[0][0] == 1 and feature[0][0]<min_time_standard*0.9:\n",
    "            t=2\n",
    "            check=2\n",
    "            if judge_dataseries[0][1]==1:\n",
    "                assis=1;\n",
    "        print(\"feature[0][0] = \"+str(feature[0][0]))\n",
    "        if judge_dataseries[1][0]==1 and  t!=2 and feature[0][0]>max_time_standard*1.1:\n",
    "            check=1\n",
    "            if judge_dataseries[1][1]==1:\n",
    "                assis=1;\n",
    "    \n",
    "    elif judge_distence==1:\n",
    "        t=0\n",
    "        check=1\n",
    "        if judge_dataseries[0][0]==1 and feature[0][0]<min_time_standard*0.9:\n",
    "            check=2\n",
    "            t=2\n",
    "            if judge_dataseries[0][1]==1:\n",
    "                assis=1;\n",
    "        print(\"feature[0][0]:\"+str(feature[0][0]))\n",
    "        print(\"max_time_standard:\"+str(max_time_standard))  \n",
    "        if judge_dataseries[1][0]==1 and t!=2 and feature[0][0]>max_time_standard*1.1:\n",
    "            if t==1:\n",
    "                check=1\n",
    "            if judge_dataseries[1][1]==1:\n",
    "                assis=1;    \n",
    "    \n",
    "    if(check==0 and assis==0):\n",
    "        print(\"Normal：\",\"Two heartbeat sequences are highly consistent, and the thread status is normal.\")\n",
    "    elif(check==0 and assis==1):\n",
    "        print(\"Normal：\",\"Two heartbeat sequences have high consistency. The thread status is normal, yet the local oscillation is intense.\")\n",
    "    elif(check==1 and assis==0):\n",
    "        print(\"Memory leak：\",\"The heartbeat sequences of two threads have low consistency. The thread status is abnormal, and its status is memory leak.\")\n",
    "    elif(check==1 and assis==1):\n",
    "        print(\"Memory leak：\",\"The heartbeat sequences of two threads have low consistency. The thread status is abnormal, and its status is memory leak with intense local oscillation.\")    \n",
    "    elif(check==2 and assis==0):\n",
    "        print(\"Shutdown：\",\"The heartbeat sequences of two threads have low consistency. The thread status is abnormal, and its status is shutdown.\")\n",
    "    elif(check==2 and assis==1):\n",
    "        print(\"Shutdown：\",\"The heartbeat sequences of two threads have low consistency. The thread status is abnormal, and its status is shutdown with intense local oscillation.\")\n",
    "    return [check,assis]\n",
    "    "
   ]
  },
  {
   "cell_type": "markdown",
   "metadata": {},
   "source": [
    "### experiment"
   ]
  },
  {
   "cell_type": "markdown",
   "metadata": {},
   "source": [
    "#### Import Data"
   ]
  },
  {
   "cell_type": "code",
   "execution_count": 11,
   "metadata": {},
   "outputs": [],
   "source": [
    "data = pd.read_excel('./cg_std_normal_1.xlsx',hearder=None,sheet_name=None)\n",
    "# 数据x\n",
    "x = data['1']['time'].copy()[0:999]\n",
    "# 数据y\n",
    "y = data['1']['heartrate'].copy()[0:999]\n",
    "# 转成array\n",
    "x = np.array(x)\n",
    "y = np.array(y)"
   ]
  },
  {
   "cell_type": "code",
   "execution_count": 12,
   "metadata": {},
   "outputs": [
    {
     "data": {
      "text/plain": [
       "30"
      ]
     },
     "execution_count": 12,
     "metadata": {},
     "output_type": "execute_result"
    }
   ],
   "source": [
    "# sp正常数据\n",
    "normal = pd.read_excel('./data5_cg_string/cg_std_normal.xlsx',hearder=None,sheet_name=None)\n",
    "len(normal)"
   ]
  },
  {
   "cell_type": "code",
   "execution_count": 13,
   "metadata": {},
   "outputs": [
    {
     "name": "stderr",
     "output_type": "stream",
     "text": [
      "/home/wwd/anaconda3/lib/python3.7/site-packages/matplotlib/backends/backend_agg.py:211: RuntimeWarning: Glyph 27979 missing from current font.\n",
      "  font.set_text(s, 0.0, flags=flags)\n",
      "/home/wwd/anaconda3/lib/python3.7/site-packages/matplotlib/backends/backend_agg.py:211: RuntimeWarning: Glyph 35797 missing from current font.\n",
      "  font.set_text(s, 0.0, flags=flags)\n",
      "/home/wwd/anaconda3/lib/python3.7/site-packages/matplotlib/backends/backend_agg.py:211: RuntimeWarning: Glyph 24207 missing from current font.\n",
      "  font.set_text(s, 0.0, flags=flags)\n",
      "/home/wwd/anaconda3/lib/python3.7/site-packages/matplotlib/backends/backend_agg.py:211: RuntimeWarning: Glyph 21015 missing from current font.\n",
      "  font.set_text(s, 0.0, flags=flags)\n",
      "/home/wwd/anaconda3/lib/python3.7/site-packages/matplotlib/backends/backend_agg.py:180: RuntimeWarning: Glyph 27979 missing from current font.\n",
      "  font.set_text(s, 0, flags=flags)\n",
      "/home/wwd/anaconda3/lib/python3.7/site-packages/matplotlib/backends/backend_agg.py:180: RuntimeWarning: Glyph 35797 missing from current font.\n",
      "  font.set_text(s, 0, flags=flags)\n",
      "/home/wwd/anaconda3/lib/python3.7/site-packages/matplotlib/backends/backend_agg.py:180: RuntimeWarning: Glyph 24207 missing from current font.\n",
      "  font.set_text(s, 0, flags=flags)\n",
      "/home/wwd/anaconda3/lib/python3.7/site-packages/matplotlib/backends/backend_agg.py:180: RuntimeWarning: Glyph 21015 missing from current font.\n",
      "  font.set_text(s, 0, flags=flags)\n"
     ]
    },
    {
     "data": {
      "image/png": "[encoded data removed]",
      "text/plain": [
       "<Figure size 720x360 with 1 Axes>"
      ]
     },
     "metadata": {
      "needs_background": "light"
     },
     "output_type": "display_data"
    }
   ],
   "source": [
    "plt.figure(figsize=(10,5))\n",
    "data = pd.read_excel('./data5_cg_string/cg_std_abs.xlsx',hearder=None,sheet_name=None)\n",
    "k=1 \n",
    "for i in data: \n",
    "    x6 = data[i]['time'].copy()[0:999]\n",
    "    y6 = data[i]['heartrate'].copy()[0:999]\n",
    "    label_name = '测试序列'+str(k)\n",
    "    plt.plot(x6,y6,label=label_name)\n",
    "    k = k+1\n",
    "plt.xlabel('Time/us',fontsize=14)\n",
    "plt.ylabel('Hearrate/HZ',fontsize=14)\n",
    "plt.legend(loc=0,ncol=3,borderaxespad=0.5)   \n",
    "plt.show()"
   ]
  },
  {
   "cell_type": "markdown",
   "metadata": {},
   "source": [
    "#### 5.2 正常实验"
   ]
  },
  {
   "cell_type": "code",
   "execution_count": 14,
   "metadata": {
    "scrolled": true
   },
   "outputs": [
    {
     "name": "stdout",
     "output_type": "stream",
     "text": [
      "进行至序列号：1：\n",
      "judge_distence = 2\n",
      "[{0: 2, 1: 2}, {0: 2, 1: 2}]\n",
      "judge_dataseries[0][0]:2\n",
      "feature[0][0]1.0\n",
      "min_time_standard0.845985\n",
      "judge_dataseries[0][0] 2\n",
      "feature[0][0] = 1.0\n",
      "正常： 两线程序列吻合度高，线程状态正常\n",
      "进行至序列号：2：\n",
      "judge_distence = 2\n",
      "[{0: 1, 1: 2}, {0: 2, 1: 2}]\n",
      "judge_dataseries[0][0]:1\n",
      "feature[0][0]0.7505942142345142\n",
      "min_time_standard0.845985\n",
      "judge_dataseries[0][0] 1\n",
      "feature[0][0] = 0.7505942142345142\n",
      "中断： 两线程序列吻合度低，线程状态异常，为中断执行\n",
      "进行至序列号：3：\n"
     ]
    },
    {
     "name": "stderr",
     "output_type": "stream",
     "text": [
      "/home/wwd/anaconda3/lib/python3.7/site-packages/ipykernel_launcher.py:38: RankWarning: Polyfit may be poorly conditioned\n",
      "/home/wwd/anaconda3/lib/python3.7/site-packages/ipykernel_launcher.py:38: RankWarning: Polyfit may be poorly conditioned\n"
     ]
    },
    {
     "name": "stdout",
     "output_type": "stream",
     "text": [
      "judge_distence = 2\n",
      "[{0: 2, 1: 2}, {0: 2, 1: 2}]\n",
      "judge_dataseries[0][0]:2\n",
      "feature[0][0]0.7708499507273218\n",
      "min_time_standard0.845985\n",
      "judge_dataseries[0][0] 2\n",
      "feature[0][0] = 0.7708499507273218\n",
      "正常： 两线程序列吻合度高，线程状态正常\n",
      "进行至序列号：4：\n",
      "judge_distence = 2\n",
      "[{0: 2, 1: 2}, {0: 2, 1: 2}]\n",
      "judge_dataseries[0][0]:2\n",
      "feature[0][0]0.9942388411351379\n",
      "min_time_standard0.845985\n",
      "judge_dataseries[0][0] 2\n",
      "feature[0][0] = 0.9942388411351379\n",
      "正常： 两线程序列吻合度高，线程状态正常\n",
      "进行至序列号：5：\n",
      "judge_distence = 2\n",
      "[{0: 2, 1: 2}, {0: 2, 1: 2}]\n",
      "judge_dataseries[0][0]:2\n",
      "feature[0][0]0.7680604573978558\n",
      "min_time_standard0.845985\n",
      "judge_dataseries[0][0] 2\n",
      "feature[0][0] = 0.7680604573978558\n",
      "正常： 两线程序列吻合度高，线程状态正常\n",
      "进行至序列号：6：\n",
      "judge_distence = 2\n",
      "[{0: 2, 1: 2}, {0: 2, 1: 2}]\n",
      "judge_dataseries[0][0]:2\n",
      "feature[0][0]0.8872420911110662\n",
      "min_time_standard0.845985\n",
      "judge_dataseries[0][0] 2\n",
      "feature[0][0] = 0.8872420911110662\n",
      "正常： 两线程序列吻合度高，线程状态正常\n",
      "进行至序列号：7：\n",
      "judge_distence = 2\n",
      "[{0: 2, 1: 2}, {0: 2, 1: 2}]\n",
      "judge_dataseries[0][0]:2\n",
      "feature[0][0]0.7715529333588513\n",
      "min_time_standard0.845985\n",
      "judge_dataseries[0][0] 2\n",
      "feature[0][0] = 0.7715529333588513\n",
      "正常： 两线程序列吻合度高，线程状态正常\n",
      "进行至序列号：8：\n",
      "judge_distence = 2\n",
      "[{0: 2, 1: 2}, {0: 2, 1: 2}]\n",
      "judge_dataseries[0][0]:2\n",
      "feature[0][0]0.890597863622261\n",
      "min_time_standard0.845985\n",
      "judge_dataseries[0][0] 2\n",
      "feature[0][0] = 0.890597863622261\n",
      "正常： 两线程序列吻合度高，线程状态正常\n",
      "进行至序列号：9：\n",
      "judge_distence = 2\n",
      "[{0: 2, 1: 2}, {0: 2, 1: 2}]\n",
      "judge_dataseries[0][0]:2\n",
      "feature[0][0]1.0007252712374752\n",
      "min_time_standard0.845985\n",
      "judge_dataseries[0][0] 2\n",
      "feature[0][0] = 1.0007252712374752\n",
      "正常： 两线程序列吻合度高，线程状态正常\n",
      "进行至序列号：10：\n"
     ]
    },
    {
     "name": "stderr",
     "output_type": "stream",
     "text": [
      "/home/wwd/anaconda3/lib/python3.7/site-packages/ipykernel_launcher.py:38: RankWarning: Polyfit may be poorly conditioned\n",
      "/home/wwd/anaconda3/lib/python3.7/site-packages/ipykernel_launcher.py:38: RankWarning: Polyfit may be poorly conditioned\n"
     ]
    },
    {
     "name": "stdout",
     "output_type": "stream",
     "text": [
      "judge_distence = 2\n",
      "[{0: 2, 1: 2}, {0: 2, 1: 2}]\n",
      "judge_dataseries[0][0]:2\n",
      "feature[0][0]0.7625606695853844\n",
      "min_time_standard0.845985\n",
      "judge_dataseries[0][0] 2\n",
      "feature[0][0] = 0.7625606695853844\n",
      "正常： 两线程序列吻合度高，线程状态正常\n",
      "进行至序列号：11：\n"
     ]
    },
    {
     "name": "stderr",
     "output_type": "stream",
     "text": [
      "/home/wwd/anaconda3/lib/python3.7/site-packages/ipykernel_launcher.py:38: RankWarning: Polyfit may be poorly conditioned\n",
      "/home/wwd/anaconda3/lib/python3.7/site-packages/ipykernel_launcher.py:38: RankWarning: Polyfit may be poorly conditioned\n"
     ]
    },
    {
     "name": "stdout",
     "output_type": "stream",
     "text": [
      "judge_distence = 2\n",
      "[{0: 2, 1: 2}, {0: 2, 1: 2}]\n",
      "judge_dataseries[0][0]:2\n",
      "feature[0][0]0.9308172072792804\n",
      "min_time_standard0.845985\n",
      "judge_dataseries[0][0] 2\n",
      "feature[0][0] = 0.9308172072792804\n",
      "正常： 两线程序列吻合度高，线程状态正常\n",
      "进行至序列号：12：\n",
      "judge_distence = 2\n",
      "[{0: 2, 1: 2}, {0: 2, 1: 2}]\n",
      "judge_dataseries[0][0]:2\n",
      "feature[0][0]0.9401452860489969\n",
      "min_time_standard0.845985\n",
      "judge_dataseries[0][0] 2\n",
      "feature[0][0] = 0.9401452860489969\n",
      "正常： 两线程序列吻合度高，线程状态正常\n",
      "进行至序列号：13：\n",
      "judge_distence = 2\n",
      "[{0: 2, 1: 2}, {0: 2, 1: 2}]\n",
      "judge_dataseries[0][0]:2\n",
      "feature[0][0]0.8494333344824347\n",
      "min_time_standard0.845985\n",
      "judge_dataseries[0][0] 2\n",
      "feature[0][0] = 0.8494333344824347\n",
      "正常： 两线程序列吻合度高，线程状态正常\n",
      "进行至序列号：14：\n"
     ]
    },
    {
     "name": "stderr",
     "output_type": "stream",
     "text": [
      "/home/wwd/anaconda3/lib/python3.7/site-packages/ipykernel_launcher.py:38: RankWarning: Polyfit may be poorly conditioned\n",
      "/home/wwd/anaconda3/lib/python3.7/site-packages/ipykernel_launcher.py:38: RankWarning: Polyfit may be poorly conditioned\n"
     ]
    },
    {
     "name": "stdout",
     "output_type": "stream",
     "text": [
      "judge_distence = 2\n",
      "[{0: 2, 1: 2}, {0: 2, 1: 2}]\n",
      "judge_dataseries[0][0]:2\n",
      "feature[0][0]0.8406068979372043\n",
      "min_time_standard0.845985\n",
      "judge_dataseries[0][0] 2\n",
      "feature[0][0] = 0.8406068979372043\n",
      "正常： 两线程序列吻合度高，线程状态正常\n",
      "进行至序列号：15：\n",
      "judge_distence = 2\n",
      "[{0: 2, 1: 2}, {0: 2, 1: 2}]\n",
      "judge_dataseries[0][0]:2\n",
      "feature[0][0]0.8801590693229138\n",
      "min_time_standard0.845985\n",
      "judge_dataseries[0][0] 2\n",
      "feature[0][0] = 0.8801590693229138\n",
      "正常： 两线程序列吻合度高，线程状态正常\n",
      "进行至序列号：16：\n"
     ]
    },
    {
     "name": "stderr",
     "output_type": "stream",
     "text": [
      "/home/wwd/anaconda3/lib/python3.7/site-packages/ipykernel_launcher.py:38: RankWarning: Polyfit may be poorly conditioned\n",
      "/home/wwd/anaconda3/lib/python3.7/site-packages/ipykernel_launcher.py:38: RankWarning: Polyfit may be poorly conditioned\n"
     ]
    },
    {
     "name": "stdout",
     "output_type": "stream",
     "text": [
      "judge_distence = 2\n",
      "[{0: 2, 1: 2}, {0: 2, 1: 2}]\n",
      "judge_dataseries[0][0]:2\n",
      "feature[0][0]0.7819061394113669\n",
      "min_time_standard0.845985\n",
      "judge_dataseries[0][0] 2\n",
      "feature[0][0] = 0.7819061394113669\n",
      "正常： 两线程序列吻合度高，线程状态正常\n",
      "进行至序列号：17：\n",
      "judge_distence = 2\n",
      "[{0: 2, 1: 2}, {0: 2, 1: 2}]\n",
      "judge_dataseries[0][0]:2\n",
      "feature[0][0]0.7697878243586528\n",
      "min_time_standard0.845985\n",
      "judge_dataseries[0][0] 2\n",
      "feature[0][0] = 0.7697878243586528\n",
      "正常： 两线程序列吻合度高，线程状态正常\n",
      "进行至序列号：18：\n"
     ]
    },
    {
     "name": "stderr",
     "output_type": "stream",
     "text": [
      "/home/wwd/anaconda3/lib/python3.7/site-packages/ipykernel_launcher.py:38: RankWarning: Polyfit may be poorly conditioned\n",
      "/home/wwd/anaconda3/lib/python3.7/site-packages/ipykernel_launcher.py:38: RankWarning: Polyfit may be poorly conditioned\n"
     ]
    },
    {
     "name": "stdout",
     "output_type": "stream",
     "text": [
      "judge_distence = 2\n",
      "[{0: 2, 1: 2}, {0: 2, 1: 2}]\n",
      "judge_dataseries[0][0]:2\n",
      "feature[0][0]0.7673611895339839\n",
      "min_time_standard0.845985\n",
      "judge_dataseries[0][0] 2\n",
      "feature[0][0] = 0.7673611895339839\n",
      "正常： 两线程序列吻合度高，线程状态正常\n",
      "进行至序列号：19：\n"
     ]
    },
    {
     "name": "stderr",
     "output_type": "stream",
     "text": [
      "/home/wwd/anaconda3/lib/python3.7/site-packages/ipykernel_launcher.py:38: RankWarning: Polyfit may be poorly conditioned\n",
      "/home/wwd/anaconda3/lib/python3.7/site-packages/ipykernel_launcher.py:38: RankWarning: Polyfit may be poorly conditioned\n"
     ]
    },
    {
     "name": "stdout",
     "output_type": "stream",
     "text": [
      "judge_distence = 2\n",
      "[{0: 2, 1: 2}, {0: 2, 1: 2}]\n",
      "judge_dataseries[0][0]:2\n",
      "feature[0][0]0.7905674916818922\n",
      "min_time_standard0.845985\n",
      "judge_dataseries[0][0] 2\n",
      "feature[0][0] = 0.7905674916818922\n",
      "正常： 两线程序列吻合度高，线程状态正常\n",
      "进行至序列号：20：\n",
      "judge_distence = 2\n",
      "[{0: 2, 1: 2}, {0: 2, 1: 2}]\n",
      "judge_dataseries[0][0]:2\n",
      "feature[0][0]0.8364298645922612\n",
      "min_time_standard0.845985\n",
      "judge_dataseries[0][0] 2\n",
      "feature[0][0] = 0.8364298645922612\n",
      "正常： 两线程序列吻合度高，线程状态正常\n",
      "进行至序列号：21：\n",
      "judge_distence = 2\n",
      "[{0: 2, 1: 2}, {0: 2, 1: 2}]\n",
      "judge_dataseries[0][0]:2\n",
      "feature[0][0]0.7879895915182047\n",
      "min_time_standard0.845985\n",
      "judge_dataseries[0][0] 2\n",
      "feature[0][0] = 0.7879895915182047\n",
      "正常： 两线程序列吻合度高，线程状态正常\n",
      "进行至序列号：22：\n",
      "judge_distence = 2\n",
      "[{0: 2, 1: 2}, {0: 2, 1: 2}]\n",
      "judge_dataseries[0][0]:2\n",
      "feature[0][0]1.01236378689953\n",
      "min_time_standard0.845985\n",
      "judge_dataseries[0][0] 2\n",
      "feature[0][0] = 1.01236378689953\n",
      "正常： 两线程序列吻合度高，线程状态正常\n",
      "进行至序列号：23：\n",
      "judge_distence = 2\n",
      "[{0: 2, 1: 2}, {0: 2, 1: 2}]\n",
      "judge_dataseries[0][0]:2\n",
      "feature[0][0]0.9975289365541459\n",
      "min_time_standard0.845985\n",
      "judge_dataseries[0][0] 2\n",
      "feature[0][0] = 0.9975289365541459\n",
      "正常： 两线程序列吻合度高，线程状态正常\n",
      "进行至序列号：24：\n"
     ]
    },
    {
     "name": "stderr",
     "output_type": "stream",
     "text": [
      "/home/wwd/anaconda3/lib/python3.7/site-packages/ipykernel_launcher.py:38: RankWarning: Polyfit may be poorly conditioned\n",
      "/home/wwd/anaconda3/lib/python3.7/site-packages/ipykernel_launcher.py:38: RankWarning: Polyfit may be poorly conditioned\n"
     ]
    },
    {
     "name": "stdout",
     "output_type": "stream",
     "text": [
      "judge_distence = 2\n",
      "[{0: 2, 1: 2}, {0: 2, 1: 2}]\n",
      "judge_dataseries[0][0]:2\n",
      "feature[0][0]0.856401347063907\n",
      "min_time_standard0.845985\n",
      "judge_dataseries[0][0] 2\n",
      "feature[0][0] = 0.856401347063907\n",
      "正常： 两线程序列吻合度高，线程状态正常\n",
      "进行至序列号：25：\n",
      "judge_distence = 2\n",
      "[{0: 2, 1: 2}, {0: 2, 1: 2}]\n",
      "judge_dataseries[0][0]:2\n",
      "feature[0][0]1.081233647592771\n",
      "min_time_standard0.845985\n",
      "judge_dataseries[0][0] 2\n",
      "feature[0][0] = 1.081233647592771\n",
      "正常： 两线程序列吻合度高，线程状态正常\n",
      "进行至序列号：26：\n",
      "judge_distence = 2\n",
      "[{0: 2, 1: 2}, {0: 2, 1: 2}]\n",
      "judge_dataseries[0][0]:2\n",
      "feature[0][0]0.9106430470842343\n",
      "min_time_standard0.845985\n",
      "judge_dataseries[0][0] 2\n",
      "feature[0][0] = 0.9106430470842343\n",
      "正常： 两线程序列吻合度高，线程状态正常\n",
      "进行至序列号：27：\n"
     ]
    },
    {
     "name": "stderr",
     "output_type": "stream",
     "text": [
      "/home/wwd/anaconda3/lib/python3.7/site-packages/ipykernel_launcher.py:38: RankWarning: Polyfit may be poorly conditioned\n",
      "/home/wwd/anaconda3/lib/python3.7/site-packages/ipykernel_launcher.py:38: RankWarning: Polyfit may be poorly conditioned\n"
     ]
    },
    {
     "name": "stdout",
     "output_type": "stream",
     "text": [
      "judge_distence = 2\n",
      "[{0: 2, 1: 1}, {0: 2, 1: 2}]\n",
      "judge_dataseries[0][0]:2\n",
      "feature[0][0]0.8921213641340074\n",
      "min_time_standard0.845985\n",
      "judge_dataseries[0][0] 2\n",
      "feature[0][0] = 0.8921213641340074\n",
      "正常： 两线程序列吻合度高，线程状态正常\n",
      "进行至序列号：28：\n"
     ]
    },
    {
     "name": "stderr",
     "output_type": "stream",
     "text": [
      "/home/wwd/anaconda3/lib/python3.7/site-packages/ipykernel_launcher.py:38: RankWarning: Polyfit may be poorly conditioned\n",
      "/home/wwd/anaconda3/lib/python3.7/site-packages/ipykernel_launcher.py:38: RankWarning: Polyfit may be poorly conditioned\n"
     ]
    },
    {
     "name": "stdout",
     "output_type": "stream",
     "text": [
      "judge_distence = 2\n",
      "[{0: 2, 1: 1}, {0: 2, 1: 2}]\n",
      "judge_dataseries[0][0]:2\n",
      "feature[0][0]0.8232761694980131\n",
      "min_time_standard0.845985\n",
      "judge_dataseries[0][0] 2\n",
      "feature[0][0] = 0.8232761694980131\n",
      "正常： 两线程序列吻合度高，线程状态正常\n",
      "进行至序列号：29：\n"
     ]
    },
    {
     "name": "stderr",
     "output_type": "stream",
     "text": [
      "/home/wwd/anaconda3/lib/python3.7/site-packages/ipykernel_launcher.py:38: RankWarning: Polyfit may be poorly conditioned\n",
      "/home/wwd/anaconda3/lib/python3.7/site-packages/ipykernel_launcher.py:38: RankWarning: Polyfit may be poorly conditioned\n"
     ]
    },
    {
     "name": "stdout",
     "output_type": "stream",
     "text": [
      "judge_distence = 2\n",
      "[{0: 2, 1: 2}, {0: 2, 1: 2}]\n",
      "judge_dataseries[0][0]:2\n",
      "feature[0][0]1.0699826564927601\n",
      "min_time_standard0.845985\n",
      "judge_dataseries[0][0] 2\n",
      "feature[0][0] = 1.0699826564927601\n",
      "正常： 两线程序列吻合度高，线程状态正常\n",
      "进行至序列号：30：\n"
     ]
    },
    {
     "name": "stderr",
     "output_type": "stream",
     "text": [
      "/home/wwd/anaconda3/lib/python3.7/site-packages/ipykernel_launcher.py:38: RankWarning: Polyfit may be poorly conditioned\n",
      "/home/wwd/anaconda3/lib/python3.7/site-packages/ipykernel_launcher.py:38: RankWarning: Polyfit may be poorly conditioned\n"
     ]
    },
    {
     "name": "stdout",
     "output_type": "stream",
     "text": [
      "judge_distence = 2\n",
      "[{0: 2, 1: 1}, {0: 2, 1: 2}]\n",
      "judge_dataseries[0][0]:2\n",
      "feature[0][0]0.8375734186679854\n",
      "min_time_standard0.845985\n",
      "judge_dataseries[0][0] 2\n",
      "feature[0][0] = 0.8375734186679854\n",
      "正常： 两线程序列吻合度高，线程状态正常\n"
     ]
    }
   ],
   "source": [
    "# 正常测试实验\n",
    "\n",
    "# 序列特征\n",
    "SeriesFeature=[]\n",
    "# 序列结果\n",
    "SeriesResult=[]\n",
    "\n",
    "def normal_lab():\n",
    "    \n",
    "    for i in normal:\n",
    "        title_times = \"进行至序列号：\"+str(i)+\"：\"\n",
    "        print(title_times)\n",
    "        x2 = normal[i]['time'].copy()[0:999]\n",
    "        y2 = normal[i]['heartrate'].copy()[0:999]\n",
    "        x2 = np.array(x2)\n",
    "        y2 = np.array(y2)\n",
    "        timeSeries1,timeSeries2 = align_data(x,y,x2,y2)\n",
    "\n",
    "        feature = similar_all(x,y,x2,y2,timeSeries1,timeSeries2)\n",
    "\n",
    "        SeriesFeature.append(feature)\n",
    "        \n",
    "        check=judge(feature)\n",
    "        \n",
    "        SeriesResult.append(check)\n",
    "    \n",
    "normal_lab()"
   ]
  },
  {
   "cell_type": "code",
   "execution_count": 15,
   "metadata": {},
   "outputs": [
    {
     "name": "stdout",
     "output_type": "stream",
     "text": [
      "准确率: 1.0\n"
     ]
    }
   ],
   "source": [
    "def precisionRate(result):\n",
    "    num=0\n",
    "    for i in result:\n",
    "        if i[0]==1:\n",
    "            num=num+1\n",
    "    print(\"准确率:\",(len(result)-num)/len(result))\n",
    "precisionRate(SeriesResult) "
   ]
  },
  {
   "cell_type": "markdown",
   "metadata": {},
   "source": [
    "#### 5.3、内存泄漏检查试验"
   ]
  },
  {
   "cell_type": "code",
   "execution_count": 16,
   "metadata": {},
   "outputs": [
    {
     "data": {
      "text/plain": [
       "30"
      ]
     },
     "execution_count": 16,
     "metadata": {},
     "output_type": "execute_result"
    }
   ],
   "source": [
    "# sp泄露数据\n",
    "abnormal = pd.read_excel('./data5_cg_string/cg_std_abs.xlsx',hearder=None,sheet_name=None)\n",
    "len(abnormal)"
   ]
  },
  {
   "cell_type": "code",
   "execution_count": 17,
   "metadata": {},
   "outputs": [
    {
     "name": "stderr",
     "output_type": "stream",
     "text": [
      "/home/wwd/anaconda3/lib/python3.7/site-packages/matplotlib/backends/backend_agg.py:211: RuntimeWarning: Glyph 27979 missing from current font.\n",
      "  font.set_text(s, 0.0, flags=flags)\n",
      "/home/wwd/anaconda3/lib/python3.7/site-packages/matplotlib/backends/backend_agg.py:211: RuntimeWarning: Glyph 35797 missing from current font.\n",
      "  font.set_text(s, 0.0, flags=flags)\n",
      "/home/wwd/anaconda3/lib/python3.7/site-packages/matplotlib/backends/backend_agg.py:211: RuntimeWarning: Glyph 24207 missing from current font.\n",
      "  font.set_text(s, 0.0, flags=flags)\n",
      "/home/wwd/anaconda3/lib/python3.7/site-packages/matplotlib/backends/backend_agg.py:211: RuntimeWarning: Glyph 21015 missing from current font.\n",
      "  font.set_text(s, 0.0, flags=flags)\n",
      "/home/wwd/anaconda3/lib/python3.7/site-packages/matplotlib/backends/backend_agg.py:180: RuntimeWarning: Glyph 27979 missing from current font.\n",
      "  font.set_text(s, 0, flags=flags)\n",
      "/home/wwd/anaconda3/lib/python3.7/site-packages/matplotlib/backends/backend_agg.py:180: RuntimeWarning: Glyph 35797 missing from current font.\n",
      "  font.set_text(s, 0, flags=flags)\n",
      "/home/wwd/anaconda3/lib/python3.7/site-packages/matplotlib/backends/backend_agg.py:180: RuntimeWarning: Glyph 24207 missing from current font.\n",
      "  font.set_text(s, 0, flags=flags)\n",
      "/home/wwd/anaconda3/lib/python3.7/site-packages/matplotlib/backends/backend_agg.py:180: RuntimeWarning: Glyph 21015 missing from current font.\n",
      "  font.set_text(s, 0, flags=flags)\n"
     ]
    },
    {
     "data": {
      "image/png": "[encoded data removed]",
      "text/plain": [
       "<Figure size 720x360 with 1 Axes>"
      ]
     },
     "metadata": {
      "needs_background": "light"
     },
     "output_type": "display_data"
    }
   ],
   "source": [
    "plt.figure(figsize=(10,5))\n",
    "data = pd.read_excel('./data5_cg_string/cg_std_abs.xlsx',hearder=None,sheet_name=None)\n",
    "k=1 \n",
    "for i in data: \n",
    "    x6 = data[i]['time'].copy()[0:999]\n",
    "    y6 = data[i]['heartrate'].copy()[0:999]\n",
    "    label_name = '测试序列'+str(k)\n",
    "    plt.plot(x6,y6,label=label_name)\n",
    "    k = k+1\n",
    "plt.xlabel('Time/us',fontsize=14)\n",
    "plt.ylabel('Hearrate/HZ',fontsize=14)\n",
    "plt.legend(loc=0,ncol=3,borderaxespad=0.5)   \n",
    "plt.show()"
   ]
  },
  {
   "cell_type": "code",
   "execution_count": 18,
   "metadata": {
    "scrolled": false
   },
   "outputs": [
    {
     "name": "stdout",
     "output_type": "stream",
     "text": [
      "进行至序列号：2_1：\n"
     ]
    },
    {
     "name": "stderr",
     "output_type": "stream",
     "text": [
      "/home/wwd/anaconda3/lib/python3.7/site-packages/ipykernel_launcher.py:38: RankWarning: Polyfit may be poorly conditioned\n",
      "/home/wwd/anaconda3/lib/python3.7/site-packages/ipykernel_launcher.py:38: RankWarning: Polyfit may be poorly conditioned\n"
     ]
    },
    {
     "name": "stdout",
     "output_type": "stream",
     "text": [
      "judge_distence = 1\n",
      "[{0: 1, 1: 2}, {0: 1, 1: 1}]\n",
      "feature[0][0]6.915377444168528\n",
      "max_time_standard1.127905\n",
      "内存泄漏： 两线程序列吻合度低，线程状态异常，为内存泄漏,且线程局部震荡较严重\n",
      "进行至序列号：2_2：\n",
      "judge_distence = 1\n",
      "[{0: 1, 1: 2}, {0: 1, 1: 1}]\n",
      "feature[0][0]10.053402162529704\n",
      "max_time_standard1.127905\n",
      "内存泄漏： 两线程序列吻合度低，线程状态异常，为内存泄漏,且线程局部震荡较严重\n",
      "进行至序列号：2_3：\n",
      "judge_distence = 1\n",
      "[{0: 1, 1: 2}, {0: 1, 1: 1}]\n",
      "feature[0][0]9.925776118977172\n",
      "max_time_standard1.127905\n",
      "内存泄漏： 两线程序列吻合度低，线程状态异常，为内存泄漏,且线程局部震荡较严重\n",
      "进行至序列号：2_4：\n",
      "judge_distence = 1\n",
      "[{0: 1, 1: 2}, {0: 1, 1: 1}]\n",
      "feature[0][0]9.957495182689302\n",
      "max_time_standard1.127905\n",
      "内存泄漏： 两线程序列吻合度低，线程状态异常，为内存泄漏,且线程局部震荡较严重\n",
      "进行至序列号：2_5：\n",
      "judge_distence = 1\n",
      "[{0: 1, 1: 2}, {0: 1, 1: 1}]\n",
      "feature[0][0]7.634646360062622\n",
      "max_time_standard1.127905\n",
      "内存泄漏： 两线程序列吻合度低，线程状态异常，为内存泄漏,且线程局部震荡较严重\n",
      "进行至序列号：2_6：\n",
      "judge_distence = 1\n",
      "[{0: 1, 1: 2}, {0: 1, 1: 1}]\n",
      "feature[0][0]10.535737550773444\n",
      "max_time_standard1.127905\n",
      "内存泄漏： 两线程序列吻合度低，线程状态异常，为内存泄漏,且线程局部震荡较严重\n",
      "进行至序列号：2_7：\n",
      "judge_distence = 2\n",
      "[{0: 2, 1: 1}, {0: 1, 1: 2}]\n",
      "judge_dataseries[0][0]:2\n",
      "feature[0][0]1.1723160357901519\n",
      "min_time_standard0.845985\n",
      "judge_dataseries[0][0] 2\n",
      "feature[0][0] = 1.1723160357901519\n",
      "正常： 两线程序列吻合度高，线程状态正常\n",
      "进行至序列号：2_8：\n",
      "judge_distence = 1\n",
      "[{0: 1, 1: 2}, {0: 1, 1: 1}]\n",
      "feature[0][0]10.389440639201556\n",
      "max_time_standard1.127905\n",
      "内存泄漏： 两线程序列吻合度低，线程状态异常，为内存泄漏,且线程局部震荡较严重\n",
      "进行至序列号：2_9：\n"
     ]
    },
    {
     "name": "stderr",
     "output_type": "stream",
     "text": [
      "/home/wwd/anaconda3/lib/python3.7/site-packages/ipykernel_launcher.py:38: RankWarning: Polyfit may be poorly conditioned\n",
      "/home/wwd/anaconda3/lib/python3.7/site-packages/ipykernel_launcher.py:38: RankWarning: Polyfit may be poorly conditioned\n"
     ]
    },
    {
     "name": "stdout",
     "output_type": "stream",
     "text": [
      "judge_distence = 1\n",
      "[{0: 1, 1: 2}, {0: 1, 1: 2}]\n",
      "feature[0][0]6.282854148117593\n",
      "max_time_standard1.127905\n",
      "内存泄漏： 两线程序列吻合度低，线程状态异常，为内存泄漏\n",
      "进行至序列号：2_10：\n",
      "judge_distence = 1\n",
      "[{0: 1, 1: 2}, {0: 1, 1: 1}]\n",
      "feature[0][0]10.512463639854166\n",
      "max_time_standard1.127905\n",
      "内存泄漏： 两线程序列吻合度低，线程状态异常，为内存泄漏,且线程局部震荡较严重\n",
      "进行至序列号：2_11：\n",
      "judge_distence = 1\n",
      "[{0: 1, 1: 2}, {0: 1, 1: 1}]\n",
      "feature[0][0]10.483576269232096\n",
      "max_time_standard1.127905\n",
      "内存泄漏： 两线程序列吻合度低，线程状态异常，为内存泄漏,且线程局部震荡较严重\n",
      "进行至序列号：2_12：\n",
      "judge_distence = 1\n",
      "[{0: 1, 1: 2}, {0: 1, 1: 1}]\n",
      "feature[0][0]10.329007907403026\n",
      "max_time_standard1.127905\n",
      "内存泄漏： 两线程序列吻合度低，线程状态异常，为内存泄漏,且线程局部震荡较严重\n",
      "进行至序列号：2_13：\n"
     ]
    },
    {
     "name": "stderr",
     "output_type": "stream",
     "text": [
      "/home/wwd/anaconda3/lib/python3.7/site-packages/ipykernel_launcher.py:38: RankWarning: Polyfit may be poorly conditioned\n",
      "/home/wwd/anaconda3/lib/python3.7/site-packages/ipykernel_launcher.py:38: RankWarning: Polyfit may be poorly conditioned\n"
     ]
    },
    {
     "name": "stdout",
     "output_type": "stream",
     "text": [
      "judge_distence = 2\n",
      "[{0: 2, 1: 1}, {0: 2, 1: 2}]\n",
      "judge_dataseries[0][0]:2\n",
      "feature[0][0]0.9583813776617053\n",
      "min_time_standard0.845985\n",
      "judge_dataseries[0][0] 2\n",
      "feature[0][0] = 0.9583813776617053\n",
      "正常： 两线程序列吻合度高，线程状态正常\n",
      "进行至序列号：2_14：\n",
      "judge_distence = 1\n",
      "[{0: 1, 1: 2}, {0: 1, 1: 1}]\n",
      "feature[0][0]9.616591103339488\n",
      "max_time_standard1.127905\n",
      "内存泄漏： 两线程序列吻合度低，线程状态异常，为内存泄漏,且线程局部震荡较严重\n",
      "进行至序列号：2_15：\n"
     ]
    },
    {
     "name": "stderr",
     "output_type": "stream",
     "text": [
      "/home/wwd/anaconda3/lib/python3.7/site-packages/ipykernel_launcher.py:38: RankWarning: Polyfit may be poorly conditioned\n",
      "/home/wwd/anaconda3/lib/python3.7/site-packages/ipykernel_launcher.py:38: RankWarning: Polyfit may be poorly conditioned\n"
     ]
    },
    {
     "name": "stdout",
     "output_type": "stream",
     "text": [
      "judge_distence = 2\n",
      "[{0: 2, 1: 1}, {0: 2, 1: 2}]\n",
      "judge_dataseries[0][0]:2\n",
      "feature[0][0]0.9619173906996482\n",
      "min_time_standard0.845985\n",
      "judge_dataseries[0][0] 2\n",
      "feature[0][0] = 0.9619173906996482\n",
      "正常： 两线程序列吻合度高，线程状态正常\n",
      "进行至序列号：2_16：\n",
      "judge_distence = 1\n",
      "[{0: 1, 1: 2}, {0: 1, 1: 1}]\n",
      "feature[0][0]9.651587335079174\n",
      "max_time_standard1.127905\n",
      "内存泄漏： 两线程序列吻合度低，线程状态异常，为内存泄漏,且线程局部震荡较严重\n",
      "进行至序列号：2_17：\n"
     ]
    },
    {
     "name": "stderr",
     "output_type": "stream",
     "text": [
      "/home/wwd/anaconda3/lib/python3.7/site-packages/ipykernel_launcher.py:38: RankWarning: Polyfit may be poorly conditioned\n",
      "/home/wwd/anaconda3/lib/python3.7/site-packages/ipykernel_launcher.py:38: RankWarning: Polyfit may be poorly conditioned\n"
     ]
    },
    {
     "name": "stdout",
     "output_type": "stream",
     "text": [
      "judge_distence = 1\n",
      "[{0: 1, 1: 2}, {0: 1, 1: 1}]\n",
      "feature[0][0]7.732735245834408\n",
      "max_time_standard1.127905\n",
      "内存泄漏： 两线程序列吻合度低，线程状态异常，为内存泄漏,且线程局部震荡较严重\n",
      "进行至序列号：2_18：\n",
      "judge_distence = 1\n",
      "[{0: 1, 1: 2}, {0: 1, 1: 1}]\n",
      "feature[0][0]10.327076971174591\n",
      "max_time_standard1.127905\n",
      "内存泄漏： 两线程序列吻合度低，线程状态异常，为内存泄漏,且线程局部震荡较严重\n",
      "进行至序列号：2_19：\n",
      "judge_distence = 1\n",
      "[{0: 1, 1: 2}, {0: 1, 1: 1}]\n",
      "feature[0][0]10.334035622541567\n",
      "max_time_standard1.127905\n",
      "内存泄漏： 两线程序列吻合度低，线程状态异常，为内存泄漏,且线程局部震荡较严重\n",
      "进行至序列号：2_20：\n",
      "judge_distence = 1\n",
      "[{0: 1, 1: 2}, {0: 1, 1: 1}]\n",
      "feature[0][0]10.272685194540896\n",
      "max_time_standard1.127905\n",
      "内存泄漏： 两线程序列吻合度低，线程状态异常，为内存泄漏,且线程局部震荡较严重\n",
      "进行至序列号：2_21：\n",
      "judge_distence = 2\n",
      "[{0: 2, 1: 2}, {0: 2, 1: 2}]\n",
      "judge_dataseries[0][0]:2\n",
      "feature[0][0]1.108984299311609\n",
      "min_time_standard0.845985\n",
      "judge_dataseries[0][0] 2\n",
      "feature[0][0] = 1.108984299311609\n",
      "正常： 两线程序列吻合度高，线程状态正常\n",
      "进行至序列号：2_22：\n",
      "judge_distence = 1\n",
      "[{0: 1, 1: 2}, {0: 1, 1: 1}]\n",
      "feature[0][0]11.007821814779902\n",
      "max_time_standard1.127905\n",
      "内存泄漏： 两线程序列吻合度低，线程状态异常，为内存泄漏,且线程局部震荡较严重\n",
      "进行至序列号：2_23：\n",
      "judge_distence = 1\n",
      "[{0: 1, 1: 2}, {0: 1, 1: 1}]\n",
      "feature[0][0]11.056467440210072\n",
      "max_time_standard1.127905\n",
      "内存泄漏： 两线程序列吻合度低，线程状态异常，为内存泄漏,且线程局部震荡较严重\n",
      "进行至序列号：2_24：\n",
      "judge_distence = 1\n",
      "[{0: 1, 1: 2}, {0: 1, 1: 1}]\n",
      "feature[0][0]11.044005434853673\n",
      "max_time_standard1.127905\n",
      "内存泄漏： 两线程序列吻合度低，线程状态异常，为内存泄漏,且线程局部震荡较严重\n",
      "进行至序列号：2_25：\n",
      "judge_distence = 1\n",
      "[{0: 1, 1: 2}, {0: 1, 1: 1}]\n",
      "feature[0][0]7.129248208293263\n",
      "max_time_standard1.127905\n",
      "内存泄漏： 两线程序列吻合度低，线程状态异常，为内存泄漏,且线程局部震荡较严重\n",
      "进行至序列号：2_26：\n",
      "judge_distence = 1\n",
      "[{0: 1, 1: 2}, {0: 1, 1: 1}]\n",
      "feature[0][0]10.137227380631142\n",
      "max_time_standard1.127905\n",
      "内存泄漏： 两线程序列吻合度低，线程状态异常，为内存泄漏,且线程局部震荡较严重\n",
      "进行至序列号：2_27：\n"
     ]
    },
    {
     "name": "stderr",
     "output_type": "stream",
     "text": [
      "/home/wwd/anaconda3/lib/python3.7/site-packages/ipykernel_launcher.py:38: RankWarning: Polyfit may be poorly conditioned\n",
      "/home/wwd/anaconda3/lib/python3.7/site-packages/ipykernel_launcher.py:38: RankWarning: Polyfit may be poorly conditioned\n"
     ]
    },
    {
     "name": "stdout",
     "output_type": "stream",
     "text": [
      "judge_distence = 1\n",
      "[{0: 1, 1: 2}, {0: 1, 1: 2}]\n",
      "feature[0][0]7.345288248139347\n",
      "max_time_standard1.127905\n",
      "内存泄漏： 两线程序列吻合度低，线程状态异常，为内存泄漏\n",
      "进行至序列号：2_28：\n",
      "judge_distence = 1\n",
      "[{0: 1, 1: 2}, {0: 1, 1: 1}]\n",
      "feature[0][0]9.651587335079174\n",
      "max_time_standard1.127905\n",
      "内存泄漏： 两线程序列吻合度低，线程状态异常，为内存泄漏,且线程局部震荡较严重\n",
      "进行至序列号：2_29：\n"
     ]
    },
    {
     "name": "stderr",
     "output_type": "stream",
     "text": [
      "/home/wwd/anaconda3/lib/python3.7/site-packages/ipykernel_launcher.py:38: RankWarning: Polyfit may be poorly conditioned\n",
      "/home/wwd/anaconda3/lib/python3.7/site-packages/ipykernel_launcher.py:38: RankWarning: Polyfit may be poorly conditioned\n"
     ]
    },
    {
     "name": "stdout",
     "output_type": "stream",
     "text": [
      "judge_distence = 1\n",
      "[{0: 1, 1: 2}, {0: 1, 1: 2}]\n",
      "feature[0][0]6.116358113112001\n",
      "max_time_standard1.127905\n",
      "内存泄漏： 两线程序列吻合度低，线程状态异常，为内存泄漏\n",
      "进行至序列号：2_30：\n",
      "judge_distence = 1\n",
      "[{0: 1, 1: 2}, {0: 1, 1: 1}]\n",
      "feature[0][0]10.46691969682741\n",
      "max_time_standard1.127905\n",
      "内存泄漏： 两线程序列吻合度低，线程状态异常，为内存泄漏,且线程局部震荡较严重\n"
     ]
    }
   ],
   "source": [
    "# 正常测试实验\n",
    "\n",
    "# 序列特征\n",
    "SeriesFeature1=[]\n",
    "# 序列结果\n",
    "SeriesResult1=[]\n",
    "\n",
    "def abnormal_lab():\n",
    "    \n",
    "    for i in abnormal:\n",
    "        title_times = \"进行至序列号：\"+str(i)+\"：\"\n",
    "        print(title_times)\n",
    "        x2 = abnormal[i]['time'].copy()[1:999]\n",
    "\n",
    "        y2 = abnormal[i]['heartrate'].copy()[1:999]\n",
    "        x2 = np.array(x2)\n",
    "        y2 = np.array(y2)\n",
    "        timeSeries1,timeSeries2 = align_data(x,y,x2,y2)\n",
    "\n",
    "        feature = similar_all(x,y,x2,y2,timeSeries1,timeSeries2)\n",
    "\n",
    "        SeriesFeature1.append(feature)\n",
    "        \n",
    "        check=judge(feature)\n",
    "        \n",
    "        SeriesResult1.append(check)\n",
    "    \n",
    "abnormal_lab()"
   ]
  },
  {
   "cell_type": "code",
   "execution_count": 19,
   "metadata": {},
   "outputs": [
    {
     "name": "stdout",
     "output_type": "stream",
     "text": [
      "准确率: 0.8666666666666667\n"
     ]
    }
   ],
   "source": [
    "def precisionRate1(result):\n",
    "    num=0\n",
    "    for i in result:\n",
    "        if i[0]==1:\n",
    "            num=num+1\n",
    "    print(\"准确率:\",(num/len(result)))\n",
    "precisionRate1(SeriesResult1)"
   ]
  },
  {
   "cell_type": "markdown",
   "metadata": {},
   "source": [
    "### 5.4 中断测试"
   ]
  },
  {
   "cell_type": "code",
   "execution_count": 20,
   "metadata": {},
   "outputs": [
    {
     "data": {
      "text/plain": [
       "30"
      ]
     },
     "execution_count": 20,
     "metadata": {},
     "output_type": "execute_result"
    }
   ],
   "source": [
    "# sp泄露数据\n",
    "shutdown = pd.read_excel('./data5_cg_string/cg_std_shut.xlsx',hearder=None,sheet_name=None)\n",
    "len(shutdown)"
   ]
  },
  {
   "cell_type": "code",
   "execution_count": 21,
   "metadata": {},
   "outputs": [
    {
     "name": "stdout",
     "output_type": "stream",
     "text": [
      "进行至序列号：3_1：\n",
      "judge_distence = 2\n",
      "[{0: 1, 1: 1}, {0: 1, 1: 1}]\n",
      "judge_dataseries[0][0]:1\n",
      "feature[0][0]0.12870748671301904\n",
      "min_time_standard0.845985\n",
      "judge_dataseries[0][0] 1\n",
      "feature[0][0] = 0.12870748671301904\n",
      "中断： 两线程序列吻合度低，线程状态异常，为中断执行,且线程局部震荡较严重\n",
      "进行至序列号：3_2：\n",
      "judge_distence = 2\n",
      "[{0: 1, 1: 2}, {0: 1, 1: 1}]\n",
      "judge_dataseries[0][0]:1\n",
      "feature[0][0]0.1355468197428311\n",
      "min_time_standard0.845985\n",
      "judge_dataseries[0][0] 1\n",
      "feature[0][0] = 0.1355468197428311\n",
      "中断： 两线程序列吻合度低，线程状态异常，为中断执行\n",
      "进行至序列号：3_3：\n",
      "judge_distence = 2\n",
      "[{0: 1, 1: 2}, {0: 1, 1: 1}]\n",
      "judge_dataseries[0][0]:1\n",
      "feature[0][0]0.13516791344175302\n",
      "min_time_standard0.845985\n",
      "judge_dataseries[0][0] 1\n",
      "feature[0][0] = 0.13516791344175302\n",
      "中断： 两线程序列吻合度低，线程状态异常，为中断执行\n",
      "进行至序列号：3_4：\n",
      "judge_distence = 2\n",
      "[{0: 1, 1: 2}, {0: 1, 1: 1}]\n",
      "judge_dataseries[0][0]:1\n",
      "feature[0][0]0.13670731315907408\n",
      "min_time_standard0.845985\n",
      "judge_dataseries[0][0] 1\n",
      "feature[0][0] = 0.13670731315907408\n",
      "中断： 两线程序列吻合度低，线程状态异常，为中断执行\n",
      "进行至序列号：3_5：\n",
      "judge_distence = 2\n",
      "[{0: 1, 1: 2}, {0: 1, 1: 1}]\n",
      "judge_dataseries[0][0]:1\n",
      "feature[0][0]0.1714518322422813\n",
      "min_time_standard0.845985\n",
      "judge_dataseries[0][0] 1\n",
      "feature[0][0] = 0.1714518322422813\n",
      "中断： 两线程序列吻合度低，线程状态异常，为中断执行\n",
      "进行至序列号：3_6：\n",
      "judge_distence = 2\n",
      "[{0: 1, 1: 2}, {0: 1, 1: 1}]\n",
      "judge_dataseries[0][0]:1\n",
      "feature[0][0]0.17254783729198786\n",
      "min_time_standard0.845985\n",
      "judge_dataseries[0][0] 1\n",
      "feature[0][0] = 0.17254783729198786\n",
      "中断： 两线程序列吻合度低，线程状态异常，为中断执行\n",
      "进行至序列号：3_7：\n",
      "judge_distence = 2\n",
      "[{0: 1, 1: 2}, {0: 1, 1: 1}]\n",
      "judge_dataseries[0][0]:1\n",
      "feature[0][0]0.17122968913635514\n",
      "min_time_standard0.845985\n",
      "judge_dataseries[0][0] 1\n",
      "feature[0][0] = 0.17122968913635514\n",
      "中断： 两线程序列吻合度低，线程状态异常，为中断执行\n",
      "进行至序列号：3_8：\n",
      "judge_distence = 2\n",
      "[{0: 1, 1: 2}, {0: 1, 1: 1}]\n",
      "judge_dataseries[0][0]:1\n",
      "feature[0][0]0.17195555473665566\n",
      "min_time_standard0.845985\n",
      "judge_dataseries[0][0] 1\n",
      "feature[0][0] = 0.17195555473665566\n",
      "中断： 两线程序列吻合度低，线程状态异常，为中断执行\n",
      "进行至序列号：3_9：\n",
      "judge_distence = 2\n",
      "[{0: 1, 1: 1}, {0: 1, 1: 1}]\n",
      "judge_dataseries[0][0]:1\n",
      "feature[0][0]0.12048834038445765\n",
      "min_time_standard0.845985\n",
      "judge_dataseries[0][0] 1\n",
      "feature[0][0] = 0.12048834038445765\n",
      "中断： 两线程序列吻合度低，线程状态异常，为中断执行,且线程局部震荡较严重\n",
      "进行至序列号：3_10：\n",
      "judge_distence = 2\n",
      "[{0: 1, 1: 1}, {0: 1, 1: 1}]\n",
      "judge_dataseries[0][0]:1\n",
      "feature[0][0]0.12242209983631248\n",
      "min_time_standard0.845985\n",
      "judge_dataseries[0][0] 1\n",
      "feature[0][0] = 0.12242209983631248\n",
      "中断： 两线程序列吻合度低，线程状态异常，为中断执行,且线程局部震荡较严重\n",
      "进行至序列号：3_11：\n",
      "judge_distence = 2\n",
      "[{0: 1, 1: 1}, {0: 1, 1: 1}]\n",
      "judge_dataseries[0][0]:1\n",
      "feature[0][0]0.1509464633628811\n",
      "min_time_standard0.845985\n",
      "judge_dataseries[0][0] 1\n",
      "feature[0][0] = 0.1509464633628811\n",
      "中断： 两线程序列吻合度低，线程状态异常，为中断执行,且线程局部震荡较严重\n",
      "进行至序列号：3_12：\n",
      "judge_distence = 2\n",
      "[{0: 1, 1: 1}, {0: 1, 1: 1}]\n",
      "judge_dataseries[0][0]:1\n",
      "feature[0][0]0.12472822759816794\n",
      "min_time_standard0.845985\n",
      "judge_dataseries[0][0] 1\n",
      "feature[0][0] = 0.12472822759816794\n",
      "中断： 两线程序列吻合度低，线程状态异常，为中断执行,且线程局部震荡较严重\n",
      "进行至序列号：3_13：\n",
      "judge_distence = 2\n",
      "[{0: 1, 1: 1}, {0: 1, 1: 1}]\n",
      "judge_dataseries[0][0]:1\n",
      "feature[0][0]0.1293217606928844\n",
      "min_time_standard0.845985\n",
      "judge_dataseries[0][0] 1\n",
      "feature[0][0] = 0.1293217606928844\n",
      "中断： 两线程序列吻合度低，线程状态异常，为中断执行,且线程局部震荡较严重\n",
      "进行至序列号：3_14：\n",
      "judge_distence = 2\n",
      "[{0: 1, 1: 2}, {0: 1, 1: 1}]\n",
      "judge_dataseries[0][0]:1\n",
      "feature[0][0]0.13444814006041103\n",
      "min_time_standard0.845985\n",
      "judge_dataseries[0][0] 1\n",
      "feature[0][0] = 0.13444814006041103\n",
      "中断： 两线程序列吻合度低，线程状态异常，为中断执行\n",
      "进行至序列号：3_15：\n",
      "judge_distence = 2\n",
      "[{0: 1, 1: 2}, {0: 1, 1: 1}]\n",
      "judge_dataseries[0][0]:1\n",
      "feature[0][0]0.1333848249660916\n",
      "min_time_standard0.845985\n",
      "judge_dataseries[0][0] 1\n",
      "feature[0][0] = 0.1333848249660916\n",
      "中断： 两线程序列吻合度低，线程状态异常，为中断执行\n",
      "进行至序列号：3_16：\n",
      "judge_distence = 2\n",
      "[{0: 1, 1: 1}, {0: 1, 1: 1}]\n",
      "judge_dataseries[0][0]:1\n",
      "feature[0][0]0.1298907145073267\n",
      "min_time_standard0.845985\n",
      "judge_dataseries[0][0] 1\n",
      "feature[0][0] = 0.1298907145073267\n",
      "中断： 两线程序列吻合度低，线程状态异常，为中断执行,且线程局部震荡较严重\n",
      "进行至序列号：3_17：\n",
      "judge_distence = 2\n",
      "[{0: 1, 1: 2}, {0: 1, 1: 1}]\n",
      "judge_dataseries[0][0]:1\n",
      "feature[0][0]0.20049908646433764\n",
      "min_time_standard0.845985\n",
      "judge_dataseries[0][0] 1\n",
      "feature[0][0] = 0.20049908646433764\n",
      "中断： 两线程序列吻合度低，线程状态异常，为中断执行\n",
      "进行至序列号：3_18：\n",
      "judge_distence = 2\n",
      "[{0: 1, 1: 2}, {0: 1, 1: 1}]\n",
      "judge_dataseries[0][0]:1\n",
      "feature[0][0]0.20397001677291893\n",
      "min_time_standard0.845985\n",
      "judge_dataseries[0][0] 1\n",
      "feature[0][0] = 0.20397001677291893\n",
      "中断： 两线程序列吻合度低，线程状态异常，为中断执行\n",
      "进行至序列号：3_19：\n",
      "judge_distence = 2\n",
      "[{0: 1, 1: 2}, {0: 1, 1: 1}]\n",
      "judge_dataseries[0][0]:1\n",
      "feature[0][0]0.20397863503388464\n",
      "min_time_standard0.845985\n",
      "judge_dataseries[0][0] 1\n",
      "feature[0][0] = 0.20397863503388464\n",
      "中断： 两线程序列吻合度低，线程状态异常，为中断执行\n",
      "进行至序列号：3_20：\n",
      "judge_distence = 2\n",
      "[{0: 1, 1: 2}, {0: 1, 1: 1}]\n",
      "judge_dataseries[0][0]:1\n",
      "feature[0][0]0.20054916153236246\n",
      "min_time_standard0.845985\n",
      "judge_dataseries[0][0] 1\n",
      "feature[0][0] = 0.20054916153236246\n",
      "中断： 两线程序列吻合度低，线程状态异常，为中断执行\n",
      "进行至序列号：3_21：\n",
      "judge_distence = 2\n",
      "[{0: 1, 1: 1}, {0: 1, 1: 1}]\n",
      "judge_dataseries[0][0]:1\n",
      "feature[0][0]0.12247024322515533\n",
      "min_time_standard0.845985\n",
      "judge_dataseries[0][0] 1\n",
      "feature[0][0] = 0.12247024322515533\n",
      "中断： 两线程序列吻合度低，线程状态异常，为中断执行,且线程局部震荡较严重\n",
      "进行至序列号：3_22：\n",
      "judge_distence = 2\n",
      "[{0: 1, 1: 2}, {0: 1, 1: 1}]\n",
      "judge_dataseries[0][0]:1\n",
      "feature[0][0]0.126532564544831\n",
      "min_time_standard0.845985\n",
      "judge_dataseries[0][0] 1\n",
      "feature[0][0] = 0.126532564544831\n",
      "中断： 两线程序列吻合度低，线程状态异常，为中断执行\n",
      "进行至序列号：3_23：\n",
      "judge_distence = 2\n",
      "[{0: 1, 1: 2}, {0: 1, 1: 1}]\n",
      "judge_dataseries[0][0]:1\n",
      "feature[0][0]0.1209425821736324\n",
      "min_time_standard0.845985\n",
      "judge_dataseries[0][0] 1\n",
      "feature[0][0] = 0.1209425821736324\n",
      "中断： 两线程序列吻合度低，线程状态异常，为中断执行\n",
      "进行至序列号：3_24：\n",
      "judge_distence = 2\n",
      "[{0: 1, 1: 2}, {0: 1, 1: 1}]\n",
      "judge_dataseries[0][0]:1\n",
      "feature[0][0]0.16214336744579708\n",
      "min_time_standard0.845985\n",
      "judge_dataseries[0][0] 1\n",
      "feature[0][0] = 0.16214336744579708\n",
      "中断： 两线程序列吻合度低，线程状态异常，为中断执行\n",
      "进行至序列号：3_25：\n",
      "judge_distence = 2\n",
      "[{0: 1, 1: 2}, {0: 1, 1: 1}]\n",
      "judge_dataseries[0][0]:1\n",
      "feature[0][0]0.16479110524144802\n",
      "min_time_standard0.845985\n",
      "judge_dataseries[0][0] 1\n",
      "feature[0][0] = 0.16479110524144802\n",
      "中断： 两线程序列吻合度低，线程状态异常，为中断执行\n",
      "进行至序列号：3_26：\n",
      "judge_distence = 2\n",
      "[{0: 1, 1: 2}, {0: 1, 1: 1}]\n",
      "judge_dataseries[0][0]:1\n",
      "feature[0][0]0.16461249921246926\n",
      "min_time_standard0.845985\n",
      "judge_dataseries[0][0] 1\n",
      "feature[0][0] = 0.16461249921246926\n",
      "中断： 两线程序列吻合度低，线程状态异常，为中断执行\n",
      "进行至序列号：3_27：\n",
      "judge_distence = 2\n",
      "[{0: 1, 1: 2}, {0: 1, 1: 1}]\n",
      "judge_dataseries[0][0]:1\n",
      "feature[0][0]0.169834868176269\n",
      "min_time_standard0.845985\n",
      "judge_dataseries[0][0] 1\n",
      "feature[0][0] = 0.169834868176269\n",
      "中断： 两线程序列吻合度低，线程状态异常，为中断执行\n",
      "进行至序列号：3_28：\n"
     ]
    },
    {
     "name": "stderr",
     "output_type": "stream",
     "text": [
      "/home/wwd/anaconda3/lib/python3.7/site-packages/ipykernel_launcher.py:38: RankWarning: Polyfit may be poorly conditioned\n",
      "/home/wwd/anaconda3/lib/python3.7/site-packages/ipykernel_launcher.py:38: RankWarning: Polyfit may be poorly conditioned\n"
     ]
    },
    {
     "name": "stdout",
     "output_type": "stream",
     "text": [
      "judge_distence = 2\n",
      "[{0: 1, 1: 1}, {0: 1, 1: 1}]\n",
      "judge_dataseries[0][0]:1\n",
      "feature[0][0]0.1513623687498291\n",
      "min_time_standard0.845985\n",
      "judge_dataseries[0][0] 1\n",
      "feature[0][0] = 0.1513623687498291\n",
      "中断： 两线程序列吻合度低，线程状态异常，为中断执行,且线程局部震荡较严重\n",
      "进行至序列号：3_29：\n",
      "judge_distence = 2\n",
      "[{0: 1, 1: 2}, {0: 1, 1: 1}]\n",
      "judge_dataseries[0][0]:1\n",
      "feature[0][0]0.15404027045885998\n",
      "min_time_standard0.845985\n",
      "judge_dataseries[0][0] 1\n",
      "feature[0][0] = 0.15404027045885998\n",
      "中断： 两线程序列吻合度低，线程状态异常，为中断执行\n",
      "进行至序列号：3_30：\n",
      "judge_distence = 2\n",
      "[{0: 1, 1: 2}, {0: 1, 1: 1}]\n",
      "judge_dataseries[0][0]:1\n",
      "feature[0][0]0.14999459129829049\n",
      "min_time_standard0.845985\n",
      "judge_dataseries[0][0] 1\n",
      "feature[0][0] = 0.14999459129829049\n",
      "中断： 两线程序列吻合度低，线程状态异常，为中断执行\n"
     ]
    }
   ],
   "source": [
    "# 中断测试实验\n",
    "\n",
    "# 序列特征\n",
    "SeriesFeature2=[]\n",
    "# 序列结果\n",
    "SeriesResult2=[]\n",
    "\n",
    "def shutdown_lab():\n",
    "    for i in shutdown:\n",
    "        title_times = \"进行至序列号：\"+str(i)+\"：\"\n",
    "        print(title_times)\n",
    "        x2 = shutdown[i]['time'].copy()[0:len(shutdown[i])]\n",
    "        y2 = shutdown[i]['heartrate'].copy()[0:len(shutdown[i])]\n",
    "        x2 = np.array(x2)\n",
    "        y2 = np.array(y2)\n",
    "        timeSeries1,timeSeries2 = align_data(x,y,x2,y2)\n",
    "\n",
    "        feature = similar_all(x,y,x2,y2,timeSeries1,timeSeries2)\n",
    "\n",
    "        SeriesFeature2.append(feature)\n",
    "        \n",
    "        check=judge(feature)\n",
    "        \n",
    "        SeriesResult2.append(check)\n",
    "\n",
    "    \n",
    "shutdown_lab()"
   ]
  },
  {
   "cell_type": "code",
   "execution_count": 22,
   "metadata": {},
   "outputs": [
    {
     "name": "stdout",
     "output_type": "stream",
     "text": [
      "准确率: 1.0\n"
     ]
    }
   ],
   "source": [
    "def precisionRate2(result):\n",
    "    num=0\n",
    "    for i in result:\n",
    "        if i[0]==2:\n",
    "            num=num+1\n",
    "    print(\"准确率:\",(num/len(result)))\n",
    "precisionRate2(SeriesResult2)"
   ]
  },
  {
   "cell_type": "markdown",
   "metadata": {},
   "source": [
    "### 5.5 总体"
   ]
  },
  {
   "cell_type": "code",
   "execution_count": 23,
   "metadata": {},
   "outputs": [],
   "source": [
    "# 总体预测和真实结果\n",
    "def resultValue():\n",
    "    Result_all_pre=[]\n",
    "    Result_all_true=[]\n",
    "    # 正常预测\n",
    "    for i in SeriesResult:\n",
    "        Result_all_pre.append(i[0])\n",
    "        Result_all_true.append(0)\n",
    "\n",
    "    # 内存泄漏预测\n",
    "    for i in SeriesResult1:\n",
    "        Result_all_pre.append(i[0])\n",
    "        Result_all_true.append(1)\n",
    "\n",
    "    # 中断预测    \n",
    "    for i in SeriesResult2:\n",
    "        Result_all_pre.append(i[0])\n",
    "        Result_all_true.append(2)\n",
    "    \n",
    "    return [Result_all_pre,Result_all_true]\n"
   ]
  },
  {
   "cell_type": "code",
   "execution_count": 24,
   "metadata": {},
   "outputs": [],
   "source": [
    "from sklearn.metrics import classification_report"
   ]
  },
  {
   "cell_type": "code",
   "execution_count": 25,
   "metadata": {
    "scrolled": true
   },
   "outputs": [
    {
     "ename": "IndexError",
     "evalue": "list index out of range",
     "output_type": "error",
     "traceback": [
      "\u001b[0;31m---------------------------------------------------------------------------\u001b[0m",
      "\u001b[0;31mIndexError\u001b[0m                                Traceback (most recent call last)",
      "\u001b[0;32m<ipython-input-25-9076a5c997c3>\u001b[0m in \u001b[0;36m<module>\u001b[0;34m\u001b[0m\n\u001b[1;32m      2\u001b[0m \u001b[0macc_num\u001b[0m\u001b[0;34m=\u001b[0m\u001b[0;36m0\u001b[0m\u001b[0;34m\u001b[0m\u001b[0;34m\u001b[0m\u001b[0m\n\u001b[1;32m      3\u001b[0m \u001b[0;32mfor\u001b[0m \u001b[0mi\u001b[0m \u001b[0;32min\u001b[0m \u001b[0mrange\u001b[0m\u001b[0;34m(\u001b[0m\u001b[0;36m0\u001b[0m\u001b[0;34m,\u001b[0m\u001b[0;36m100\u001b[0m\u001b[0;34m)\u001b[0m\u001b[0;34m:\u001b[0m\u001b[0;34m\u001b[0m\u001b[0;34m\u001b[0m\u001b[0m\n\u001b[0;32m----> 4\u001b[0;31m     \u001b[0;32mif\u001b[0m\u001b[0;34m(\u001b[0m\u001b[0mresultvalue\u001b[0m\u001b[0;34m[\u001b[0m\u001b[0;36m0\u001b[0m\u001b[0;34m]\u001b[0m\u001b[0;34m[\u001b[0m\u001b[0mi\u001b[0m\u001b[0;34m]\u001b[0m\u001b[0;34m==\u001b[0m\u001b[0mresultvalue\u001b[0m\u001b[0;34m[\u001b[0m\u001b[0;36m1\u001b[0m\u001b[0;34m]\u001b[0m\u001b[0;34m[\u001b[0m\u001b[0mi\u001b[0m\u001b[0;34m]\u001b[0m\u001b[0;34m)\u001b[0m\u001b[0;34m:\u001b[0m\u001b[0;34m\u001b[0m\u001b[0;34m\u001b[0m\u001b[0m\n\u001b[0m\u001b[1;32m      5\u001b[0m         \u001b[0macc_num\u001b[0m\u001b[0;34m=\u001b[0m\u001b[0macc_num\u001b[0m\u001b[0;34m+\u001b[0m\u001b[0;36m1\u001b[0m\u001b[0;34m\u001b[0m\u001b[0;34m\u001b[0m\u001b[0m\n\u001b[1;32m      6\u001b[0m \u001b[0;34m\u001b[0m\u001b[0m\n",
      "\u001b[0;31mIndexError\u001b[0m: list index out of range"
     ]
    }
   ],
   "source": [
    "resultvalue = resultValue()\n",
    "acc_num=0\n",
    "for i in range(0,100):\n",
    "    if(resultvalue[0][i]==resultvalue[1][i]):\n",
    "        acc_num=acc_num+1\n",
    "\n",
    "print(\"accuracy:\",acc_num/len(resultvalue[0]))\n",
    "\n",
    "print(classification_report(resultvalue[1], resultvalue[0], labels=[0, 1, 2]))"
   ]
  }
 ],
 "metadata": {
  "kernelspec": {
   "display_name": "Python 3",
   "language": "python",
   "name": "python3"
  },
  "language_info": {
   "codemirror_mode": {
    "name": "ipython",
    "version": 3
   },
   "file_extension": ".py",
   "mimetype": "text/x-python",
   "name": "python",
   "nbconvert_exporter": "python",
   "pygments_lexer": "ipython3",
   "version": "3.6.2"
  }
 },
 "nbformat": 4,
 "nbformat_minor": 2
}
